{
 "cells": [
  {
   "cell_type": "code",
   "execution_count": null,
   "metadata": {},
   "outputs": [],
   "source": [
    "from langchain.chains import LLMChain\n",
    "from langchain_core.prompts import PromptTemplate\n",
    "from langchain_openai import OpenAI\n",
    "from opentelemetry.exporter.otlp.proto.http.trace_exporter import OTLPSpanExporter\n",
    "from opentelemetry.sdk import trace as trace_sdk\n",
    "from opentelemetry.sdk.trace.export import ConsoleSpanExporter, SimpleSpanProcessor\n",
    "\n",
    "from openinference.instrumentation import using_attributes\n",
    "from openinference.instrumentation.langchain import LangChainInstrumentor\n",
    "\n",
    "from langchain_ollama import ChatOllama\n",
    "\n"
   ]
  },
  {
   "cell_type": "code",
   "execution_count": null,
   "metadata": {},
   "outputs": [],
   "source": [
    "\n",
    "endpoint = \"http://127.0.0.1:6006/v1/traces\"\n",
    "tracer_provider = trace_sdk.TracerProvider()\n",
    "tracer_provider.add_span_processor(SimpleSpanProcessor(OTLPSpanExporter(endpoint)))\n",
    "tracer_provider.add_span_processor(SimpleSpanProcessor(ConsoleSpanExporter()))\n",
    "\n",
    "LangChainInstrumentor().instrument(tracer_provider=tracer_provider)\n"
   ]
  },
  {
   "cell_type": "code",
   "execution_count": null,
   "metadata": {},
   "outputs": [],
   "source": [
    "\n",
    "import os\n",
    "import phoenix as px\n",
    "\n",
    "os.environ[\"PHOENIX_TRACING\"] = \"true\"\n",
    "px.launch_app()\n"
   ]
  },
  {
   "cell_type": "code",
   "execution_count": null,
   "metadata": {},
   "outputs": [],
   "source": [
    "\n",
    "\n",
    "if __name__ == \"__main__\":\n",
    "    with using_attributes(\n",
    "        session_id=\"my-test-session\",\n",
    "        user_id=\"my-test-user\",\n",
    "        metadata={\n",
    "            \"test-int\": 1,\n",
    "            \"test-str\": \"string\",\n",
    "            \"test-list\": [1, 2, 3],\n",
    "            \"test-dict\": {\n",
    "                \"key-1\": \"val-1\",\n",
    "                \"key-2\": \"val-2\",\n",
    "            },\n",
    "        },\n",
    "        prompt_template=\"Who won the soccer match in {city} on {date}\",\n",
    "        prompt_template_version=\"v1.0\",\n",
    "        prompt_template_variables={\n",
    "            \"city\": \"Johannesburg\",\n",
    "            \"date\": \"July 11th\",\n",
    "        },\n",
    "        tags=[\"tag-1\", \"tag-2\"],\n",
    "    ):\n",
    "        prompt_template = \"Tell me a {adjective} joke\"\n",
    "        prompt = PromptTemplate(input_variables=[\"adjective\"], template=prompt_template)\n",
    "\n",
    "        llmmodel = ChatOllama(model=\"llama3.2:latest\", temperature=0)\n",
    "        llm = LLMChain(llm=llmmodel, prompt=prompt, metadata={\"category\": \"jokes\"})\n",
    "        completion = llm.predict(adjective=\"funny\", metadata={\"variant\": \"funny\"})\n",
    "        print(completion)"
   ]
  }
 ],
 "metadata": {
  "kernelspec": {
   "display_name": "langchain_py311",
   "language": "python",
   "name": "python3"
  },
  "language_info": {
   "codemirror_mode": {
    "name": "ipython",
    "version": 3
   },
   "file_extension": ".py",
   "mimetype": "text/x-python",
   "name": "python",
   "nbconvert_exporter": "python",
   "pygments_lexer": "ipython3",
   "version": "3.11.10"
  }
 },
 "nbformat": 4,
 "nbformat_minor": 2
}
