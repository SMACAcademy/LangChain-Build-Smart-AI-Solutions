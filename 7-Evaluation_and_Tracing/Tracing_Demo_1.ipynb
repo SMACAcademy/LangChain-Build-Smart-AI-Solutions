{
 "cells": [
  {
   "cell_type": "code",
   "execution_count": null,
   "metadata": {},
   "outputs": [],
   "source": [
    "%pip install -U langsmith pydantic langchain_ollama\n"
   ]
  },
  {
   "cell_type": "code",
   "execution_count": 4,
   "metadata": {},
   "outputs": [],
   "source": [
    "from getpass import getpass\n",
    "import os\n",
    "\n",
    "os.environ[\"LANGSMITH_API_KEY\"] = getpass(\"Enter your LangSmith API Key: \")\n"
   ]
  },
  {
   "cell_type": "code",
   "execution_count": 5,
   "metadata": {},
   "outputs": [],
   "source": [
    "from langsmith import wrappers, Client\n",
    "from pydantic import BaseModel, Field\n",
    "from langchain_ollama import ChatOllama\n"
   ]
  },
  {
   "cell_type": "code",
   "execution_count": 6,
   "metadata": {},
   "outputs": [],
   "source": [
    "client = Client()\n",
    "\n",
    "# Define dataset examples\n",
    "examples = [\n",
    "    (\"Which country is Mount Kilimanjaro located in?\", \"Mount Kilimanjaro is in Tanzania.\"),\n",
    "    (\"What is Earth's lowest point?\", \"Earth's lowest point is The Dead Sea.\"),\n",
    "]\n",
    "\n",
    "# Format inputs and expected outputs\n",
    "inputs = [{\"question\": q} for q, _ in examples]\n",
    "outputs = [{\"answer\": a} for _, a in examples]\n",
    "\n",
    "# Create dataset in LangSmith\n",
    "dataset = client.create_dataset(dataset_name=\"Sample dataset\", description=\"A sample dataset for evaluation.\")\n",
    "client.create_examples(inputs=inputs, outputs=outputs, dataset_id=dataset.id)\n"
   ]
  },
  {
   "cell_type": "code",
   "execution_count": 7,
   "metadata": {},
   "outputs": [],
   "source": [
    "def target(inputs: dict) -> dict:\n",
    "    llm = ChatOllama(model=\"llama3.2:latest\")\n",
    "    \n",
    "    response = llm.invoke(f\"Answer this question accurately: {inputs['question']}\")\n",
    "    \n",
    "    return {\"response\": response}\n"
   ]
  },
  {
   "cell_type": "code",
   "execution_count": 10,
   "metadata": {},
   "outputs": [],
   "source": [
    "instructions = \"\"\"Evaluate Student Answer against Ground Truth for conceptual similarity and classify true or false:\n",
    "- False: No conceptual match and similarity.\n",
    "- True: Most or full conceptual match and similarity.\n",
    "- Key criteria: Concept should match, not exact wording.\n",
    "\"\"\"\n",
    "\n",
    "# Define output schema for the evaluation\n",
    "class Grade(BaseModel):\n",
    "    score: bool = Field(description=\"Indicates whether the response is conceptually accurate.\")\n",
    "\n",
    "# Define function to compare the LLM's response with the expected answer\n",
    "def accuracy(outputs: dict, reference_outputs: dict) -> bool:\n",
    "    llm = ChatOllama(model=\"llama3.2:latest\")\n",
    "    \n",
    "    evaluation_prompt = f\"\"\"\n",
    "    Ground Truth: {reference_outputs['answer']};\n",
    "    Student's Answer: {outputs['response']}\n",
    "    Evaluate the similarity as per the given criteria.\n",
    "    \"\"\"\n",
    "\n",
    "    response = llm.invoke(evaluation_prompt)\n",
    "\n",
    "    response_content = outputs[\"response\"].content if hasattr(outputs[\"response\"], \"content\") else str(outputs[\"response\"])\n",
    "\n",
    "    \n",
    "    return \"true\" in response_content.lower()  # Convert response into a boolean decision\n"
   ]
  },
  {
   "cell_type": "code",
   "execution_count": null,
   "metadata": {},
   "outputs": [],
   "source": [
    "experiment_results = client.evaluate(\n",
    "    target,\n",
    "    data=\"Sample dataset\",\n",
    "    evaluators=[accuracy],  # Adding accuracy function as evaluator\n",
    "    experiment_prefix=\"first-eval-in-langsmith\",\n",
    "    max_concurrency=2,\n",
    ")\n",
    "\n",
    "print(\"Experiment completed. View results in LangSmith UI.\")\n"
   ]
  }
 ],
 "metadata": {
  "kernelspec": {
   "display_name": "langchain_py311",
   "language": "python",
   "name": "python3"
  },
  "language_info": {
   "codemirror_mode": {
    "name": "ipython",
    "version": 3
   },
   "file_extension": ".py",
   "mimetype": "text/x-python",
   "name": "python",
   "nbconvert_exporter": "python",
   "pygments_lexer": "ipython3",
   "version": "3.11.10"
  }
 },
 "nbformat": 4,
 "nbformat_minor": 2
}
