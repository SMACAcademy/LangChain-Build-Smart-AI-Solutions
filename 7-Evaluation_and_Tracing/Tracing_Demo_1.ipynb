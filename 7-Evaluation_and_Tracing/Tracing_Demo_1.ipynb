{
 "cells": [
  {
   "cell_type": "code",
   "execution_count": 1,
   "metadata": {},
   "outputs": [
    {
     "name": "stdout",
     "output_type": "stream",
     "text": [
      "Requirement already satisfied: langsmith in c:\\users\\muthu\\.conda\\envs\\langchain_py311\\lib\\site-packages (0.3.4)\n",
      "Collecting langsmith\n",
      "  Downloading langsmith-0.3.5-py3-none-any.whl.metadata (14 kB)\n",
      "Requirement already satisfied: pydantic in c:\\users\\muthu\\.conda\\envs\\langchain_py311\\lib\\site-packages (2.10.6)\n",
      "Requirement already satisfied: langchain_ollama in c:\\users\\muthu\\.conda\\envs\\langchain_py311\\lib\\site-packages (0.2.3)\n",
      "Requirement already satisfied: httpx<1,>=0.23.0 in c:\\users\\muthu\\.conda\\envs\\langchain_py311\\lib\\site-packages (from langsmith) (0.27.2)\n",
      "Requirement already satisfied: orjson<4.0.0,>=3.9.14 in c:\\users\\muthu\\.conda\\envs\\langchain_py311\\lib\\site-packages (from langsmith) (3.10.11)\n",
      "Requirement already satisfied: requests<3,>=2 in c:\\users\\muthu\\.conda\\envs\\langchain_py311\\lib\\site-packages (from langsmith) (2.32.3)\n",
      "Requirement already satisfied: requests-toolbelt<2.0.0,>=1.0.0 in c:\\users\\muthu\\.conda\\envs\\langchain_py311\\lib\\site-packages (from langsmith) (1.0.0)\n",
      "Requirement already satisfied: zstandard<0.24.0,>=0.23.0 in c:\\users\\muthu\\.conda\\envs\\langchain_py311\\lib\\site-packages (from langsmith) (0.23.0)\n",
      "Requirement already satisfied: annotated-types>=0.6.0 in c:\\users\\muthu\\.conda\\envs\\langchain_py311\\lib\\site-packages (from pydantic) (0.7.0)\n",
      "Requirement already satisfied: pydantic-core==2.27.2 in c:\\users\\muthu\\.conda\\envs\\langchain_py311\\lib\\site-packages (from pydantic) (2.27.2)\n",
      "Requirement already satisfied: typing-extensions>=4.12.2 in c:\\users\\muthu\\.conda\\envs\\langchain_py311\\lib\\site-packages (from pydantic) (4.12.2)\n",
      "Requirement already satisfied: langchain-core<0.4.0,>=0.3.33 in c:\\users\\muthu\\.conda\\envs\\langchain_py311\\lib\\site-packages (from langchain_ollama) (0.3.33)\n",
      "Requirement already satisfied: ollama<1,>=0.4.4 in c:\\users\\muthu\\.conda\\envs\\langchain_py311\\lib\\site-packages (from langchain_ollama) (0.4.7)\n",
      "Requirement already satisfied: anyio in c:\\users\\muthu\\.conda\\envs\\langchain_py311\\lib\\site-packages (from httpx<1,>=0.23.0->langsmith) (4.6.2.post1)\n",
      "Requirement already satisfied: certifi in c:\\users\\muthu\\.conda\\envs\\langchain_py311\\lib\\site-packages (from httpx<1,>=0.23.0->langsmith) (2024.8.30)\n",
      "Requirement already satisfied: httpcore==1.* in c:\\users\\muthu\\.conda\\envs\\langchain_py311\\lib\\site-packages (from httpx<1,>=0.23.0->langsmith) (1.0.6)\n",
      "Requirement already satisfied: idna in c:\\users\\muthu\\.conda\\envs\\langchain_py311\\lib\\site-packages (from httpx<1,>=0.23.0->langsmith) (3.10)\n",
      "Requirement already satisfied: sniffio in c:\\users\\muthu\\.conda\\envs\\langchain_py311\\lib\\site-packages (from httpx<1,>=0.23.0->langsmith) (1.3.1)\n",
      "Requirement already satisfied: h11<0.15,>=0.13 in c:\\users\\muthu\\.conda\\envs\\langchain_py311\\lib\\site-packages (from httpcore==1.*->httpx<1,>=0.23.0->langsmith) (0.14.0)\n",
      "Requirement already satisfied: PyYAML>=5.3 in c:\\users\\muthu\\.conda\\envs\\langchain_py311\\lib\\site-packages (from langchain-core<0.4.0,>=0.3.33->langchain_ollama) (6.0.2)\n",
      "Requirement already satisfied: jsonpatch<2.0,>=1.33 in c:\\users\\muthu\\.conda\\envs\\langchain_py311\\lib\\site-packages (from langchain-core<0.4.0,>=0.3.33->langchain_ollama) (1.33)\n",
      "Requirement already satisfied: packaging<25,>=23.2 in c:\\users\\muthu\\.conda\\envs\\langchain_py311\\lib\\site-packages (from langchain-core<0.4.0,>=0.3.33->langchain_ollama) (23.2)\n",
      "Requirement already satisfied: tenacity!=8.4.0,<10.0.0,>=8.1.0 in c:\\users\\muthu\\.conda\\envs\\langchain_py311\\lib\\site-packages (from langchain-core<0.4.0,>=0.3.33->langchain_ollama) (8.5.0)\n",
      "Requirement already satisfied: charset-normalizer<4,>=2 in c:\\users\\muthu\\.conda\\envs\\langchain_py311\\lib\\site-packages (from requests<3,>=2->langsmith) (3.4.0)\n",
      "Requirement already satisfied: urllib3<3,>=1.21.1 in c:\\users\\muthu\\.conda\\envs\\langchain_py311\\lib\\site-packages (from requests<3,>=2->langsmith) (2.2.3)\n",
      "Requirement already satisfied: jsonpointer>=1.9 in c:\\users\\muthu\\.conda\\envs\\langchain_py311\\lib\\site-packages (from jsonpatch<2.0,>=1.33->langchain-core<0.4.0,>=0.3.33->langchain_ollama) (3.0.0)\n",
      "Downloading langsmith-0.3.5-py3-none-any.whl (333 kB)\n",
      "Installing collected packages: langsmith\n",
      "  Attempting uninstall: langsmith\n",
      "    Found existing installation: langsmith 0.3.4\n",
      "    Uninstalling langsmith-0.3.4:\n",
      "      Successfully uninstalled langsmith-0.3.4\n",
      "Successfully installed langsmith-0.3.5\n",
      "Note: you may need to restart the kernel to use updated packages.\n"
     ]
    },
    {
     "name": "stderr",
     "output_type": "stream",
     "text": [
      "ERROR: pip's dependency resolver does not currently take into account all the packages that are installed. This behaviour is the source of the following dependency conflicts.\n",
      "langchain-community 0.3.13 requires langsmith<0.3,>=0.1.125, but you have langsmith 0.3.5 which is incompatible.\n",
      "open-webui 0.3.35 requires aiohttp==3.10.8, but you have aiohttp 3.10.11 which is incompatible.\n",
      "open-webui 0.3.35 requires boto3==1.35.0, but you have boto3 1.34.69 which is incompatible.\n",
      "open-webui 0.3.35 requires chromadb==0.5.9, but you have chromadb 0.5.23 which is incompatible.\n",
      "open-webui 0.3.35 requires google-generativeai==0.7.2, but you have google-generativeai 0.5.4 which is incompatible.\n",
      "open-webui 0.3.35 requires langchain==0.2.15, but you have langchain 0.3.17 which is incompatible.\n",
      "open-webui 0.3.35 requires langchain-community==0.2.12, but you have langchain-community 0.3.13 which is incompatible.\n",
      "open-webui 0.3.35 requires pydantic==2.9.2, but you have pydantic 2.10.6 which is incompatible.\n",
      "open-webui 0.3.35 requires pymilvus==2.4.7, but you have pymilvus 2.5.3 which is incompatible.\n",
      "open-webui 0.3.35 requires pypdf==4.3.1, but you have pypdf 5.1.0 which is incompatible.\n"
     ]
    }
   ],
   "source": [
    "%pip install -U langsmith pydantic langchain_ollama\n"
   ]
  },
  {
   "cell_type": "code",
   "execution_count": 2,
   "metadata": {},
   "outputs": [],
   "source": [
    "from getpass import getpass\n",
    "import os\n",
    "\n",
    "os.environ[\"LANGSMITH_API_KEY\"] = getpass(\"Enter your LangSmith API Key: \")\n"
   ]
  },
  {
   "cell_type": "code",
   "execution_count": 3,
   "metadata": {},
   "outputs": [],
   "source": [
    "from langsmith import wrappers, Client\n",
    "from pydantic import BaseModel, Field\n",
    "from langchain_ollama import ChatOllama\n"
   ]
  },
  {
   "cell_type": "code",
   "execution_count": 4,
   "metadata": {},
   "outputs": [],
   "source": [
    "client = Client()\n",
    "\n",
    "# Define dataset examples\n",
    "examples = [\n",
    "    (\"Which country is Mount Kilimanjaro located in?\", \"Mount Kilimanjaro is in Tanzania.\"),\n",
    "    (\"What is Earth's lowest point?\", \"Earth's lowest point is The Dead Sea.\"),\n",
    "]\n",
    "\n",
    "# Format inputs and expected outputs\n",
    "inputs = [{\"question\": q} for q, _ in examples]\n",
    "outputs = [{\"answer\": a} for _, a in examples]\n",
    "\n",
    "# Create dataset in LangSmith\n",
    "dataset = client.create_dataset(dataset_name=\"Sample dataset 0502\", description=\"A sample dataset for evaluation.\")\n",
    "client.create_examples(inputs=inputs, outputs=outputs, dataset_id=dataset.id)\n"
   ]
  },
  {
   "cell_type": "code",
   "execution_count": 5,
   "metadata": {},
   "outputs": [],
   "source": [
    "def target(inputs: dict) -> dict:\n",
    "    llm = ChatOllama(model=\"llama3.2:latest\")\n",
    "    \n",
    "    response = llm.invoke(f\"Answer this question accurately: {inputs['question']}\")\n",
    "    \n",
    "    return {\"response\": response}\n"
   ]
  },
  {
   "cell_type": "code",
   "execution_count": 6,
   "metadata": {},
   "outputs": [],
   "source": [
    "instructions = \"\"\"Evaluate Student Answer against Ground Truth for conceptual similarity and classify true or false:\n",
    "- False: No conceptual match and similarity.\n",
    "- True: Most or full conceptual match and similarity.\n",
    "- Key criteria: Concept should match, not exact wording.\n",
    "\"\"\"\n",
    "\n",
    "# Define output schema for the evaluation\n",
    "class Grade(BaseModel):\n",
    "    score: bool = Field(description=\"Indicates whether the response is conceptually accurate.\")\n",
    "\n",
    "# Define function to compare the LLM's response with the expected answer\n",
    "def accuracy(outputs: dict, reference_outputs: dict) -> bool:\n",
    "    llm = ChatOllama(model=\"llama3.2:latest\")\n",
    "    \n",
    "    evaluation_prompt = f\"\"\"\n",
    "    Ground Truth: {reference_outputs['answer']};\n",
    "    Student's Answer: {outputs['response']}\n",
    "    Evaluate the similarity as per the given criteria.\n",
    "    \"\"\"\n",
    "\n",
    "    response = llm.invoke(evaluation_prompt)\n",
    "\n",
    "    response_content = outputs[\"response\"].content if hasattr(outputs[\"response\"], \"content\") else str(outputs[\"response\"])\n",
    "\n",
    "    \n",
    "    return \"true\" in response_content.lower()  # Convert response into a boolean decision\n"
   ]
  },
  {
   "cell_type": "code",
   "execution_count": 7,
   "metadata": {},
   "outputs": [
    {
     "name": "stdout",
     "output_type": "stream",
     "text": [
      "View the evaluation results for experiment: 'first-eval-in-langsmith-18df02be' at:\n",
      "https://smith.langchain.com/o/3dd11e5e-2f8e-4ba7-9b0b-724b6b4535ca/datasets/746d011c-cfbe-41fd-82da-fe9633e003fc/compare?selectedSessions=14df6477-58ac-4bae-aea2-7e6ae280d702\n",
      "\n",
      "\n"
     ]
    },
    {
     "data": {
      "application/vnd.jupyter.widget-view+json": {
       "model_id": "4f8f68306d92467889790b100f66b185",
       "version_major": 2,
       "version_minor": 0
      },
      "text/plain": [
       "0it [00:00, ?it/s]"
      ]
     },
     "metadata": {},
     "output_type": "display_data"
    },
    {
     "name": "stdout",
     "output_type": "stream",
     "text": [
      "Experiment completed. View results in LangSmith UI.\n"
     ]
    }
   ],
   "source": [
    "experiment_results = client.evaluate(\n",
    "    target,\n",
    "    data=\"Sample dataset 0502\",\n",
    "    evaluators=[accuracy],  # Adding accuracy function as evaluator\n",
    "    experiment_prefix=\"first-eval-in-langsmith\",\n",
    "    max_concurrency=2,\n",
    ")\n",
    "\n",
    "print(\"Experiment completed. View results in LangSmith UI.\")\n"
   ]
  }
 ],
 "metadata": {
  "kernelspec": {
   "display_name": "langchain_py311",
   "language": "python",
   "name": "python3"
  },
  "language_info": {
   "codemirror_mode": {
    "name": "ipython",
    "version": 3
   },
   "file_extension": ".py",
   "mimetype": "text/x-python",
   "name": "python",
   "nbconvert_exporter": "python",
   "pygments_lexer": "ipython3",
   "version": "3.11.10"
  }
 },
 "nbformat": 4,
 "nbformat_minor": 2
}
