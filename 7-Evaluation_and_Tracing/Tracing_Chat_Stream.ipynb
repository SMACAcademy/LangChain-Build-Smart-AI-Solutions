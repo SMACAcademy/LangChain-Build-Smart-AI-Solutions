{
 "cells": [
  {
   "cell_type": "code",
   "execution_count": 1,
   "metadata": {},
   "outputs": [],
   "source": [
    "from langchain_openai import ChatOpenAI\n",
    "from opentelemetry.exporter.otlp.proto.http.trace_exporter import OTLPSpanExporter\n",
    "from opentelemetry.sdk import trace as trace_sdk\n",
    "from opentelemetry.sdk.trace.export import ConsoleSpanExporter, SimpleSpanProcessor\n",
    "\n",
    "from openinference.instrumentation import using_attributes\n",
    "from openinference.instrumentation.langchain import LangChainInstrumentor"
   ]
  },
  {
   "cell_type": "code",
   "execution_count": 2,
   "metadata": {},
   "outputs": [],
   "source": [
    "import os\n",
    "from getpass import getpass\n",
    "\n",
    "if not (openai_api_key := os.getenv(\"OPENAI_API_KEY\")):\n",
    "    openai_api_key = getpass(\"🔑 Enter your OpenAI API key: \")\n",
    "\n",
    "os.environ[\"OPENAI_API_KEY\"] = openai_api_key"
   ]
  },
  {
   "cell_type": "code",
   "execution_count": 3,
   "metadata": {},
   "outputs": [],
   "source": [
    "endpoint = \"http://127.0.0.1:6006/v1/traces\"\n",
    "tracer_provider = trace_sdk.TracerProvider()\n",
    "tracer_provider.add_span_processor(SimpleSpanProcessor(OTLPSpanExporter(endpoint)))\n",
    "tracer_provider.add_span_processor(SimpleSpanProcessor(ConsoleSpanExporter()))\n",
    "\n",
    "LangChainInstrumentor().instrument(tracer_provider=tracer_provider)\n"
   ]
  },
  {
   "cell_type": "code",
   "execution_count": 4,
   "metadata": {},
   "outputs": [
    {
     "name": "stdout",
     "output_type": "stream",
     "text": [
      "Autumn leaves falling\n",
      "Whispers of the wind's embrace\n",
      "Nature's gentle dance{\n",
      "    \"name\": \"ChatOpenAI\",\n",
      "    \"context\": {\n",
      "        \"trace_id\": \"0xc87e48646b5bf45332866a7571630f7c\",\n",
      "        \"span_id\": \"0x3d427699e9c6518b\",\n",
      "        \"trace_state\": \"[]\"\n",
      "    },\n",
      "    \"kind\": \"SpanKind.INTERNAL\",\n",
      "    \"parent_id\": null,\n",
      "    \"start_time\": \"2025-02-05T17:54:43.329118Z\",\n",
      "    \"end_time\": \"2025-02-05T17:54:45.579004Z\",\n",
      "    \"status\": {\n",
      "        \"status_code\": \"OK\"\n",
      "    },\n",
      "    \"attributes\": {\n",
      "        \"session.id\": \"my-test-session\",\n",
      "        \"user.id\": \"my-test-user\",\n",
      "        \"tag.tags\": [\n",
      "            \"tag-1\",\n",
      "            \"tag-2\"\n",
      "        ],\n",
      "        \"llm.prompt_template.template\": \"Who won the soccer match in {city} on {date}\",\n",
      "        \"llm.prompt_template.version\": \"v1.0\",\n",
      "        \"llm.prompt_template.variables\": \"{\\\"city\\\": \\\"Johannesburg\\\", \\\"date\\\": \\\"July 11th\\\"}\",\n",
      "        \"input.value\": \"{\\\"messages\\\": [[{\\\"lc\\\": 1, \\\"type\\\": \\\"constructor\\\", \\\"id\\\": [\\\"langchain\\\", \\\"schema\\\", \\\"messages\\\", \\\"HumanMessage\\\"], \\\"kwargs\\\": {\\\"content\\\": \\\"Write a haiku.\\\", \\\"type\\\": \\\"human\\\"}}]]}\",\n",
      "        \"input.mime_type\": \"application/json\",\n",
      "        \"output.value\": \"{\\\"generations\\\": [[{\\\"text\\\": \\\"Autumn leaves falling\\\\nWhispers of the wind's embrace\\\\nNature's gentle dance\\\", \\\"generation_info\\\": {\\\"finish_reason\\\": \\\"stop\\\", \\\"model_name\\\": \\\"gpt-3.5-turbo-0125\\\"}, \\\"type\\\": \\\"ChatGenerationChunk\\\", \\\"message\\\": {\\\"lc\\\": 1, \\\"type\\\": \\\"constructor\\\", \\\"id\\\": [\\\"langchain\\\", \\\"schema\\\", \\\"messages\\\", \\\"AIMessageChunk\\\"], \\\"kwargs\\\": {\\\"content\\\": \\\"Autumn leaves falling\\\\nWhispers of the wind's embrace\\\\nNature's gentle dance\\\", \\\"response_metadata\\\": {\\\"finish_reason\\\": \\\"stop\\\", \\\"model_name\\\": \\\"gpt-3.5-turbo-0125\\\"}, \\\"type\\\": \\\"AIMessageChunk\\\", \\\"id\\\": \\\"run-67ac14a9-3404-4b19-afa3-d597d8de7937\\\", \\\"tool_calls\\\": [], \\\"invalid_tool_calls\\\": []}}}]], \\\"llm_output\\\": null, \\\"run\\\": null, \\\"type\\\": \\\"LLMResult\\\"}\",\n",
      "        \"output.mime_type\": \"application/json\",\n",
      "        \"llm.input_messages.0.message.role\": \"user\",\n",
      "        \"llm.input_messages.0.message.content\": \"Write a haiku.\",\n",
      "        \"llm.output_messages.0.message.role\": \"assistant\",\n",
      "        \"llm.output_messages.0.message.content\": \"Autumn leaves falling\\nWhispers of the wind's embrace\\nNature's gentle dance\",\n",
      "        \"llm.invocation_parameters\": \"{\\\"model\\\": \\\"gpt-3.5-turbo\\\", \\\"model_name\\\": \\\"gpt-3.5-turbo\\\", \\\"stream\\\": false, \\\"_type\\\": \\\"openai-chat\\\", \\\"stop\\\": null}\",\n",
      "        \"llm.model_name\": \"gpt-3.5-turbo\",\n",
      "        \"metadata\": \"{\\\"ls_provider\\\": \\\"openai\\\", \\\"ls_model_name\\\": \\\"gpt-3.5-turbo\\\", \\\"ls_model_type\\\": \\\"chat\\\", \\\"ls_temperature\\\": null}\",\n",
      "        \"openinference.span.kind\": \"LLM\"\n",
      "    },\n",
      "    \"events\": [],\n",
      "    \"links\": [],\n",
      "    \"resource\": {\n",
      "        \"attributes\": {\n",
      "            \"telemetry.sdk.language\": \"python\",\n",
      "            \"telemetry.sdk.name\": \"opentelemetry\",\n",
      "            \"telemetry.sdk.version\": \"1.29.0\",\n",
      "            \"service.name\": \"unknown_service\"\n",
      "        },\n",
      "        \"schema_url\": \"\"\n",
      "    }\n",
      "}\n"
     ]
    }
   ],
   "source": [
    "if __name__ == \"__main__\":\n",
    "    with using_attributes(\n",
    "        session_id=\"my-test-session\",\n",
    "        user_id=\"my-test-user\",\n",
    "        metadata={\n",
    "            \"test-int\": 1,\n",
    "            \"test-str\": \"string\",\n",
    "            \"test-list\": [1, 2, 3],\n",
    "            \"test-dict\": {\n",
    "                \"key-1\": \"val-1\",\n",
    "                \"key-2\": \"val-2\",\n",
    "            },\n",
    "        },\n",
    "        tags=[\"tag-1\", \"tag-2\"],\n",
    "        prompt_template=\"Who won the soccer match in {city} on {date}\",\n",
    "        prompt_template_version=\"v1.0\",\n",
    "        prompt_template_variables={\n",
    "            \"city\": \"Johannesburg\",\n",
    "            \"date\": \"July 11th\",\n",
    "        },\n",
    "    ):\n",
    "        for chunk in ChatOpenAI(model_name=\"gpt-3.5-turbo\").stream(\"Write a haiku.\"):\n",
    "            print(chunk.content, end=\"\", flush=True)"
   ]
  }
 ],
 "metadata": {
  "kernelspec": {
   "display_name": "langchain_py311",
   "language": "python",
   "name": "python3"
  },
  "language_info": {
   "codemirror_mode": {
    "name": "ipython",
    "version": 3
   },
   "file_extension": ".py",
   "mimetype": "text/x-python",
   "name": "python",
   "nbconvert_exporter": "python",
   "pygments_lexer": "ipython3",
   "version": "3.11.10"
  }
 },
 "nbformat": 4,
 "nbformat_minor": 2
}
