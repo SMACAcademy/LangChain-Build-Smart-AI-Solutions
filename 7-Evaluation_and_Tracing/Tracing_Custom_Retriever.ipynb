{
 "cells": [
  {
   "cell_type": "code",
   "execution_count": 1,
   "metadata": {},
   "outputs": [],
   "source": [
    "from typing import List\n",
    "\n",
    "from langchain_core.callbacks import CallbackManagerForRetrieverRun\n",
    "from langchain_core.retrievers import BaseRetriever, Document\n",
    "from opentelemetry.exporter.otlp.proto.http.trace_exporter import OTLPSpanExporter\n",
    "from opentelemetry.sdk import trace as trace_sdk\n",
    "from opentelemetry.sdk.trace.export import ConsoleSpanExporter, SimpleSpanProcessor\n",
    "\n",
    "from openinference.instrumentation.langchain import LangChainInstrumentor\n"
   ]
  },
  {
   "cell_type": "code",
   "execution_count": null,
   "metadata": {},
   "outputs": [],
   "source": [
    "import os\n",
    "import phoenix as px\n",
    "\n",
    "os.environ[\"PHOENIX_TRACING\"] = \"true\"\n",
    "px.launch_app()"
   ]
  },
  {
   "cell_type": "code",
   "execution_count": 2,
   "metadata": {},
   "outputs": [],
   "source": [
    "\n",
    "endpoint = \"http://127.0.0.1:6006/v1/traces\"\n",
    "tracer_provider = trace_sdk.TracerProvider()\n",
    "tracer_provider.add_span_processor(SimpleSpanProcessor(OTLPSpanExporter(endpoint)))\n",
    "tracer_provider.add_span_processor(SimpleSpanProcessor(ConsoleSpanExporter()))\n",
    "\n",
    "LangChainInstrumentor().instrument(tracer_provider=tracer_provider)\n"
   ]
  },
  {
   "cell_type": "code",
   "execution_count": null,
   "metadata": {},
   "outputs": [],
   "source": []
  },
  {
   "cell_type": "code",
   "execution_count": 3,
   "metadata": {},
   "outputs": [],
   "source": [
    "\n",
    "\n",
    "class CustomRetriever(BaseRetriever):\n",
    "    \"\"\"\n",
    "    This example is taken from langchain docs.\n",
    "\n",
    "    https://python.langchain.com/v0.1/docs/modules/data_connection/retrievers/custom_retriever/\n",
    "\n",
    "    A custom retriever that contains the top k documents that contain the user query.\n",
    "\n",
    "    This retriever only implements the sync method _get_relevant_documents.\n",
    "\n",
    "    If the retriever were to involve file access or network access, it could benefit\n",
    "    from a native async implementation of `_aget_relevant_documents`.\n",
    "\n",
    "    As usual, with Runnables, there's a default async implementation that's provided\n",
    "    that delegates to the sync implementation running on another thread.\n",
    "    \"\"\"\n",
    "\n",
    "    k: int\n",
    "    \"\"\"Number of top results to return\"\"\"\n",
    "\n",
    "    def _get_relevant_documents(\n",
    "        self, query: str, *, run_manager: CallbackManagerForRetrieverRun\n",
    "    ) -> List[Document]:\n",
    "        \"\"\"Sync implementations for retriever.\"\"\"\n",
    "        matching_documents: List[Document] = []\n",
    "\n",
    "        # Custom logic to find the top k documents that contain the query\n",
    "\n",
    "        for index in range(self.k):\n",
    "            matching_documents.append(Document(page_content=f\"dummy content at {index}\", score=1.0))\n",
    "        return matching_documents\n",
    "\n"
   ]
  },
  {
   "cell_type": "code",
   "execution_count": 4,
   "metadata": {},
   "outputs": [
    {
     "name": "stdout",
     "output_type": "stream",
     "text": [
      "{\n",
      "    \"name\": \"CustomRetriever\",\n",
      "    \"context\": {\n",
      "        \"trace_id\": \"0xda9bcad28a6ef6c1a930dc2f3c992e41\",\n",
      "        \"span_id\": \"0xdceb01fd75aaab0b\",\n",
      "        \"trace_state\": \"[]\"\n",
      "    },\n",
      "    \"kind\": \"SpanKind.INTERNAL\",\n",
      "    \"parent_id\": null,\n",
      "    \"start_time\": \"2025-02-06T06:34:26.789712Z\",\n",
      "    \"end_time\": \"2025-02-06T06:34:26.790748Z\",\n",
      "    \"status\": {\n",
      "        \"status_code\": \"OK\"\n",
      "    },\n",
      "    \"attributes\": {\n",
      "        \"input.value\": \"what is the meaning of life?\",\n",
      "        \"output.value\": \"{\\\"documents\\\": [\\\"page_content='dummy content at 0'\\\", \\\"page_content='dummy content at 1'\\\", \\\"page_content='dummy content at 2'\\\"]}\",\n",
      "        \"output.mime_type\": \"application/json\",\n",
      "        \"retrieval.documents.0.document.content\": \"dummy content at 0\",\n",
      "        \"retrieval.documents.1.document.content\": \"dummy content at 1\",\n",
      "        \"retrieval.documents.2.document.content\": \"dummy content at 2\",\n",
      "        \"metadata\": \"{\\\"ls_retriever_name\\\": \\\"custom\\\"}\",\n",
      "        \"openinference.span.kind\": \"RETRIEVER\"\n",
      "    },\n",
      "    \"events\": [],\n",
      "    \"links\": [],\n",
      "    \"resource\": {\n",
      "        \"attributes\": {\n",
      "            \"telemetry.sdk.language\": \"python\",\n",
      "            \"telemetry.sdk.name\": \"opentelemetry\",\n",
      "            \"telemetry.sdk.version\": \"1.29.0\",\n",
      "            \"service.name\": \"unknown_service\"\n",
      "        },\n",
      "        \"schema_url\": \"\"\n",
      "    }\n",
      "}\n"
     ]
    }
   ],
   "source": [
    "\n",
    "retriever = CustomRetriever(k=3)\n",
    "\n",
    "\n",
    "if __name__ == \"__main__\":\n",
    "    documents = retriever.invoke(\"what is the meaning of life?\")"
   ]
  }
 ],
 "metadata": {
  "kernelspec": {
   "display_name": "langchain_py311",
   "language": "python",
   "name": "python3"
  },
  "language_info": {
   "codemirror_mode": {
    "name": "ipython",
    "version": 3
   },
   "file_extension": ".py",
   "mimetype": "text/x-python",
   "name": "python",
   "nbconvert_exporter": "python",
   "pygments_lexer": "ipython3",
   "version": "3.11.10"
  }
 },
 "nbformat": 4,
 "nbformat_minor": 2
}
