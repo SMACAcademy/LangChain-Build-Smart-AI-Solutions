{
 "cells": [
  {
   "cell_type": "markdown",
   "metadata": {},
   "source": [
    "Load csv data with a single row per document."
   ]
  },
  {
   "cell_type": "code",
   "execution_count": 3,
   "metadata": {},
   "outputs": [],
   "source": [
    "from langchain_community.document_loaders.csv_loader import CSVLoader\n",
    "\n",
    "loader = CSVLoader(file_path=\"./example_data/mlb_teams_2012.csv\")\n",
    "\n",
    "data = loader.load()\n",
    "\n"
   ]
  },
  {
   "cell_type": "code",
   "execution_count": 4,
   "metadata": {},
   "outputs": [
    {
     "data": {
      "text/plain": [
       "[Document(metadata={'source': './example_data/mlb_teams_2012.csv', 'row': 0}, page_content='Team: Nationals\\n\"Payroll (millions)\": 81.34\\n\"Wins\": 98'),\n",
       " Document(metadata={'source': './example_data/mlb_teams_2012.csv', 'row': 1}, page_content='Team: Reds\\n\"Payroll (millions)\": 82.20\\n\"Wins\": 97'),\n",
       " Document(metadata={'source': './example_data/mlb_teams_2012.csv', 'row': 2}, page_content='Team: Yankees\\n\"Payroll (millions)\": 197.96\\n\"Wins\": 95'),\n",
       " Document(metadata={'source': './example_data/mlb_teams_2012.csv', 'row': 3}, page_content='Team: Giants\\n\"Payroll (millions)\": 117.62\\n\"Wins\": 94'),\n",
       " Document(metadata={'source': './example_data/mlb_teams_2012.csv', 'row': 4}, page_content='Team: Braves\\n\"Payroll (millions)\": 83.31\\n\"Wins\": 94'),\n",
       " Document(metadata={'source': './example_data/mlb_teams_2012.csv', 'row': 5}, page_content='Team: Athletics\\n\"Payroll (millions)\": 55.37\\n\"Wins\": 94'),\n",
       " Document(metadata={'source': './example_data/mlb_teams_2012.csv', 'row': 6}, page_content='Team: Rangers\\n\"Payroll (millions)\": 120.51\\n\"Wins\": 93'),\n",
       " Document(metadata={'source': './example_data/mlb_teams_2012.csv', 'row': 7}, page_content='Team: Orioles\\n\"Payroll (millions)\": 81.43\\n\"Wins\": 93'),\n",
       " Document(metadata={'source': './example_data/mlb_teams_2012.csv', 'row': 8}, page_content='Team: Rays\\n\"Payroll (millions)\": 64.17\\n\"Wins\": 90'),\n",
       " Document(metadata={'source': './example_data/mlb_teams_2012.csv', 'row': 9}, page_content='Team: Angels\\n\"Payroll (millions)\": 154.49\\n\"Wins\": 89'),\n",
       " Document(metadata={'source': './example_data/mlb_teams_2012.csv', 'row': 10}, page_content='Team: Tigers\\n\"Payroll (millions)\": 132.30\\n\"Wins\": 88'),\n",
       " Document(metadata={'source': './example_data/mlb_teams_2012.csv', 'row': 11}, page_content='Team: Cardinals\\n\"Payroll (millions)\": 110.30\\n\"Wins\": 88'),\n",
       " Document(metadata={'source': './example_data/mlb_teams_2012.csv', 'row': 12}, page_content='Team: Dodgers\\n\"Payroll (millions)\": 95.14\\n\"Wins\": 86'),\n",
       " Document(metadata={'source': './example_data/mlb_teams_2012.csv', 'row': 13}, page_content='Team: White Sox\\n\"Payroll (millions)\": 96.92\\n\"Wins\": 85'),\n",
       " Document(metadata={'source': './example_data/mlb_teams_2012.csv', 'row': 14}, page_content='Team: Brewers\\n\"Payroll (millions)\": 97.65\\n\"Wins\": 83'),\n",
       " Document(metadata={'source': './example_data/mlb_teams_2012.csv', 'row': 15}, page_content='Team: Phillies\\n\"Payroll (millions)\": 174.54\\n\"Wins\": 81'),\n",
       " Document(metadata={'source': './example_data/mlb_teams_2012.csv', 'row': 16}, page_content='Team: Diamondbacks\\n\"Payroll (millions)\": 74.28\\n\"Wins\": 81'),\n",
       " Document(metadata={'source': './example_data/mlb_teams_2012.csv', 'row': 17}, page_content='Team: Pirates\\n\"Payroll (millions)\": 63.43\\n\"Wins\": 79'),\n",
       " Document(metadata={'source': './example_data/mlb_teams_2012.csv', 'row': 18}, page_content='Team: Padres\\n\"Payroll (millions)\": 55.24\\n\"Wins\": 76'),\n",
       " Document(metadata={'source': './example_data/mlb_teams_2012.csv', 'row': 19}, page_content='Team: Mariners\\n\"Payroll (millions)\": 81.97\\n\"Wins\": 75'),\n",
       " Document(metadata={'source': './example_data/mlb_teams_2012.csv', 'row': 20}, page_content='Team: Mets\\n\"Payroll (millions)\": 93.35\\n\"Wins\": 74'),\n",
       " Document(metadata={'source': './example_data/mlb_teams_2012.csv', 'row': 21}, page_content='Team: Blue Jays\\n\"Payroll (millions)\": 75.48\\n\"Wins\": 73'),\n",
       " Document(metadata={'source': './example_data/mlb_teams_2012.csv', 'row': 22}, page_content='Team: Royals\\n\"Payroll (millions)\": 60.91\\n\"Wins\": 72'),\n",
       " Document(metadata={'source': './example_data/mlb_teams_2012.csv', 'row': 23}, page_content='Team: Marlins\\n\"Payroll (millions)\": 118.07\\n\"Wins\": 69'),\n",
       " Document(metadata={'source': './example_data/mlb_teams_2012.csv', 'row': 24}, page_content='Team: Red Sox\\n\"Payroll (millions)\": 173.18\\n\"Wins\": 69'),\n",
       " Document(metadata={'source': './example_data/mlb_teams_2012.csv', 'row': 25}, page_content='Team: Indians\\n\"Payroll (millions)\": 78.43\\n\"Wins\": 68'),\n",
       " Document(metadata={'source': './example_data/mlb_teams_2012.csv', 'row': 26}, page_content='Team: Twins\\n\"Payroll (millions)\": 94.08\\n\"Wins\": 66'),\n",
       " Document(metadata={'source': './example_data/mlb_teams_2012.csv', 'row': 27}, page_content='Team: Rockies\\n\"Payroll (millions)\": 78.06\\n\"Wins\": 64'),\n",
       " Document(metadata={'source': './example_data/mlb_teams_2012.csv', 'row': 28}, page_content='Team: Cubs\\n\"Payroll (millions)\": 88.19\\n\"Wins\": 61'),\n",
       " Document(metadata={'source': './example_data/mlb_teams_2012.csv', 'row': 29}, page_content='Team: Astros\\n\"Payroll (millions)\": 60.65\\n\"Wins\": 55')]"
      ]
     },
     "execution_count": 4,
     "metadata": {},
     "output_type": "execute_result"
    }
   ],
   "source": [
    "data"
   ]
  },
  {
   "cell_type": "markdown",
   "metadata": {},
   "source": [
    "Customizing the csv parsing and loading"
   ]
  },
  {
   "cell_type": "code",
   "execution_count": 5,
   "metadata": {},
   "outputs": [],
   "source": [
    "loader = CSVLoader(\n",
    "    file_path=\"./example_data/mlb_teams_2012.csv\",\n",
    "    csv_args={\n",
    "        \"delimiter\": \",\",\n",
    "        \"quotechar\": '\"',\n",
    "        \"fieldnames\": [\"MLB Team\", \"Payroll in millions\", \"Wins\"],\n",
    "    },\n",
    ")\n",
    "\n",
    "data = loader.load()\n",
    "\n"
   ]
  },
  {
   "cell_type": "code",
   "execution_count": 6,
   "metadata": {},
   "outputs": [
    {
     "data": {
      "text/plain": [
       "[Document(metadata={'source': './example_data/mlb_teams_2012.csv', 'row': 0}, page_content='MLB Team: Team\\nPayroll in millions: \"Payroll (millions)\"\\nWins: \"Wins\"'),\n",
       " Document(metadata={'source': './example_data/mlb_teams_2012.csv', 'row': 1}, page_content='MLB Team: Nationals\\nPayroll in millions: 81.34\\nWins: 98'),\n",
       " Document(metadata={'source': './example_data/mlb_teams_2012.csv', 'row': 2}, page_content='MLB Team: Reds\\nPayroll in millions: 82.20\\nWins: 97'),\n",
       " Document(metadata={'source': './example_data/mlb_teams_2012.csv', 'row': 3}, page_content='MLB Team: Yankees\\nPayroll in millions: 197.96\\nWins: 95'),\n",
       " Document(metadata={'source': './example_data/mlb_teams_2012.csv', 'row': 4}, page_content='MLB Team: Giants\\nPayroll in millions: 117.62\\nWins: 94'),\n",
       " Document(metadata={'source': './example_data/mlb_teams_2012.csv', 'row': 5}, page_content='MLB Team: Braves\\nPayroll in millions: 83.31\\nWins: 94'),\n",
       " Document(metadata={'source': './example_data/mlb_teams_2012.csv', 'row': 6}, page_content='MLB Team: Athletics\\nPayroll in millions: 55.37\\nWins: 94'),\n",
       " Document(metadata={'source': './example_data/mlb_teams_2012.csv', 'row': 7}, page_content='MLB Team: Rangers\\nPayroll in millions: 120.51\\nWins: 93'),\n",
       " Document(metadata={'source': './example_data/mlb_teams_2012.csv', 'row': 8}, page_content='MLB Team: Orioles\\nPayroll in millions: 81.43\\nWins: 93'),\n",
       " Document(metadata={'source': './example_data/mlb_teams_2012.csv', 'row': 9}, page_content='MLB Team: Rays\\nPayroll in millions: 64.17\\nWins: 90'),\n",
       " Document(metadata={'source': './example_data/mlb_teams_2012.csv', 'row': 10}, page_content='MLB Team: Angels\\nPayroll in millions: 154.49\\nWins: 89'),\n",
       " Document(metadata={'source': './example_data/mlb_teams_2012.csv', 'row': 11}, page_content='MLB Team: Tigers\\nPayroll in millions: 132.30\\nWins: 88'),\n",
       " Document(metadata={'source': './example_data/mlb_teams_2012.csv', 'row': 12}, page_content='MLB Team: Cardinals\\nPayroll in millions: 110.30\\nWins: 88'),\n",
       " Document(metadata={'source': './example_data/mlb_teams_2012.csv', 'row': 13}, page_content='MLB Team: Dodgers\\nPayroll in millions: 95.14\\nWins: 86'),\n",
       " Document(metadata={'source': './example_data/mlb_teams_2012.csv', 'row': 14}, page_content='MLB Team: White Sox\\nPayroll in millions: 96.92\\nWins: 85'),\n",
       " Document(metadata={'source': './example_data/mlb_teams_2012.csv', 'row': 15}, page_content='MLB Team: Brewers\\nPayroll in millions: 97.65\\nWins: 83'),\n",
       " Document(metadata={'source': './example_data/mlb_teams_2012.csv', 'row': 16}, page_content='MLB Team: Phillies\\nPayroll in millions: 174.54\\nWins: 81'),\n",
       " Document(metadata={'source': './example_data/mlb_teams_2012.csv', 'row': 17}, page_content='MLB Team: Diamondbacks\\nPayroll in millions: 74.28\\nWins: 81'),\n",
       " Document(metadata={'source': './example_data/mlb_teams_2012.csv', 'row': 18}, page_content='MLB Team: Pirates\\nPayroll in millions: 63.43\\nWins: 79'),\n",
       " Document(metadata={'source': './example_data/mlb_teams_2012.csv', 'row': 19}, page_content='MLB Team: Padres\\nPayroll in millions: 55.24\\nWins: 76'),\n",
       " Document(metadata={'source': './example_data/mlb_teams_2012.csv', 'row': 20}, page_content='MLB Team: Mariners\\nPayroll in millions: 81.97\\nWins: 75'),\n",
       " Document(metadata={'source': './example_data/mlb_teams_2012.csv', 'row': 21}, page_content='MLB Team: Mets\\nPayroll in millions: 93.35\\nWins: 74'),\n",
       " Document(metadata={'source': './example_data/mlb_teams_2012.csv', 'row': 22}, page_content='MLB Team: Blue Jays\\nPayroll in millions: 75.48\\nWins: 73'),\n",
       " Document(metadata={'source': './example_data/mlb_teams_2012.csv', 'row': 23}, page_content='MLB Team: Royals\\nPayroll in millions: 60.91\\nWins: 72'),\n",
       " Document(metadata={'source': './example_data/mlb_teams_2012.csv', 'row': 24}, page_content='MLB Team: Marlins\\nPayroll in millions: 118.07\\nWins: 69'),\n",
       " Document(metadata={'source': './example_data/mlb_teams_2012.csv', 'row': 25}, page_content='MLB Team: Red Sox\\nPayroll in millions: 173.18\\nWins: 69'),\n",
       " Document(metadata={'source': './example_data/mlb_teams_2012.csv', 'row': 26}, page_content='MLB Team: Indians\\nPayroll in millions: 78.43\\nWins: 68'),\n",
       " Document(metadata={'source': './example_data/mlb_teams_2012.csv', 'row': 27}, page_content='MLB Team: Twins\\nPayroll in millions: 94.08\\nWins: 66'),\n",
       " Document(metadata={'source': './example_data/mlb_teams_2012.csv', 'row': 28}, page_content='MLB Team: Rockies\\nPayroll in millions: 78.06\\nWins: 64'),\n",
       " Document(metadata={'source': './example_data/mlb_teams_2012.csv', 'row': 29}, page_content='MLB Team: Cubs\\nPayroll in millions: 88.19\\nWins: 61'),\n",
       " Document(metadata={'source': './example_data/mlb_teams_2012.csv', 'row': 30}, page_content='MLB Team: Astros\\nPayroll in millions: 60.65\\nWins: 55')]"
      ]
     },
     "execution_count": 6,
     "metadata": {},
     "output_type": "execute_result"
    }
   ],
   "source": [
    "data"
   ]
  },
  {
   "cell_type": "code",
   "execution_count": 7,
   "metadata": {},
   "outputs": [
    {
     "name": "stdout",
     "output_type": "stream",
     "text": [
      "[\n",
      "    {\n",
      "        \"page_content\": \"MLB Team: Team\\nPayroll in millions: \\\"Payroll (millions)\\\"\\nWins: \\\"Wins\\\"\",\n",
      "        \"metadata\": {\n",
      "            \"source\": \"./example_data/mlb_teams_2012.csv\",\n",
      "            \"row\": 0\n",
      "        }\n",
      "    },\n",
      "    {\n",
      "        \"page_content\": \"MLB Team: Nationals\\nPayroll in millions: 81.34\\nWins: 98\",\n",
      "        \"metadata\": {\n",
      "            \"source\": \"./example_data/mlb_teams_2012.csv\",\n",
      "            \"row\": 1\n",
      "        }\n",
      "    },\n",
      "    {\n",
      "        \"page_content\": \"MLB Team: Reds\\nPayroll in millions: 82.20\\nWins: 97\",\n",
      "        \"metadata\": {\n",
      "            \"source\": \"./example_data/mlb_teams_2012.csv\",\n",
      "            \"row\": 2\n",
      "        }\n",
      "    },\n",
      "    {\n",
      "        \"page_content\": \"MLB Team: Yankees\\nPayroll in millions: 197.96\\nWins: 95\",\n",
      "        \"metadata\": {\n",
      "            \"source\": \"./example_data/mlb_teams_2012.csv\",\n",
      "            \"row\": 3\n",
      "        }\n",
      "    },\n",
      "    {\n",
      "        \"page_content\": \"MLB Team: Giants\\nPayroll in millions: 117.62\\nWins: 94\",\n",
      "        \"metadata\": {\n",
      "            \"source\": \"./example_data/mlb_teams_2012.csv\",\n",
      "            \"row\": 4\n",
      "        }\n",
      "    },\n",
      "    {\n",
      "        \"page_content\": \"MLB Team: Braves\\nPayroll in millions: 83.31\\nWins: 94\",\n",
      "        \"metadata\": {\n",
      "            \"source\": \"./example_data/mlb_teams_2012.csv\",\n",
      "            \"row\": 5\n",
      "        }\n",
      "    },\n",
      "    {\n",
      "        \"page_content\": \"MLB Team: Athletics\\nPayroll in millions: 55.37\\nWins: 94\",\n",
      "        \"metadata\": {\n",
      "            \"source\": \"./example_data/mlb_teams_2012.csv\",\n",
      "            \"row\": 6\n",
      "        }\n",
      "    },\n",
      "    {\n",
      "        \"page_content\": \"MLB Team: Rangers\\nPayroll in millions: 120.51\\nWins: 93\",\n",
      "        \"metadata\": {\n",
      "            \"source\": \"./example_data/mlb_teams_2012.csv\",\n",
      "            \"row\": 7\n",
      "        }\n",
      "    },\n",
      "    {\n",
      "        \"page_content\": \"MLB Team: Orioles\\nPayroll in millions: 81.43\\nWins: 93\",\n",
      "        \"metadata\": {\n",
      "            \"source\": \"./example_data/mlb_teams_2012.csv\",\n",
      "            \"row\": 8\n",
      "        }\n",
      "    },\n",
      "    {\n",
      "        \"page_content\": \"MLB Team: Rays\\nPayroll in millions: 64.17\\nWins: 90\",\n",
      "        \"metadata\": {\n",
      "            \"source\": \"./example_data/mlb_teams_2012.csv\",\n",
      "            \"row\": 9\n",
      "        }\n",
      "    },\n",
      "    {\n",
      "        \"page_content\": \"MLB Team: Angels\\nPayroll in millions: 154.49\\nWins: 89\",\n",
      "        \"metadata\": {\n",
      "            \"source\": \"./example_data/mlb_teams_2012.csv\",\n",
      "            \"row\": 10\n",
      "        }\n",
      "    },\n",
      "    {\n",
      "        \"page_content\": \"MLB Team: Tigers\\nPayroll in millions: 132.30\\nWins: 88\",\n",
      "        \"metadata\": {\n",
      "            \"source\": \"./example_data/mlb_teams_2012.csv\",\n",
      "            \"row\": 11\n",
      "        }\n",
      "    },\n",
      "    {\n",
      "        \"page_content\": \"MLB Team: Cardinals\\nPayroll in millions: 110.30\\nWins: 88\",\n",
      "        \"metadata\": {\n",
      "            \"source\": \"./example_data/mlb_teams_2012.csv\",\n",
      "            \"row\": 12\n",
      "        }\n",
      "    },\n",
      "    {\n",
      "        \"page_content\": \"MLB Team: Dodgers\\nPayroll in millions: 95.14\\nWins: 86\",\n",
      "        \"metadata\": {\n",
      "            \"source\": \"./example_data/mlb_teams_2012.csv\",\n",
      "            \"row\": 13\n",
      "        }\n",
      "    },\n",
      "    {\n",
      "        \"page_content\": \"MLB Team: White Sox\\nPayroll in millions: 96.92\\nWins: 85\",\n",
      "        \"metadata\": {\n",
      "            \"source\": \"./example_data/mlb_teams_2012.csv\",\n",
      "            \"row\": 14\n",
      "        }\n",
      "    },\n",
      "    {\n",
      "        \"page_content\": \"MLB Team: Brewers\\nPayroll in millions: 97.65\\nWins: 83\",\n",
      "        \"metadata\": {\n",
      "            \"source\": \"./example_data/mlb_teams_2012.csv\",\n",
      "            \"row\": 15\n",
      "        }\n",
      "    },\n",
      "    {\n",
      "        \"page_content\": \"MLB Team: Phillies\\nPayroll in millions: 174.54\\nWins: 81\",\n",
      "        \"metadata\": {\n",
      "            \"source\": \"./example_data/mlb_teams_2012.csv\",\n",
      "            \"row\": 16\n",
      "        }\n",
      "    },\n",
      "    {\n",
      "        \"page_content\": \"MLB Team: Diamondbacks\\nPayroll in millions: 74.28\\nWins: 81\",\n",
      "        \"metadata\": {\n",
      "            \"source\": \"./example_data/mlb_teams_2012.csv\",\n",
      "            \"row\": 17\n",
      "        }\n",
      "    },\n",
      "    {\n",
      "        \"page_content\": \"MLB Team: Pirates\\nPayroll in millions: 63.43\\nWins: 79\",\n",
      "        \"metadata\": {\n",
      "            \"source\": \"./example_data/mlb_teams_2012.csv\",\n",
      "            \"row\": 18\n",
      "        }\n",
      "    },\n",
      "    {\n",
      "        \"page_content\": \"MLB Team: Padres\\nPayroll in millions: 55.24\\nWins: 76\",\n",
      "        \"metadata\": {\n",
      "            \"source\": \"./example_data/mlb_teams_2012.csv\",\n",
      "            \"row\": 19\n",
      "        }\n",
      "    },\n",
      "    {\n",
      "        \"page_content\": \"MLB Team: Mariners\\nPayroll in millions: 81.97\\nWins: 75\",\n",
      "        \"metadata\": {\n",
      "            \"source\": \"./example_data/mlb_teams_2012.csv\",\n",
      "            \"row\": 20\n",
      "        }\n",
      "    },\n",
      "    {\n",
      "        \"page_content\": \"MLB Team: Mets\\nPayroll in millions: 93.35\\nWins: 74\",\n",
      "        \"metadata\": {\n",
      "            \"source\": \"./example_data/mlb_teams_2012.csv\",\n",
      "            \"row\": 21\n",
      "        }\n",
      "    },\n",
      "    {\n",
      "        \"page_content\": \"MLB Team: Blue Jays\\nPayroll in millions: 75.48\\nWins: 73\",\n",
      "        \"metadata\": {\n",
      "            \"source\": \"./example_data/mlb_teams_2012.csv\",\n",
      "            \"row\": 22\n",
      "        }\n",
      "    },\n",
      "    {\n",
      "        \"page_content\": \"MLB Team: Royals\\nPayroll in millions: 60.91\\nWins: 72\",\n",
      "        \"metadata\": {\n",
      "            \"source\": \"./example_data/mlb_teams_2012.csv\",\n",
      "            \"row\": 23\n",
      "        }\n",
      "    },\n",
      "    {\n",
      "        \"page_content\": \"MLB Team: Marlins\\nPayroll in millions: 118.07\\nWins: 69\",\n",
      "        \"metadata\": {\n",
      "            \"source\": \"./example_data/mlb_teams_2012.csv\",\n",
      "            \"row\": 24\n",
      "        }\n",
      "    },\n",
      "    {\n",
      "        \"page_content\": \"MLB Team: Red Sox\\nPayroll in millions: 173.18\\nWins: 69\",\n",
      "        \"metadata\": {\n",
      "            \"source\": \"./example_data/mlb_teams_2012.csv\",\n",
      "            \"row\": 25\n",
      "        }\n",
      "    },\n",
      "    {\n",
      "        \"page_content\": \"MLB Team: Indians\\nPayroll in millions: 78.43\\nWins: 68\",\n",
      "        \"metadata\": {\n",
      "            \"source\": \"./example_data/mlb_teams_2012.csv\",\n",
      "            \"row\": 26\n",
      "        }\n",
      "    },\n",
      "    {\n",
      "        \"page_content\": \"MLB Team: Twins\\nPayroll in millions: 94.08\\nWins: 66\",\n",
      "        \"metadata\": {\n",
      "            \"source\": \"./example_data/mlb_teams_2012.csv\",\n",
      "            \"row\": 27\n",
      "        }\n",
      "    },\n",
      "    {\n",
      "        \"page_content\": \"MLB Team: Rockies\\nPayroll in millions: 78.06\\nWins: 64\",\n",
      "        \"metadata\": {\n",
      "            \"source\": \"./example_data/mlb_teams_2012.csv\",\n",
      "            \"row\": 28\n",
      "        }\n",
      "    },\n",
      "    {\n",
      "        \"page_content\": \"MLB Team: Cubs\\nPayroll in millions: 88.19\\nWins: 61\",\n",
      "        \"metadata\": {\n",
      "            \"source\": \"./example_data/mlb_teams_2012.csv\",\n",
      "            \"row\": 29\n",
      "        }\n",
      "    },\n",
      "    {\n",
      "        \"page_content\": \"MLB Team: Astros\\nPayroll in millions: 60.65\\nWins: 55\",\n",
      "        \"metadata\": {\n",
      "            \"source\": \"./example_data/mlb_teams_2012.csv\",\n",
      "            \"row\": 30\n",
      "        }\n",
      "    }\n",
      "]\n"
     ]
    }
   ],
   "source": [
    "# Convert the list of objects into a JSON-serializable format\n",
    "serializable_data = [\n",
    "    {\"page_content\": doc.page_content, \"metadata\": doc.metadata} for doc in data\n",
    "]\n",
    "\n",
    "# Pretty print using json.dumps\n",
    "import json\n",
    "print(json.dumps(serializable_data, indent=4))\n"
   ]
  },
  {
   "cell_type": "markdown",
   "metadata": {},
   "source": [
    "Specify a column to identify the document source\n"
   ]
  },
  {
   "cell_type": "code",
   "execution_count": 8,
   "metadata": {},
   "outputs": [],
   "source": [
    "loader = CSVLoader(file_path=\"./example_data/mlb_teams_2012.csv\", source_column=\"Team\")\n",
    "\n",
    "source_data = loader.load()\n",
    "\n"
   ]
  },
  {
   "cell_type": "code",
   "execution_count": 9,
   "metadata": {},
   "outputs": [
    {
     "data": {
      "text/plain": [
       "[Document(metadata={'source': 'Nationals', 'row': 0}, page_content='Team: Nationals\\n\"Payroll (millions)\": 81.34\\n\"Wins\": 98'),\n",
       " Document(metadata={'source': 'Reds', 'row': 1}, page_content='Team: Reds\\n\"Payroll (millions)\": 82.20\\n\"Wins\": 97'),\n",
       " Document(metadata={'source': 'Yankees', 'row': 2}, page_content='Team: Yankees\\n\"Payroll (millions)\": 197.96\\n\"Wins\": 95'),\n",
       " Document(metadata={'source': 'Giants', 'row': 3}, page_content='Team: Giants\\n\"Payroll (millions)\": 117.62\\n\"Wins\": 94'),\n",
       " Document(metadata={'source': 'Braves', 'row': 4}, page_content='Team: Braves\\n\"Payroll (millions)\": 83.31\\n\"Wins\": 94'),\n",
       " Document(metadata={'source': 'Athletics', 'row': 5}, page_content='Team: Athletics\\n\"Payroll (millions)\": 55.37\\n\"Wins\": 94'),\n",
       " Document(metadata={'source': 'Rangers', 'row': 6}, page_content='Team: Rangers\\n\"Payroll (millions)\": 120.51\\n\"Wins\": 93'),\n",
       " Document(metadata={'source': 'Orioles', 'row': 7}, page_content='Team: Orioles\\n\"Payroll (millions)\": 81.43\\n\"Wins\": 93'),\n",
       " Document(metadata={'source': 'Rays', 'row': 8}, page_content='Team: Rays\\n\"Payroll (millions)\": 64.17\\n\"Wins\": 90'),\n",
       " Document(metadata={'source': 'Angels', 'row': 9}, page_content='Team: Angels\\n\"Payroll (millions)\": 154.49\\n\"Wins\": 89'),\n",
       " Document(metadata={'source': 'Tigers', 'row': 10}, page_content='Team: Tigers\\n\"Payroll (millions)\": 132.30\\n\"Wins\": 88'),\n",
       " Document(metadata={'source': 'Cardinals', 'row': 11}, page_content='Team: Cardinals\\n\"Payroll (millions)\": 110.30\\n\"Wins\": 88'),\n",
       " Document(metadata={'source': 'Dodgers', 'row': 12}, page_content='Team: Dodgers\\n\"Payroll (millions)\": 95.14\\n\"Wins\": 86'),\n",
       " Document(metadata={'source': 'White Sox', 'row': 13}, page_content='Team: White Sox\\n\"Payroll (millions)\": 96.92\\n\"Wins\": 85'),\n",
       " Document(metadata={'source': 'Brewers', 'row': 14}, page_content='Team: Brewers\\n\"Payroll (millions)\": 97.65\\n\"Wins\": 83'),\n",
       " Document(metadata={'source': 'Phillies', 'row': 15}, page_content='Team: Phillies\\n\"Payroll (millions)\": 174.54\\n\"Wins\": 81'),\n",
       " Document(metadata={'source': 'Diamondbacks', 'row': 16}, page_content='Team: Diamondbacks\\n\"Payroll (millions)\": 74.28\\n\"Wins\": 81'),\n",
       " Document(metadata={'source': 'Pirates', 'row': 17}, page_content='Team: Pirates\\n\"Payroll (millions)\": 63.43\\n\"Wins\": 79'),\n",
       " Document(metadata={'source': 'Padres', 'row': 18}, page_content='Team: Padres\\n\"Payroll (millions)\": 55.24\\n\"Wins\": 76'),\n",
       " Document(metadata={'source': 'Mariners', 'row': 19}, page_content='Team: Mariners\\n\"Payroll (millions)\": 81.97\\n\"Wins\": 75'),\n",
       " Document(metadata={'source': 'Mets', 'row': 20}, page_content='Team: Mets\\n\"Payroll (millions)\": 93.35\\n\"Wins\": 74'),\n",
       " Document(metadata={'source': 'Blue Jays', 'row': 21}, page_content='Team: Blue Jays\\n\"Payroll (millions)\": 75.48\\n\"Wins\": 73'),\n",
       " Document(metadata={'source': 'Royals', 'row': 22}, page_content='Team: Royals\\n\"Payroll (millions)\": 60.91\\n\"Wins\": 72'),\n",
       " Document(metadata={'source': 'Marlins', 'row': 23}, page_content='Team: Marlins\\n\"Payroll (millions)\": 118.07\\n\"Wins\": 69'),\n",
       " Document(metadata={'source': 'Red Sox', 'row': 24}, page_content='Team: Red Sox\\n\"Payroll (millions)\": 173.18\\n\"Wins\": 69'),\n",
       " Document(metadata={'source': 'Indians', 'row': 25}, page_content='Team: Indians\\n\"Payroll (millions)\": 78.43\\n\"Wins\": 68'),\n",
       " Document(metadata={'source': 'Twins', 'row': 26}, page_content='Team: Twins\\n\"Payroll (millions)\": 94.08\\n\"Wins\": 66'),\n",
       " Document(metadata={'source': 'Rockies', 'row': 27}, page_content='Team: Rockies\\n\"Payroll (millions)\": 78.06\\n\"Wins\": 64'),\n",
       " Document(metadata={'source': 'Cubs', 'row': 28}, page_content='Team: Cubs\\n\"Payroll (millions)\": 88.19\\n\"Wins\": 61'),\n",
       " Document(metadata={'source': 'Astros', 'row': 29}, page_content='Team: Astros\\n\"Payroll (millions)\": 60.65\\n\"Wins\": 55')]"
      ]
     },
     "execution_count": 9,
     "metadata": {},
     "output_type": "execute_result"
    }
   ],
   "source": [
    "source_data"
   ]
  },
  {
   "cell_type": "markdown",
   "metadata": {},
   "source": [
    "UnstructuredCSVLoader"
   ]
  },
  {
   "cell_type": "code",
   "execution_count": null,
   "metadata": {},
   "outputs": [],
   "source": [
    "%pip install unstructured pandas\n"
   ]
  },
  {
   "cell_type": "code",
   "execution_count": 10,
   "metadata": {},
   "outputs": [
    {
     "name": "stdout",
     "output_type": "stream",
     "text": [
      "<table><tr><td>Team</td><td>\"Payroll (millions)\"</td><td>\"Wins\"</td></tr><tr><td>Nationals</td><td>81.34</td><td>98</td></tr><tr><td>Reds</td><td>82.20</td><td>97</td></tr><tr><td>Yankees</td><td>197.96</td><td>95</td></tr><tr><td>Giants</td><td>117.62</td><td>94</td></tr><tr><td>Braves</td><td>83.31</td><td>94</td></tr><tr><td>Athletics</td><td>55.37</td><td>94</td></tr><tr><td>Rangers</td><td>120.51</td><td>93</td></tr><tr><td>Orioles</td><td>81.43</td><td>93</td></tr><tr><td>Rays</td><td>64.17</td><td>90</td></tr><tr><td>Angels</td><td>154.49</td><td>89</td></tr><tr><td>Tigers</td><td>132.30</td><td>88</td></tr><tr><td>Cardinals</td><td>110.30</td><td>88</td></tr><tr><td>Dodgers</td><td>95.14</td><td>86</td></tr><tr><td>White Sox</td><td>96.92</td><td>85</td></tr><tr><td>Brewers</td><td>97.65</td><td>83</td></tr><tr><td>Phillies</td><td>174.54</td><td>81</td></tr><tr><td>Diamondbacks</td><td>74.28</td><td>81</td></tr><tr><td>Pirates</td><td>63.43</td><td>79</td></tr><tr><td>Padres</td><td>55.24</td><td>76</td></tr><tr><td>Mariners</td><td>81.97</td><td>75</td></tr><tr><td>Mets</td><td>93.35</td><td>74</td></tr><tr><td>Blue Jays</td><td>75.48</td><td>73</td></tr><tr><td>Royals</td><td>60.91</td><td>72</td></tr><tr><td>Marlins</td><td>118.07</td><td>69</td></tr><tr><td>Red Sox</td><td>173.18</td><td>69</td></tr><tr><td>Indians</td><td>78.43</td><td>68</td></tr><tr><td>Twins</td><td>94.08</td><td>66</td></tr><tr><td>Rockies</td><td>78.06</td><td>64</td></tr><tr><td>Cubs</td><td>88.19</td><td>61</td></tr><tr><td>Astros</td><td>60.65</td><td>55</td></tr></table>\n"
     ]
    }
   ],
   "source": [
    "from langchain_community.document_loaders.csv_loader import UnstructuredCSVLoader\n",
    "\n",
    "loader = UnstructuredCSVLoader(\n",
    "    file_path=\"example_data/mlb_teams_2012.csv\", mode=\"elements\"\n",
    ")\n",
    "docs = loader.load()\n",
    "\n",
    "html_content = docs[0].metadata[\"text_as_html\"]\n",
    "\n",
    "\n",
    "print(html_content)"
   ]
  },
  {
   "cell_type": "code",
   "execution_count": 12,
   "metadata": {},
   "outputs": [
    {
     "name": "stdout",
     "output_type": "stream",
     "text": [
      "           0                    1      2\n",
      "        Team \"Payroll (millions)\" \"Wins\"\n",
      "   Nationals                81.34     98\n",
      "        Reds                82.20     97\n",
      "     Yankees               197.96     95\n",
      "      Giants               117.62     94\n",
      "      Braves                83.31     94\n",
      "   Athletics                55.37     94\n",
      "     Rangers               120.51     93\n",
      "     Orioles                81.43     93\n",
      "        Rays                64.17     90\n",
      "      Angels               154.49     89\n",
      "      Tigers               132.30     88\n",
      "   Cardinals               110.30     88\n",
      "     Dodgers                95.14     86\n",
      "   White Sox                96.92     85\n",
      "     Brewers                97.65     83\n",
      "    Phillies               174.54     81\n",
      "Diamondbacks                74.28     81\n",
      "     Pirates                63.43     79\n",
      "      Padres                55.24     76\n",
      "    Mariners                81.97     75\n",
      "        Mets                93.35     74\n",
      "   Blue Jays                75.48     73\n",
      "      Royals                60.91     72\n",
      "     Marlins               118.07     69\n",
      "     Red Sox               173.18     69\n",
      "     Indians                78.43     68\n",
      "       Twins                94.08     66\n",
      "     Rockies                78.06     64\n",
      "        Cubs                88.19     61\n",
      "      Astros                60.65     55\n"
     ]
    },
    {
     "name": "stderr",
     "output_type": "stream",
     "text": [
      "C:\\Users\\Muthu\\AppData\\Local\\Temp\\ipykernel_15596\\3020583952.py:4: FutureWarning: Passing literal html to 'read_html' is deprecated and will be removed in a future version. To read from a literal string, wrap it in a 'StringIO' object.\n",
      "  df = pd.read_html(html_content)[0]\n"
     ]
    }
   ],
   "source": [
    "import pandas as pd\n",
    "\n",
    "# Use pandas to read the HTML table directly\n",
    "df = pd.read_html(html_content)[0]\n",
    "\n",
    "# Display the DataFrame\n",
    "print(df.to_string(index=False))"
   ]
  },
  {
   "cell_type": "markdown",
   "metadata": {},
   "source": [
    "Initialization"
   ]
  },
  {
   "cell_type": "code",
   "execution_count": 13,
   "metadata": {},
   "outputs": [
    {
     "name": "stdout",
     "output_type": "stream",
     "text": [
      "Note: you may need to restart the kernel to use updated packages.\n"
     ]
    }
   ],
   "source": [
    "%pip install -qU langchain_community jq \n"
   ]
  },
  {
   "cell_type": "code",
   "execution_count": 56,
   "metadata": {},
   "outputs": [],
   "source": [
    "from langchain_community.document_loaders import JSONLoader\n",
    "\n",
    "loader = JSONLoader(\n",
    "    file_path=\"./example_data/facebook_chat.json\",\n",
    "    jq_schema=\".messages[].content\",\n",
    "    text_content=False,\n",
    ")"
   ]
  },
  {
   "cell_type": "code",
   "execution_count": 14,
   "metadata": {},
   "outputs": [
    {
     "data": {
      "text/plain": [
       "[Document(metadata={'source': 'example_data/mlb_teams_2012.csv', 'file_directory': 'example_data', 'filename': 'mlb_teams_2012.csv', 'last_modified': '2025-01-05T08:34:00', 'text_as_html': '<table><tr><td>Team</td><td>\"Payroll (millions)\"</td><td>\"Wins\"</td></tr><tr><td>Nationals</td><td>81.34</td><td>98</td></tr><tr><td>Reds</td><td>82.20</td><td>97</td></tr><tr><td>Yankees</td><td>197.96</td><td>95</td></tr><tr><td>Giants</td><td>117.62</td><td>94</td></tr><tr><td>Braves</td><td>83.31</td><td>94</td></tr><tr><td>Athletics</td><td>55.37</td><td>94</td></tr><tr><td>Rangers</td><td>120.51</td><td>93</td></tr><tr><td>Orioles</td><td>81.43</td><td>93</td></tr><tr><td>Rays</td><td>64.17</td><td>90</td></tr><tr><td>Angels</td><td>154.49</td><td>89</td></tr><tr><td>Tigers</td><td>132.30</td><td>88</td></tr><tr><td>Cardinals</td><td>110.30</td><td>88</td></tr><tr><td>Dodgers</td><td>95.14</td><td>86</td></tr><tr><td>White Sox</td><td>96.92</td><td>85</td></tr><tr><td>Brewers</td><td>97.65</td><td>83</td></tr><tr><td>Phillies</td><td>174.54</td><td>81</td></tr><tr><td>Diamondbacks</td><td>74.28</td><td>81</td></tr><tr><td>Pirates</td><td>63.43</td><td>79</td></tr><tr><td>Padres</td><td>55.24</td><td>76</td></tr><tr><td>Mariners</td><td>81.97</td><td>75</td></tr><tr><td>Mets</td><td>93.35</td><td>74</td></tr><tr><td>Blue Jays</td><td>75.48</td><td>73</td></tr><tr><td>Royals</td><td>60.91</td><td>72</td></tr><tr><td>Marlins</td><td>118.07</td><td>69</td></tr><tr><td>Red Sox</td><td>173.18</td><td>69</td></tr><tr><td>Indians</td><td>78.43</td><td>68</td></tr><tr><td>Twins</td><td>94.08</td><td>66</td></tr><tr><td>Rockies</td><td>78.06</td><td>64</td></tr><tr><td>Cubs</td><td>88.19</td><td>61</td></tr><tr><td>Astros</td><td>60.65</td><td>55</td></tr></table>', 'languages': ['eng'], 'filetype': 'text/csv', 'category': 'Table', 'element_id': '7a76683272ef2c9fd94f1ffc17104485'}, page_content='Team \"Payroll (millions)\" \"Wins\" Nationals 81.34 98 Reds 82.20 97 Yankees 197.96 95 Giants 117.62 94 Braves 83.31 94 Athletics 55.37 94 Rangers 120.51 93 Orioles 81.43 93 Rays 64.17 90 Angels 154.49 89 Tigers 132.30 88 Cardinals 110.30 88 Dodgers 95.14 86 White Sox 96.92 85 Brewers 97.65 83 Phillies 174.54 81 Diamondbacks 74.28 81 Pirates 63.43 79 Padres 55.24 76 Mariners 81.97 75 Mets 93.35 74 Blue Jays 75.48 73 Royals 60.91 72 Marlins 118.07 69 Red Sox 173.18 69 Indians 78.43 68 Twins 94.08 66 Rockies 78.06 64 Cubs 88.19 61 Astros 60.65 55')]"
      ]
     },
     "execution_count": 14,
     "metadata": {},
     "output_type": "execute_result"
    }
   ],
   "source": [
    "json_docs = loader.load()\n",
    "json_docs"
   ]
  },
  {
   "cell_type": "code",
   "execution_count": 15,
   "metadata": {},
   "outputs": [
    {
     "data": {
      "text/plain": [
       "Document(metadata={'source': 'example_data/mlb_teams_2012.csv', 'file_directory': 'example_data', 'filename': 'mlb_teams_2012.csv', 'last_modified': '2025-01-05T08:34:00', 'text_as_html': '<table><tr><td>Team</td><td>\"Payroll (millions)\"</td><td>\"Wins\"</td></tr><tr><td>Nationals</td><td>81.34</td><td>98</td></tr><tr><td>Reds</td><td>82.20</td><td>97</td></tr><tr><td>Yankees</td><td>197.96</td><td>95</td></tr><tr><td>Giants</td><td>117.62</td><td>94</td></tr><tr><td>Braves</td><td>83.31</td><td>94</td></tr><tr><td>Athletics</td><td>55.37</td><td>94</td></tr><tr><td>Rangers</td><td>120.51</td><td>93</td></tr><tr><td>Orioles</td><td>81.43</td><td>93</td></tr><tr><td>Rays</td><td>64.17</td><td>90</td></tr><tr><td>Angels</td><td>154.49</td><td>89</td></tr><tr><td>Tigers</td><td>132.30</td><td>88</td></tr><tr><td>Cardinals</td><td>110.30</td><td>88</td></tr><tr><td>Dodgers</td><td>95.14</td><td>86</td></tr><tr><td>White Sox</td><td>96.92</td><td>85</td></tr><tr><td>Brewers</td><td>97.65</td><td>83</td></tr><tr><td>Phillies</td><td>174.54</td><td>81</td></tr><tr><td>Diamondbacks</td><td>74.28</td><td>81</td></tr><tr><td>Pirates</td><td>63.43</td><td>79</td></tr><tr><td>Padres</td><td>55.24</td><td>76</td></tr><tr><td>Mariners</td><td>81.97</td><td>75</td></tr><tr><td>Mets</td><td>93.35</td><td>74</td></tr><tr><td>Blue Jays</td><td>75.48</td><td>73</td></tr><tr><td>Royals</td><td>60.91</td><td>72</td></tr><tr><td>Marlins</td><td>118.07</td><td>69</td></tr><tr><td>Red Sox</td><td>173.18</td><td>69</td></tr><tr><td>Indians</td><td>78.43</td><td>68</td></tr><tr><td>Twins</td><td>94.08</td><td>66</td></tr><tr><td>Rockies</td><td>78.06</td><td>64</td></tr><tr><td>Cubs</td><td>88.19</td><td>61</td></tr><tr><td>Astros</td><td>60.65</td><td>55</td></tr></table>', 'languages': ['eng'], 'filetype': 'text/csv', 'category': 'Table', 'element_id': '7a76683272ef2c9fd94f1ffc17104485'}, page_content='Team \"Payroll (millions)\" \"Wins\" Nationals 81.34 98 Reds 82.20 97 Yankees 197.96 95 Giants 117.62 94 Braves 83.31 94 Athletics 55.37 94 Rangers 120.51 93 Orioles 81.43 93 Rays 64.17 90 Angels 154.49 89 Tigers 132.30 88 Cardinals 110.30 88 Dodgers 95.14 86 White Sox 96.92 85 Brewers 97.65 83 Phillies 174.54 81 Diamondbacks 74.28 81 Pirates 63.43 79 Padres 55.24 76 Mariners 81.97 75 Mets 93.35 74 Blue Jays 75.48 73 Royals 60.91 72 Marlins 118.07 69 Red Sox 173.18 69 Indians 78.43 68 Twins 94.08 66 Rockies 78.06 64 Cubs 88.19 61 Astros 60.65 55')"
      ]
     },
     "execution_count": 15,
     "metadata": {},
     "output_type": "execute_result"
    }
   ],
   "source": [
    "json_docs[0]"
   ]
  },
  {
   "cell_type": "code",
   "execution_count": 16,
   "metadata": {},
   "outputs": [
    {
     "data": {
      "text/plain": [
       "{'source': 'example_data/mlb_teams_2012.csv',\n",
       " 'file_directory': 'example_data',\n",
       " 'filename': 'mlb_teams_2012.csv',\n",
       " 'last_modified': '2025-01-05T08:34:00',\n",
       " 'text_as_html': '<table><tr><td>Team</td><td>\"Payroll (millions)\"</td><td>\"Wins\"</td></tr><tr><td>Nationals</td><td>81.34</td><td>98</td></tr><tr><td>Reds</td><td>82.20</td><td>97</td></tr><tr><td>Yankees</td><td>197.96</td><td>95</td></tr><tr><td>Giants</td><td>117.62</td><td>94</td></tr><tr><td>Braves</td><td>83.31</td><td>94</td></tr><tr><td>Athletics</td><td>55.37</td><td>94</td></tr><tr><td>Rangers</td><td>120.51</td><td>93</td></tr><tr><td>Orioles</td><td>81.43</td><td>93</td></tr><tr><td>Rays</td><td>64.17</td><td>90</td></tr><tr><td>Angels</td><td>154.49</td><td>89</td></tr><tr><td>Tigers</td><td>132.30</td><td>88</td></tr><tr><td>Cardinals</td><td>110.30</td><td>88</td></tr><tr><td>Dodgers</td><td>95.14</td><td>86</td></tr><tr><td>White Sox</td><td>96.92</td><td>85</td></tr><tr><td>Brewers</td><td>97.65</td><td>83</td></tr><tr><td>Phillies</td><td>174.54</td><td>81</td></tr><tr><td>Diamondbacks</td><td>74.28</td><td>81</td></tr><tr><td>Pirates</td><td>63.43</td><td>79</td></tr><tr><td>Padres</td><td>55.24</td><td>76</td></tr><tr><td>Mariners</td><td>81.97</td><td>75</td></tr><tr><td>Mets</td><td>93.35</td><td>74</td></tr><tr><td>Blue Jays</td><td>75.48</td><td>73</td></tr><tr><td>Royals</td><td>60.91</td><td>72</td></tr><tr><td>Marlins</td><td>118.07</td><td>69</td></tr><tr><td>Red Sox</td><td>173.18</td><td>69</td></tr><tr><td>Indians</td><td>78.43</td><td>68</td></tr><tr><td>Twins</td><td>94.08</td><td>66</td></tr><tr><td>Rockies</td><td>78.06</td><td>64</td></tr><tr><td>Cubs</td><td>88.19</td><td>61</td></tr><tr><td>Astros</td><td>60.65</td><td>55</td></tr></table>',\n",
       " 'languages': ['eng'],\n",
       " 'filetype': 'text/csv',\n",
       " 'category': 'Table',\n",
       " 'element_id': '7a76683272ef2c9fd94f1ffc17104485'}"
      ]
     },
     "execution_count": 16,
     "metadata": {},
     "output_type": "execute_result"
    }
   ],
   "source": [
    "json_docs[0].metadata\n"
   ]
  },
  {
   "cell_type": "code",
   "execution_count": 17,
   "metadata": {},
   "outputs": [
    {
     "data": {
      "text/plain": [
       "'Team \"Payroll (millions)\" \"Wins\" Nationals 81.34 98 Reds 82.20 97 Yankees 197.96 95 Giants 117.62 94 Braves 83.31 94 Athletics 55.37 94 Rangers 120.51 93 Orioles 81.43 93 Rays 64.17 90 Angels 154.49 89 Tigers 132.30 88 Cardinals 110.30 88 Dodgers 95.14 86 White Sox 96.92 85 Brewers 97.65 83 Phillies 174.54 81 Diamondbacks 74.28 81 Pirates 63.43 79 Padres 55.24 76 Mariners 81.97 75 Mets 93.35 74 Blue Jays 75.48 73 Royals 60.91 72 Marlins 118.07 69 Red Sox 173.18 69 Indians 78.43 68 Twins 94.08 66 Rockies 78.06 64 Cubs 88.19 61 Astros 60.65 55'"
      ]
     },
     "execution_count": 17,
     "metadata": {},
     "output_type": "execute_result"
    }
   ],
   "source": [
    "json_docs[0].page_content"
   ]
  },
  {
   "cell_type": "markdown",
   "metadata": {},
   "source": [
    "Read from JSON Lines file\n"
   ]
  },
  {
   "cell_type": "code",
   "execution_count": 20,
   "metadata": {},
   "outputs": [],
   "source": [
    "from langchain_community.document_loaders import JSONLoader\n",
    "\n",
    "loader = JSONLoader(\n",
    "    file_path=\"./example_data/facebook_chat_messages.jsonl\",\n",
    "    jq_schema=\".content\",\n",
    "    text_content=False,\n",
    "    json_lines=True,\n",
    ")\n",
    "\n",
    "jsnol_docs = loader.load()\n"
   ]
  },
  {
   "cell_type": "code",
   "execution_count": 21,
   "metadata": {},
   "outputs": [
    {
     "data": {
      "text/plain": [
       "[Document(metadata={'source': 'E:\\\\Learn2\\\\workspace2\\\\git_area\\\\Mastering-LangChain\\\\3-Integration\\\\1-Doc-Loader\\\\example_data\\\\facebook_chat_messages.jsonl', 'seq_num': 1}, page_content='Bye!'),\n",
       " Document(metadata={'source': 'E:\\\\Learn2\\\\workspace2\\\\git_area\\\\Mastering-LangChain\\\\3-Integration\\\\1-Doc-Loader\\\\example_data\\\\facebook_chat_messages.jsonl', 'seq_num': 2}, page_content='Oh no worries! Bye'),\n",
       " Document(metadata={'source': 'E:\\\\Learn2\\\\workspace2\\\\git_area\\\\Mastering-LangChain\\\\3-Integration\\\\1-Doc-Loader\\\\example_data\\\\facebook_chat_messages.jsonl', 'seq_num': 3}, page_content='No Im sorry it was my mistake, the blue one is not for sale')]"
      ]
     },
     "execution_count": 21,
     "metadata": {},
     "output_type": "execute_result"
    }
   ],
   "source": [
    "jsnol_docs"
   ]
  },
  {
   "cell_type": "markdown",
   "metadata": {},
   "source": [
    "Read specific content keys\n"
   ]
  },
  {
   "cell_type": "code",
   "execution_count": 22,
   "metadata": {},
   "outputs": [],
   "source": [
    "loader = JSONLoader(\n",
    "    file_path=\"./example_data/facebook_chat_messages.jsonl\",\n",
    "    jq_schema=\".\",\n",
    "    content_key=\"sender_name\",\n",
    "    json_lines=True,\n",
    ")\n",
    "\n",
    "jsonl_key_docs = loader.load()\n"
   ]
  },
  {
   "cell_type": "code",
   "execution_count": 23,
   "metadata": {},
   "outputs": [
    {
     "data": {
      "text/plain": [
       "[Document(metadata={'source': 'E:\\\\Learn2\\\\workspace2\\\\git_area\\\\Mastering-LangChain\\\\3-Integration\\\\1-Doc-Loader\\\\example_data\\\\facebook_chat_messages.jsonl', 'seq_num': 1}, page_content='User 2'),\n",
       " Document(metadata={'source': 'E:\\\\Learn2\\\\workspace2\\\\git_area\\\\Mastering-LangChain\\\\3-Integration\\\\1-Doc-Loader\\\\example_data\\\\facebook_chat_messages.jsonl', 'seq_num': 2}, page_content='User 1'),\n",
       " Document(metadata={'source': 'E:\\\\Learn2\\\\workspace2\\\\git_area\\\\Mastering-LangChain\\\\3-Integration\\\\1-Doc-Loader\\\\example_data\\\\facebook_chat_messages.jsonl', 'seq_num': 3}, page_content='User 2')]"
      ]
     },
     "execution_count": 23,
     "metadata": {},
     "output_type": "execute_result"
    }
   ],
   "source": [
    "jsonl_key_docs"
   ]
  },
  {
   "cell_type": "code",
   "execution_count": null,
   "metadata": {},
   "outputs": [],
   "source": [
    "print(jsonl_key_docs[0])"
   ]
  },
  {
   "cell_type": "code",
   "execution_count": 24,
   "metadata": {},
   "outputs": [
    {
     "name": "stdout",
     "output_type": "stream",
     "text": [
      "{'source': 'E:\\\\Learn2\\\\workspace2\\\\git_area\\\\Mastering-LangChain\\\\3-Integration\\\\1-Doc-Loader\\\\example_data\\\\facebook_chat.json', 'seq_num': 1, 'sender_name': 'User 2', 'timestamp_ms': 1675597571851}\n"
     ]
    }
   ],
   "source": [
    "# Define the metadata extraction function.\n",
    "def metadata_func(record: dict, metadata: dict) -> dict:\n",
    "    metadata[\"sender_name\"] = record.get(\"sender_name\")\n",
    "    metadata[\"timestamp_ms\"] = record.get(\"timestamp_ms\")\n",
    "\n",
    "    return metadata\n",
    "\n",
    "\n",
    "loader = JSONLoader(\n",
    "    file_path=\"./example_data/facebook_chat.json\",\n",
    "    jq_schema=\".messages[]\",\n",
    "    content_key=\"content\",\n",
    "    metadata_func=metadata_func,\n",
    ")\n",
    "\n",
    "docs = loader.load()\n",
    "print(docs[0].metadata)"
   ]
  }
 ],
 "metadata": {
  "kernelspec": {
   "display_name": "langchain",
   "language": "python",
   "name": "python3"
  },
  "language_info": {
   "codemirror_mode": {
    "name": "ipython",
    "version": 3
   },
   "file_extension": ".py",
   "mimetype": "text/x-python",
   "name": "python",
   "nbconvert_exporter": "python",
   "pygments_lexer": "ipython3",
   "version": "3.12.8"
  }
 },
 "nbformat": 4,
 "nbformat_minor": 2
}
