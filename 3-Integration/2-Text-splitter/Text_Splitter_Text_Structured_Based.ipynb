{
 "cells": [
  {
   "cell_type": "code",
   "execution_count": null,
   "metadata": {},
   "outputs": [],
   "source": [
    "# Text-structured based"
   ]
  },
  {
   "cell_type": "code",
   "execution_count": null,
   "metadata": {},
   "outputs": [],
   "source": [
    "%pip install -qU langchain-text-splitters"
   ]
  },
  {
   "cell_type": "code",
   "execution_count": null,
   "metadata": {},
   "outputs": [],
   "source": [
    "from langchain_text_splitters import RecursiveCharacterTextSplitter\n",
    "\n",
    "# Load example document\n",
    "with open(\"../../00-example_data/state_of_the_union.txt\") as f:\n",
    "    state_of_the_union = f.read()\n",
    "\n",
    "text_splitter = RecursiveCharacterTextSplitter(\n",
    "    # Set a really small chunk size, just to show.\n",
    "    chunk_size=100,\n",
    "    chunk_overlap=20,\n",
    "    length_function=len,\n",
    "    is_separator_regex=False,\n",
    ")\n",
    "texts = text_splitter.create_documents([state_of_the_union])\n",
    "print(texts[0])\n",
    "print(texts[1])"
   ]
  },
  {
   "cell_type": "code",
   "execution_count": null,
   "metadata": {},
   "outputs": [],
   "source": [
    "texts"
   ]
  },
  {
   "cell_type": "markdown",
   "metadata": {},
   "source": [
    "### Using Word Count as the Length Function"
   ]
  },
  {
   "cell_type": "code",
   "execution_count": null,
   "metadata": {},
   "outputs": [],
   "source": [
    "from langchain_text_splitters import RecursiveCharacterTextSplitter\n",
    "\n",
    "# Define a custom length function to count words instead of characters\n",
    "def word_count(text):\n",
    "    return len(text.split())\n",
    "\n",
    "# Initialize the RecursiveCharacterTextSplitter with the custom length function\n",
    "text_splitter = RecursiveCharacterTextSplitter(\n",
    "    chunk_size=20,  # 20 words per chunk\n",
    "    chunk_overlap=5,  # 5-word overlap\n",
    "    length_function=word_count,\n",
    "    is_separator_regex=False,\n",
    ")\n",
    "\n",
    "# Load example document\n",
    "with open(\"../../00-example_data/state_of_the_union.txt\") as f:\n",
    "    state_of_the_union = f.read()\n",
    "\n",
    "# Split the document\n",
    "texts = text_splitter.create_documents([state_of_the_union])\n",
    "print(f\"Chunk 1:\\n{texts[0].page_content}\\n\")\n",
    "print(f\"Chunk 2:\\n{texts[1].page_content}\\n\")\n"
   ]
  },
  {
   "cell_type": "code",
   "execution_count": null,
   "metadata": {},
   "outputs": [],
   "source": [
    "texts"
   ]
  },
  {
   "cell_type": "markdown",
   "metadata": {},
   "source": [
    "### Using a Regular Expression as a Separator"
   ]
  },
  {
   "cell_type": "code",
   "execution_count": null,
   "metadata": {},
   "outputs": [],
   "source": [
    "from langchain_text_splitters import RecursiveCharacterTextSplitter\n",
    "\n",
    "# Define a custom regex separator for splitting at punctuation marks\n",
    "separator_regex = r\"[.!?]\"\n",
    "\n",
    "# Initialize the RecursiveCharacterTextSplitter with regex-based separation\n",
    "text_splitter = RecursiveCharacterTextSplitter(\n",
    "    chunk_size=100,  # 100 characters per chunk\n",
    "    chunk_overlap=10,  # 10-character overlap\n",
    "    length_function=len,\n",
    "    is_separator_regex=True,  # Use regex for splitting\n",
    "    separators=[separator_regex],  # Regex for sentence-ending punctuation\n",
    ")\n",
    "\n",
    "# Load example document\n",
    "with open(\"../../00-example_data/state_of_the_union.txt\") as f:\n",
    "    state_of_the_union = f.read()\n",
    "\n",
    "# Split the document\n",
    "texts = text_splitter.create_documents([state_of_the_union])\n",
    "print(f\"Chunk 1:\\n{texts[0].page_content}\\n\")\n",
    "print(f\"Chunk 2:\\n{texts[1].page_content}\\n\")\n"
   ]
  },
  {
   "cell_type": "markdown",
   "metadata": {},
   "source": [
    "### Combining Multiple Separators with Regex"
   ]
  },
  {
   "cell_type": "code",
   "execution_count": null,
   "metadata": {},
   "outputs": [],
   "source": [
    "# Define a regex separator for splitting at multiple punctuation marks\n",
    "separator_regex = r\"[.!?;:]\"\n",
    "\n",
    "# Initialize the RecursiveCharacterTextSplitter\n",
    "text_splitter = RecursiveCharacterTextSplitter(\n",
    "    chunk_size=150,  # 150 characters per chunk\n",
    "    chunk_overlap=30,  # 30-character overlap\n",
    "    length_function=len,\n",
    "    is_separator_regex=True,\n",
    "    separators=[separator_regex],  # Split at multiple punctuation marks\n",
    ")\n",
    "\n",
    "# Split the document\n",
    "texts = text_splitter.create_documents([state_of_the_union])\n",
    "print(f\"Chunk 1:\\n{texts[0].page_content}\\n\")\n",
    "print(f\"Chunk 2:\\n{texts[1].page_content}\\n\")\n"
   ]
  },
  {
   "cell_type": "markdown",
   "metadata": {},
   "source": [
    "### Token-Based Length Function"
   ]
  },
  {
   "cell_type": "code",
   "execution_count": null,
   "metadata": {},
   "outputs": [],
   "source": [
    "from transformers import AutoTokenizer\n",
    "\n",
    "# Load a HuggingFace tokenizer\n",
    "tokenizer = AutoTokenizer.from_pretrained(\"bert-base-uncased\")\n",
    "\n",
    "# Define a token-based length function\n",
    "def token_length(text):\n",
    "    return len(tokenizer.encode(text))\n",
    "\n",
    "# Initialize the RecursiveCharacterTextSplitter with token-based length calculation\n",
    "text_splitter = RecursiveCharacterTextSplitter(\n",
    "    chunk_size=50,  # 50 tokens per chunk\n",
    "    chunk_overlap=10,  # 10-token overlap\n",
    "    length_function=token_length,\n",
    "    is_separator_regex=False,  # No regex for separator\n",
    ")\n",
    "\n",
    "# Split the document\n",
    "texts = text_splitter.create_documents([state_of_the_union])\n",
    "print(f\"Chunk 1:\\n{texts[0].page_content}\\n\")\n",
    "print(f\"Chunk 2:\\n{texts[1].page_content}\\n\")\n"
   ]
  }
 ],
 "metadata": {
  "kernelspec": {
   "display_name": "langchain",
   "language": "python",
   "name": "python3"
  },
  "language_info": {
   "codemirror_mode": {
    "name": "ipython",
    "version": 3
   },
   "file_extension": ".py",
   "mimetype": "text/x-python",
   "name": "python",
   "nbconvert_exporter": "python",
   "pygments_lexer": "ipython3",
   "version": "3.12.8"
  }
 },
 "nbformat": 4,
 "nbformat_minor": 2
}
