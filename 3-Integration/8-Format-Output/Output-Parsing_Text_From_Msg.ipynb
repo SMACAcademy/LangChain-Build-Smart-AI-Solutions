{
 "cells": [
  {
   "cell_type": "code",
   "execution_count": 23,
   "metadata": {},
   "outputs": [],
   "source": [
    "from langchain_ollama import ChatOllama\n",
    "from langchain_core.tools import tool\n",
    "from langchain_core.output_parsers import StrOutputParser\n",
    "from langchain_core.messages import AIMessage, HumanMessage\n",
    "from typing import Dict, List\n",
    "\n",
    "# Step 1: Initialize the Ollama Model\n",
    "llm = ChatOllama(\n",
    "    model=\"llama3.2:latest\",\n",
    "    temperature=0  # Ensures deterministic output\n",
    ")"
   ]
  },
  {
   "cell_type": "code",
   "execution_count": 24,
   "metadata": {},
   "outputs": [],
   "source": [
    "\n",
    "# Step 2: Define a Tool\n",
    "@tool\n",
    "def get_weather(location: str) -> str:\n",
    "    \"\"\"Get the weather from a location.\"\"\"\n",
    "    return f\"The weather in {location} is Sunny.\"\n",
    "\n",
    "# Step 3: Bind the tool to the model\n",
    "llm_with_tools = llm.bind_tools([get_weather])\n"
   ]
  },
  {
   "cell_type": "code",
   "execution_count": 25,
   "metadata": {},
   "outputs": [],
   "source": [
    "\n",
    "# Step 4: Define a function to process tool calls manually\n",
    "def execute_tool_calls(msg: AIMessage) -> List[Dict]:\n",
    "    \"\"\"Extracts tool calls from the AIMessage and invokes the appropriate tools.\"\"\"\n",
    "    tool_map = {\"get_weather\": get_weather}\n",
    "    tool_calls = msg.tool_calls.copy()\n",
    "\n",
    "    for tool_call in tool_calls:\n",
    "        tool_name = tool_call[\"name\"]\n",
    "        tool_args = tool_call[\"args\"]\n",
    "        \n",
    "        # Invoke the tool manually\n",
    "        tool_output = tool_map[tool_name].invoke(tool_args)\n",
    "        tool_call[\"output\"] = tool_output\n",
    "\n",
    "    return tool_calls\n"
   ]
  },
  {
   "cell_type": "code",
   "execution_count": 26,
   "metadata": {},
   "outputs": [
    {
     "name": "stdout",
     "output_type": "stream",
     "text": [
      "Tool Name: get_weather\n",
      "Input Args: {'location': 'San Francisco, CA'}\n",
      "Output: The weather in San Francisco, CA is Sunny.\n"
     ]
    }
   ],
   "source": [
    "# Step 5: Create the processing chain\n",
    "chain = llm_with_tools | execute_tool_calls\n",
    "\n",
    "# Step 6: Invoke the chain and process tool responses\n",
    "query = \"What's the weather in San Francisco, CA?\"\n",
    "tool_results = chain.invoke(query)\n",
    "\n",
    "# Print tool responses\n",
    "for tool_call in tool_results:\n",
    "    print(f\"Tool Name: {tool_call['name']}\")\n",
    "    print(f\"Input Args: {tool_call['args']}\")\n",
    "    print(f\"Output: {tool_call['output']}\")\n"
   ]
  },
  {
   "cell_type": "code",
   "execution_count": 29,
   "metadata": {},
   "outputs": [
    {
     "data": {
      "text/plain": [
       "[{'name': 'get_weather',\n",
       "  'args': {'location': 'San Francisco, CA'},\n",
       "  'id': 'e670e286-69f6-4710-8176-075955c40e95',\n",
       "  'type': 'tool_call',\n",
       "  'output': 'The weather in San Francisco, CA is Sunny.'}]"
      ]
     },
     "execution_count": 29,
     "metadata": {},
     "output_type": "execute_result"
    }
   ],
   "source": [
    "tool_results"
   ]
  },
  {
   "cell_type": "code",
   "execution_count": 30,
   "metadata": {},
   "outputs": [
    {
     "name": "stdout",
     "output_type": "stream",
     "text": [
      "Parsed Response: The weather in San Francisco, CA is Sunny.\n"
     ]
    }
   ],
   "source": [
    "# Step 4: Define a function to process tool calls manually\n",
    "def execute_tool_calls_str(msg: AIMessage) -> str:\n",
    "    \"\"\"Extracts tool calls from the AIMessage, invokes the appropriate tools, and returns a formatted response.\"\"\"\n",
    "    tool_map = {\"get_weather\": get_weather}\n",
    "    tool_calls = msg.tool_calls.copy()\n",
    "\n",
    "    # If no tool calls are present, return the plain response\n",
    "    if not tool_calls:\n",
    "        return msg.content\n",
    "\n",
    "    tool_responses = []\n",
    "    for tool_call in tool_calls:\n",
    "        tool_name = tool_call[\"name\"]\n",
    "        tool_args = tool_call[\"args\"]\n",
    "\n",
    "        # Invoke the tool manually\n",
    "        if tool_name in tool_map:\n",
    "            tool_output = tool_map[tool_name].invoke(tool_args)\n",
    "            tool_responses.append(tool_output)\n",
    "\n",
    "    # Combine tool outputs into a single string\n",
    "    return \"\\n\".join(tool_responses)\n",
    "\n",
    "# Step 5: Create the processing chain with StrOutputParser\n",
    "chain = llm_with_tools | execute_tool_calls_str | StrOutputParser()\n",
    "\n",
    "# Step 6: Invoke the chain and parse the response\n",
    "query = \"What's the weather in San Francisco, CA?\"\n",
    "parsed_response = chain.invoke(query)\n",
    "\n",
    "# Print the final parsed response\n",
    "print(\"Parsed Response:\", parsed_response)\n"
   ]
  }
 ],
 "metadata": {
  "kernelspec": {
   "display_name": "langchain_py311",
   "language": "python",
   "name": "python3"
  },
  "language_info": {
   "codemirror_mode": {
    "name": "ipython",
    "version": 3
   },
   "file_extension": ".py",
   "mimetype": "text/x-python",
   "name": "python",
   "nbconvert_exporter": "python",
   "pygments_lexer": "ipython3",
   "version": "3.11.10"
  }
 },
 "nbformat": 4,
 "nbformat_minor": 2
}
