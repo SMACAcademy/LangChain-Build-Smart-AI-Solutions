{
 "cells": [
  {
   "cell_type": "code",
   "execution_count": 9,
   "metadata": {},
   "outputs": [],
   "source": [
    "from langchain_ollama import ChatOllama\n",
    "\n",
    "# Initialize the Ollama model\n",
    "llm = ChatOllama(\n",
    "    model=\"llama3.2:latest\",\n",
    "    temperature=0  # Ensures deterministic JSON output\n",
    ")\n"
   ]
  },
  {
   "cell_type": "code",
   "execution_count": 10,
   "metadata": {},
   "outputs": [],
   "source": [
    "from langchain_core.output_parsers import JsonOutputParser\n",
    "from langchain_core.prompts import PromptTemplate\n",
    "from pydantic import BaseModel, Field\n",
    "\n",
    "# Define a structured model for a joke\n",
    "class Joke(BaseModel):\n",
    "    setup: str = Field(description=\"question to set up a joke\")\n",
    "    punchline: str = Field(description=\"answer to resolve the joke\")\n"
   ]
  },
  {
   "cell_type": "code",
   "execution_count": 12,
   "metadata": {},
   "outputs": [],
   "source": [
    "# Initialize the JSON output parser with the Pydantic schema\n",
    "parser = JsonOutputParser(pydantic_object=Joke)\n",
    "\n",
    "# Define an explicit prompt to enforce JSON output\n",
    "\n",
    "prompt = PromptTemplate(\n",
    "    template=\"\"\"\n",
    "You are an AI assistant that **must** return valid JSON output.\n",
    "Ensure the response follows this JSON schema:\n",
    "\n",
    "{format_instructions}\n",
    "\n",
    "Now, answer the following user query in **strict JSON format**:\n",
    "{query}\n",
    "\"\"\",\n",
    "    input_variables=[\"query\"],\n",
    "    partial_variables={\"format_instructions\": parser.get_format_instructions()},\n",
    ")"
   ]
  },
  {
   "cell_type": "code",
   "execution_count": 13,
   "metadata": {},
   "outputs": [
    {
     "name": "stdout",
     "output_type": "stream",
     "text": [
      "{'properties': {'setup': {'description': 'What do you call a fake noodle?', 'title': 'Setup', 'type': 'string'}, 'punchline': {'description': 'An impasta!', 'title': 'Punchline', 'type': 'string'}}, 'required': ['setup', 'punchline']}\n"
     ]
    }
   ],
   "source": [
    "# Query for a joke\n",
    "joke_query = \"Tell me a joke.\"\n",
    "\n",
    "# Combine the prompt, model, and parser into a processing chain\n",
    "chain = prompt | llm | parser\n",
    "\n",
    "# Get the parsed JSON response\n",
    "parsed_joke = chain.invoke({\"query\": joke_query})\n",
    "\n",
    "# Print the structured output\n",
    "print(parsed_joke)\n"
   ]
  },
  {
   "cell_type": "code",
   "execution_count": 14,
   "metadata": {},
   "outputs": [
    {
     "name": "stdout",
     "output_type": "stream",
     "text": [
      "{}\n",
      "{'properties': {}}\n",
      "{'properties': {'setup': {}}}\n",
      "{'properties': {'setup': {'description': ''}}}\n",
      "{'properties': {'setup': {'description': 'What'}}}\n",
      "{'properties': {'setup': {'description': 'What do'}}}\n",
      "{'properties': {'setup': {'description': 'What do you'}}}\n",
      "{'properties': {'setup': {'description': 'What do you call'}}}\n",
      "{'properties': {'setup': {'description': 'What do you call a'}}}\n",
      "{'properties': {'setup': {'description': 'What do you call a fake'}}}\n",
      "{'properties': {'setup': {'description': 'What do you call a fake nood'}}}\n",
      "{'properties': {'setup': {'description': 'What do you call a fake noodle'}}}\n",
      "{'properties': {'setup': {'description': 'What do you call a fake noodle?'}}}\n",
      "{'properties': {'setup': {'description': 'What do you call a fake noodle?', 'title': ''}}}\n",
      "{'properties': {'setup': {'description': 'What do you call a fake noodle?', 'title': 'Setup'}}}\n",
      "{'properties': {'setup': {'description': 'What do you call a fake noodle?', 'title': 'Setup', 'type': ''}}}\n",
      "{'properties': {'setup': {'description': 'What do you call a fake noodle?', 'title': 'Setup', 'type': 'string'}}}\n",
      "{'properties': {'setup': {'description': 'What do you call a fake noodle?', 'title': 'Setup', 'type': 'string'}, 'punchline': {}}}\n",
      "{'properties': {'setup': {'description': 'What do you call a fake noodle?', 'title': 'Setup', 'type': 'string'}, 'punchline': {'description': ''}}}\n",
      "{'properties': {'setup': {'description': 'What do you call a fake noodle?', 'title': 'Setup', 'type': 'string'}, 'punchline': {'description': 'An'}}}\n",
      "{'properties': {'setup': {'description': 'What do you call a fake noodle?', 'title': 'Setup', 'type': 'string'}, 'punchline': {'description': 'An imp'}}}\n",
      "{'properties': {'setup': {'description': 'What do you call a fake noodle?', 'title': 'Setup', 'type': 'string'}, 'punchline': {'description': 'An impasta'}}}\n",
      "{'properties': {'setup': {'description': 'What do you call a fake noodle?', 'title': 'Setup', 'type': 'string'}, 'punchline': {'description': 'An impasta!'}}}\n",
      "{'properties': {'setup': {'description': 'What do you call a fake noodle?', 'title': 'Setup', 'type': 'string'}, 'punchline': {'description': 'An impasta!', 'title': ''}}}\n",
      "{'properties': {'setup': {'description': 'What do you call a fake noodle?', 'title': 'Setup', 'type': 'string'}, 'punchline': {'description': 'An impasta!', 'title': 'P'}}}\n",
      "{'properties': {'setup': {'description': 'What do you call a fake noodle?', 'title': 'Setup', 'type': 'string'}, 'punchline': {'description': 'An impasta!', 'title': 'Punch'}}}\n",
      "{'properties': {'setup': {'description': 'What do you call a fake noodle?', 'title': 'Setup', 'type': 'string'}, 'punchline': {'description': 'An impasta!', 'title': 'Punchline'}}}\n",
      "{'properties': {'setup': {'description': 'What do you call a fake noodle?', 'title': 'Setup', 'type': 'string'}, 'punchline': {'description': 'An impasta!', 'title': 'Punchline', 'type': ''}}}\n",
      "{'properties': {'setup': {'description': 'What do you call a fake noodle?', 'title': 'Setup', 'type': 'string'}, 'punchline': {'description': 'An impasta!', 'title': 'Punchline', 'type': 'string'}}}\n",
      "{'properties': {'setup': {'description': 'What do you call a fake noodle?', 'title': 'Setup', 'type': 'string'}, 'punchline': {'description': 'An impasta!', 'title': 'Punchline', 'type': 'string'}}, 'required': ['']}\n",
      "{'properties': {'setup': {'description': 'What do you call a fake noodle?', 'title': 'Setup', 'type': 'string'}, 'punchline': {'description': 'An impasta!', 'title': 'Punchline', 'type': 'string'}}, 'required': ['setup']}\n",
      "{'properties': {'setup': {'description': 'What do you call a fake noodle?', 'title': 'Setup', 'type': 'string'}, 'punchline': {'description': 'An impasta!', 'title': 'Punchline', 'type': 'string'}}, 'required': ['setup', '']}\n",
      "{'properties': {'setup': {'description': 'What do you call a fake noodle?', 'title': 'Setup', 'type': 'string'}, 'punchline': {'description': 'An impasta!', 'title': 'Punchline', 'type': 'string'}}, 'required': ['setup', 'p']}\n",
      "{'properties': {'setup': {'description': 'What do you call a fake noodle?', 'title': 'Setup', 'type': 'string'}, 'punchline': {'description': 'An impasta!', 'title': 'Punchline', 'type': 'string'}}, 'required': ['setup', 'punch']}\n",
      "{'properties': {'setup': {'description': 'What do you call a fake noodle?', 'title': 'Setup', 'type': 'string'}, 'punchline': {'description': 'An impasta!', 'title': 'Punchline', 'type': 'string'}}, 'required': ['setup', 'punchline']}\n"
     ]
    }
   ],
   "source": [
    "# Stream parsed JSON output\n",
    "for chunk in chain.stream({\"query\": joke_query}):\n",
    "    print(chunk)\n"
   ]
  },
  {
   "cell_type": "code",
   "execution_count": 15,
   "metadata": {},
   "outputs": [],
   "source": [
    "# Initialize JsonOutputParser without a specific schema\n",
    "parser = JsonOutputParser()\n",
    "\n",
    "# Define a prompt\n",
    "prompt = PromptTemplate(\n",
    "    template=\"Answer the user query.\\n{format_instructions}\\n{query}\\n\",\n",
    "    input_variables=[\"query\"],\n",
    "    partial_variables={\"format_instructions\": parser.get_format_instructions()},\n",
    ")\n"
   ]
  },
  {
   "cell_type": "code",
   "execution_count": 16,
   "metadata": {},
   "outputs": [
    {
     "data": {
      "text/plain": [
       "PromptTemplate(input_variables=['query'], input_types={}, partial_variables={'format_instructions': 'Return a JSON object.'}, template='Answer the user query.\\n{format_instructions}\\n{query}\\n')"
      ]
     },
     "execution_count": 16,
     "metadata": {},
     "output_type": "execute_result"
    }
   ],
   "source": [
    "prompt"
   ]
  },
  {
   "cell_type": "code",
   "execution_count": 17,
   "metadata": {},
   "outputs": [
    {
     "name": "stdout",
     "output_type": "stream",
     "text": [
      "{'joke': {'setup': 'Why did the scarecrow win an award?', 'punchline': 'Because he was outstanding in his field!'}}\n"
     ]
    }
   ],
   "source": [
    "# Combine the prompt, model, and parser\n",
    "chain = prompt | llm | parser\n",
    "\n",
    "# Get the response\n",
    "parsed_response = chain.invoke({\"query\": joke_query})\n",
    "\n",
    "# Print the JSON output\n",
    "print(parsed_response)\n"
   ]
  }
 ],
 "metadata": {
  "kernelspec": {
   "display_name": "langchain_py311",
   "language": "python",
   "name": "python3"
  },
  "language_info": {
   "codemirror_mode": {
    "name": "ipython",
    "version": 3
   },
   "file_extension": ".py",
   "mimetype": "text/x-python",
   "name": "python",
   "nbconvert_exporter": "python",
   "pygments_lexer": "ipython3",
   "version": "3.11.10"
  }
 },
 "nbformat": 4,
 "nbformat_minor": 2
}
