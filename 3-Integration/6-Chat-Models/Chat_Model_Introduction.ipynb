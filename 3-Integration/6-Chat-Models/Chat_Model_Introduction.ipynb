{
 "cells": [
  {
   "cell_type": "code",
   "execution_count": 1,
   "metadata": {},
   "outputs": [
    {
     "name": "stdout",
     "output_type": "stream",
     "text": [
      "Note: you may need to restart the kernel to use updated packages.\n",
      "Requirement already satisfied: ollama in c:\\users\\muthu\\.conda\\envs\\langchain_py311\\lib\\site-packages (0.4.5)Note: you may need to restart the kernel to use updated packages.\n",
      "\n",
      "Collecting ollama\n",
      "  Downloading ollama-0.4.7-py3-none-any.whl.metadata (4.7 kB)\n",
      "Requirement already satisfied: httpx<0.29,>=0.27 in c:\\users\\muthu\\.conda\\envs\\langchain_py311\\lib\\site-packages (from ollama) (0.27.2)\n",
      "Requirement already satisfied: pydantic<3.0.0,>=2.9.0 in c:\\users\\muthu\\.conda\\envs\\langchain_py311\\lib\\site-packages (from ollama) (2.9.2)\n",
      "Requirement already satisfied: anyio in c:\\users\\muthu\\.conda\\envs\\langchain_py311\\lib\\site-packages (from httpx<0.29,>=0.27->ollama) (4.6.2.post1)\n",
      "Requirement already satisfied: certifi in c:\\users\\muthu\\.conda\\envs\\langchain_py311\\lib\\site-packages (from httpx<0.29,>=0.27->ollama) (2024.8.30)\n",
      "Requirement already satisfied: httpcore==1.* in c:\\users\\muthu\\.conda\\envs\\langchain_py311\\lib\\site-packages (from httpx<0.29,>=0.27->ollama) (1.0.6)\n",
      "Requirement already satisfied: idna in c:\\users\\muthu\\.conda\\envs\\langchain_py311\\lib\\site-packages (from httpx<0.29,>=0.27->ollama) (3.10)\n",
      "Requirement already satisfied: sniffio in c:\\users\\muthu\\.conda\\envs\\langchain_py311\\lib\\site-packages (from httpx<0.29,>=0.27->ollama) (1.3.1)\n",
      "Requirement already satisfied: h11<0.15,>=0.13 in c:\\users\\muthu\\.conda\\envs\\langchain_py311\\lib\\site-packages (from httpcore==1.*->httpx<0.29,>=0.27->ollama) (0.14.0)\n",
      "Requirement already satisfied: annotated-types>=0.6.0 in c:\\users\\muthu\\.conda\\envs\\langchain_py311\\lib\\site-packages (from pydantic<3.0.0,>=2.9.0->ollama) (0.7.0)\n",
      "Requirement already satisfied: pydantic-core==2.23.4 in c:\\users\\muthu\\.conda\\envs\\langchain_py311\\lib\\site-packages (from pydantic<3.0.0,>=2.9.0->ollama) (2.23.4)\n",
      "Requirement already satisfied: typing-extensions>=4.6.1 in c:\\users\\muthu\\.conda\\envs\\langchain_py311\\lib\\site-packages (from pydantic<3.0.0,>=2.9.0->ollama) (4.11.0)\n",
      "Downloading ollama-0.4.7-py3-none-any.whl (13 kB)\n",
      "Installing collected packages: ollama\n",
      "  Attempting uninstall: ollama\n",
      "    Found existing installation: ollama 0.4.5\n",
      "    Uninstalling ollama-0.4.5:\n",
      "      Successfully uninstalled ollama-0.4.5\n",
      "Successfully installed ollama-0.4.7\n"
     ]
    },
    {
     "name": "stderr",
     "output_type": "stream",
     "text": [
      "ERROR: pip's dependency resolver does not currently take into account all the packages that are installed. This behaviour is the source of the following dependency conflicts.\n",
      "llama-index-embeddings-ollama 0.3.1 requires llama-index-core<0.12.0,>=0.11.0, but you have llama-index-core 0.12.6 which is incompatible.\n",
      "llama-index-embeddings-ollama 0.3.1 requires ollama<0.4.0,>=0.3.1, but you have ollama 0.4.7 which is incompatible.\n",
      "llama-index-llms-ollama 0.3.6 requires llama-index-core<0.12.0,>=0.11.0, but you have llama-index-core 0.12.6 which is incompatible.\n"
     ]
    }
   ],
   "source": [
    "%pip install -qU langchain-ollama\n",
    "\n",
    "%pip install -U ollama\n",
    "\n"
   ]
  },
  {
   "cell_type": "code",
   "execution_count": 2,
   "metadata": {},
   "outputs": [],
   "source": [
    "from langchain_ollama import ChatOllama\n",
    "\n",
    "llm = ChatOllama(\n",
    "    model=\"llama3.2:latest\",\n",
    "    temperature=0,\n",
    "    # other params...\n",
    ")"
   ]
  },
  {
   "cell_type": "code",
   "execution_count": 3,
   "metadata": {},
   "outputs": [
    {
     "data": {
      "text/plain": [
       "AIMessage(content='Je aime le programmation.', additional_kwargs={}, response_metadata={'model': 'llama3.2:latest', 'created_at': '2025-01-27T03:53:48.2742979Z', 'done': True, 'done_reason': 'stop', 'total_duration': 3938934600, 'load_duration': 3134426300, 'prompt_eval_count': 45, 'prompt_eval_duration': 424000000, 'eval_count': 7, 'eval_duration': 51000000, 'message': Message(role='assistant', content='', images=None, tool_calls=None)}, id='run-bf286c00-7cec-4c7b-9771-216a0c6da04d-0', usage_metadata={'input_tokens': 45, 'output_tokens': 7, 'total_tokens': 52})"
      ]
     },
     "execution_count": 3,
     "metadata": {},
     "output_type": "execute_result"
    }
   ],
   "source": [
    "from langchain_core.messages import AIMessage\n",
    "\n",
    "messages = [\n",
    "    (\n",
    "        \"system\",\n",
    "        \"You are a helpful assistant that translates English to French. Translate the user sentence.\",\n",
    "    ),\n",
    "    (\"human\", \"I love programming.\"),\n",
    "]\n",
    "ai_msg = llm.invoke(messages)\n",
    "ai_msg"
   ]
  }
 ],
 "metadata": {
  "kernelspec": {
   "display_name": "langchain_py311",
   "language": "python",
   "name": "python3"
  },
  "language_info": {
   "codemirror_mode": {
    "name": "ipython",
    "version": 3
   },
   "file_extension": ".py",
   "mimetype": "text/x-python",
   "name": "python",
   "nbconvert_exporter": "python",
   "pygments_lexer": "ipython3",
   "version": "3.11.10"
  }
 },
 "nbformat": 4,
 "nbformat_minor": 2
}
