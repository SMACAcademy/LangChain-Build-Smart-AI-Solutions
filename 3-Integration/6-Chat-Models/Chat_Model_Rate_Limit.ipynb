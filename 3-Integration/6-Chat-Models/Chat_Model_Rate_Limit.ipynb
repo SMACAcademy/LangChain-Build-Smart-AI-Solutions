{
 "cells": [
  {
   "cell_type": "code",
   "execution_count": 1,
   "metadata": {},
   "outputs": [
    {
     "name": "stderr",
     "output_type": "stream",
     "text": [
      "C:\\Users\\Muthu\\AppData\\Local\\Temp\\ipykernel_7560\\3904387843.py:4: LangChainBetaWarning: Introduced in 0.2.24. API subject to change.\n",
      "  rate_limiter = InMemoryRateLimiter(\n"
     ]
    }
   ],
   "source": [
    "from langchain_core.rate_limiters import InMemoryRateLimiter\n",
    "\n",
    "# Configure the rate limiter\n",
    "rate_limiter = InMemoryRateLimiter(\n",
    "    requests_per_second=0.1,  # One request every 10 seconds\n",
    "    check_every_n_seconds=0.1,  # Checks every 100ms\n",
    "    max_bucket_size=10,  # Allows a burst of up to 10 requests\n",
    ")\n"
   ]
  },
  {
   "cell_type": "code",
   "execution_count": 2,
   "metadata": {},
   "outputs": [],
   "source": [
    "from langchain_ollama import ChatOllama\n",
    "\n",
    "# Initialize the Ollama model with the rate limiter\n",
    "llm = ChatOllama(\n",
    "    model=\"llama3.2:latest\",\n",
    "    temperature=0,  # Deterministic response\n",
    "    rate_limiter=rate_limiter,  # Apply rate limiting\n",
    ")\n"
   ]
  },
  {
   "cell_type": "code",
   "execution_count": 3,
   "metadata": {},
   "outputs": [
    {
     "name": "stdout",
     "output_type": "stream",
     "text": [
      "Response: I'm just a language model, so I don't have emotions or feelings like humans do. However, I'm functioning properly and ready to assist you with any questions or tasks you may have! How can I help you today?\n",
      "Time elapsed: 11.57 seconds\n",
      "Response: I'm just a language model, so I don't have emotions or feelings like humans do. However, I'm functioning properly and ready to assist you with any questions or tasks you may have! How can I help you today?\n",
      "Time elapsed: 9.13 seconds\n",
      "Response: I'm just a language model, so I don't have emotions or feelings like humans do. However, I'm functioning properly and ready to assist you with any questions or tasks you may have! How can I help you today?\n",
      "Time elapsed: 10.00 seconds\n",
      "Response: I'm just a language model, so I don't have emotions or feelings like humans do. However, I'm functioning properly and ready to assist you with any questions or tasks you may have! How can I help you today?\n",
      "Time elapsed: 10.01 seconds\n",
      "Response: I'm just a language model, so I don't have emotions or feelings like humans do. However, I'm functioning properly and ready to assist you with any questions or tasks you may have! How can I help you today?\n",
      "Time elapsed: 9.98 seconds\n"
     ]
    }
   ],
   "source": [
    "import time\n",
    "\n",
    "# Test rate limiting by invoking the model multiple times\n",
    "for _ in range(5):\n",
    "    start_time = time.time()  # Record start time\n",
    "    response = llm.invoke(\"Hello, how are you?\")  # Send a query\n",
    "    end_time = time.time()  # Record end time\n",
    "    \n",
    "    # Print the response and the time taken\n",
    "    print(f\"Response: {response.content}\")\n",
    "    print(f\"Time elapsed: {end_time - start_time:.2f} seconds\")\n"
   ]
  }
 ],
 "metadata": {
  "kernelspec": {
   "display_name": "langchain_py311",
   "language": "python",
   "name": "python3"
  },
  "language_info": {
   "codemirror_mode": {
    "name": "ipython",
    "version": 3
   },
   "file_extension": ".py",
   "mimetype": "text/x-python",
   "name": "python",
   "nbconvert_exporter": "python",
   "pygments_lexer": "ipython3",
   "version": "3.11.10"
  }
 },
 "nbformat": 4,
 "nbformat_minor": 2
}
