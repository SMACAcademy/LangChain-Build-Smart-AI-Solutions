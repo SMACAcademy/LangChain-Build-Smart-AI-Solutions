{
 "cells": [
  {
   "cell_type": "code",
   "execution_count": 1,
   "metadata": {},
   "outputs": [],
   "source": [
    "from langchain_ollama import ChatOllama\n",
    "\n",
    "# Initialize the Ollama LLM\n",
    "llm = ChatOllama(\n",
    "    model=\"llama3.2:latest\",\n",
    "    temperature=0,  # Deterministic responses\n",
    ")\n"
   ]
  },
  {
   "cell_type": "code",
   "execution_count": null,
   "metadata": {},
   "outputs": [],
   "source": [
    "from langchain_core.messages import AIMessage\n",
    "\n",
    "# Define a prompt\n",
    "query = \"Can you tell me a joke?\"\n",
    "\n",
    "# Invoke the model with the query\n",
    "response = llm.invoke(query)\n",
    "\n",
    "# Display the response and token usage metadata\n",
    "print(f\"Response: {response.content}\")\n",
    "print(f\"Token Usage Metadata: {response.usage_metadata}\")\n"
   ]
  },
  {
   "cell_type": "code",
   "execution_count": null,
   "metadata": {},
   "outputs": [],
   "source": [
    "# Stream response and aggregate token usage\n",
    "aggregate = None\n",
    "for chunk in llm.stream(\"Tell me a fun fact!\"):\n",
    "    print(f\"Chunk: {chunk.content}\")\n",
    "    aggregate = chunk if aggregate is None else aggregate + chunk\n",
    "\n",
    "# Display the final aggregated response and token usage\n",
    "print(f\"Final Response: {aggregate.content}\")\n",
    "print(f\"Usage Metadata: {aggregate.usage_metadata}\")\n"
   ]
  },
  {
   "cell_type": "code",
   "execution_count": null,
   "metadata": {},
   "outputs": [],
   "source": [
    "print(f\"Input Tokens: {response.usage_metadata['input_tokens']}\")\n",
    "print(f\"Output Tokens: {response.usage_metadata['output_tokens']}\")\n",
    "print(f\"Total Tokens: {response.usage_metadata['total_tokens']}\")\n"
   ]
  },
  {
   "cell_type": "code",
   "execution_count": null,
   "metadata": {},
   "outputs": [],
   "source": [
    "print(f\"Response Metadata: {response.response_metadata}\")\n"
   ]
  }
 ],
 "metadata": {
  "kernelspec": {
   "display_name": "langchain_py311",
   "language": "python",
   "name": "python3"
  },
  "language_info": {
   "codemirror_mode": {
    "name": "ipython",
    "version": 3
   },
   "file_extension": ".py",
   "mimetype": "text/x-python",
   "name": "python",
   "nbconvert_exporter": "python",
   "pygments_lexer": "ipython3",
   "version": "3.11.10"
  }
 },
 "nbformat": 4,
 "nbformat_minor": 2
}
