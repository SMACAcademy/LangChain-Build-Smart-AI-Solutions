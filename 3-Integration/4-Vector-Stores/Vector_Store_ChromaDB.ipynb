{
 "cells": [
  {
   "cell_type": "code",
   "execution_count": null,
   "metadata": {},
   "outputs": [],
   "source": [
    "%pip install chromadb"
   ]
  },
  {
   "cell_type": "code",
   "execution_count": null,
   "metadata": {},
   "outputs": [],
   "source": [
    "%pip install chroma-hnswlib langchain-chroma"
   ]
  },
  {
   "cell_type": "code",
   "execution_count": null,
   "metadata": {},
   "outputs": [],
   "source": [
    "from langchain.vectorstores import Chroma\n",
    "\n",
    "from langchain_ollama import OllamaEmbeddings\n",
    "\n",
    "embeddings = OllamaEmbeddings(\n",
    "    #model=\"llama3.2:latest\",\n",
    "    model=\"llama3.2:latest\",\n",
    "    base_url=\"http://localhost:11434\"  # Ensure Ollama is running locally\n",
    ")\n",
    "\n",
    "# Create Chroma vector store\n",
    "\n",
    "vector_store = Chroma.from_texts([\"doc1\", \"doc2\"], embeddings, persist_directory=\"./chroma_db\")\n",
    "\n",
    "# Persist data to disk\n",
    "vector_store.persist()\n",
    "\n",
    "# Reload persisted data\n",
    "new_vector_store = Chroma(persist_directory=\"./chroma_db\", embedding_function=embeddings)\n"
   ]
  }
 ],
 "metadata": {
  "kernelspec": {
   "display_name": "llamaindex",
   "language": "python",
   "name": "python3"
  },
  "language_info": {
   "codemirror_mode": {
    "name": "ipython",
    "version": 3
   },
   "file_extension": ".py",
   "mimetype": "text/x-python",
   "name": "python",
   "nbconvert_exporter": "python",
   "pygments_lexer": "ipython3",
   "version": "3.11.10"
  }
 },
 "nbformat": 4,
 "nbformat_minor": 2
}
