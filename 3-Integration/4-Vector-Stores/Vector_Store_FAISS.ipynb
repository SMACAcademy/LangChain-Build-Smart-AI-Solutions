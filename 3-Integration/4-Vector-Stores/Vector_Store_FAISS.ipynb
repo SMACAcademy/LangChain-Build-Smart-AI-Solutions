{
 "cells": [
  {
   "cell_type": "code",
   "execution_count": null,
   "metadata": {},
   "outputs": [],
   "source": [
    "from langchain.vectorstores import FAISS\n",
    "from langchain.embeddings.openai import OpenAIEmbeddings\n",
    "\n",
    "\n",
    "from langchain_ollama import OllamaEmbeddings\n",
    "\n",
    "embedding_model = OllamaEmbeddings(\n",
    "    #model=\"llama3.2:latest\",\n",
    "    model=\"llama3.2:latest\",\n",
    "    base_url=\"http://localhost:11434\"  # Ensure Ollama is running locally\n",
    ")\n",
    "\n",
    "\n",
    "# Step 1: Generate Embeddings\n",
    "\n",
    "documents = [\"Document 1 content\", \"Document 2 content\", \"Document 3 content\"]\n",
    "vectors = [embedding_model.embed_query(doc) for doc in documents]\n",
    "\n",
    "# Step 2: Create FAISS Vector Store\n",
    "faiss_store = FAISS.from_texts(documents, embedding_model)\n",
    "\n",
    "# Step 3: Save the Index to Disk\n",
    "faiss_store.save_local(\"faiss_index\")\n",
    "\n",
    "# Step 4: Reload the Index\n",
    "loaded_faiss_store = FAISS.load_local(\n",
    "    \"faiss_index\",\n",
    "    embedding_model,\n",
    "    allow_dangerous_deserialization=True  # Enable deserialization\n",
    ")\n",
    "\n",
    "# Perform a query\n",
    "results = loaded_faiss_store.similarity_search(\"query text\", k=1)\n",
    "print(results)\n"
   ]
  }
 ],
 "metadata": {
  "kernelspec": {
   "display_name": "langchain",
   "language": "python",
   "name": "python3"
  },
  "language_info": {
   "codemirror_mode": {
    "name": "ipython",
    "version": 3
   },
   "file_extension": ".py",
   "mimetype": "text/x-python",
   "name": "python",
   "nbconvert_exporter": "python",
   "pygments_lexer": "ipython3",
   "version": "3.12.8"
  }
 },
 "nbformat": 4,
 "nbformat_minor": 2
}
