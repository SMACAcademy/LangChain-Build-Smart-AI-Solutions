{
 "cells": [
  {
   "cell_type": "code",
   "execution_count": null,
   "metadata": {},
   "outputs": [],
   "source": [
    "%pip install -Uqq langchain-weaviate"
   ]
  },
  {
   "cell_type": "code",
   "execution_count": null,
   "metadata": {},
   "outputs": [],
   "source": [
    "%pip install weaviate-client langchain langchain-huggingface"
   ]
  },
  {
   "cell_type": "code",
   "execution_count": 2,
   "metadata": {},
   "outputs": [
    {
     "name": "stderr",
     "output_type": "stream",
     "text": [
      "c:\\Users\\Muthu\\.conda\\envs\\langchain\\Lib\\site-packages\\jupyter_client\\session.py:151: DeprecationWarning: datetime.datetime.utcnow() is deprecated and scheduled for removal in a future version. Use timezone-aware objects to represent datetimes in UTC: datetime.datetime.now(datetime.UTC).\n",
      "  return datetime.utcnow().replace(tzinfo=utc)\n"
     ]
    }
   ],
   "source": [
    "import weaviate\n",
    "from langchain_weaviate.vectorstores import WeaviateVectorStore\n",
    "\n",
    "# docker run -p 8080:8080 -p 50051:50051 cr.weaviate.io/semitechnologies/weaviate:1.28.3\n"
   ]
  },
  {
   "cell_type": "code",
   "execution_count": 3,
   "metadata": {},
   "outputs": [
    {
     "name": "stderr",
     "output_type": "stream",
     "text": [
      "c:\\Users\\Muthu\\.conda\\envs\\langchain\\Lib\\site-packages\\jupyter_client\\session.py:151: DeprecationWarning: datetime.datetime.utcnow() is deprecated and scheduled for removal in a future version. Use timezone-aware objects to represent datetimes in UTC: datetime.datetime.now(datetime.UTC).\n",
      "  return datetime.utcnow().replace(tzinfo=utc)\n"
     ]
    }
   ],
   "source": [
    "from langchain.vectorstores import Weaviate\n",
    "from langchain_huggingface import HuggingFaceEmbeddings\n",
    "from langchain_community.document_loaders import PyPDFLoader\n",
    "from langchain_text_splitters import RecursiveCharacterTextSplitter\n",
    "import weaviate"
   ]
  },
  {
   "cell_type": "code",
   "execution_count": 4,
   "metadata": {},
   "outputs": [
    {
     "name": "stdout",
     "output_type": "stream",
     "text": [
      "Loaded 16 documents from the file.\n",
      "Number of document chunks created: 53\n"
     ]
    },
    {
     "name": "stderr",
     "output_type": "stream",
     "text": [
      "c:\\Users\\Muthu\\.conda\\envs\\langchain\\Lib\\site-packages\\jupyter_client\\session.py:151: DeprecationWarning: datetime.datetime.utcnow() is deprecated and scheduled for removal in a future version. Use timezone-aware objects to represent datetimes in UTC: datetime.datetime.now(datetime.UTC).\n",
      "  return datetime.utcnow().replace(tzinfo=utc)\n"
     ]
    }
   ],
   "source": [
    "# Step 1: Initialize Hugging Face Embedding Model\n",
    "embedding_model = HuggingFaceEmbeddings(model_name=\"all-MiniLM-L6-v2\")  # Replace with your desired model\n",
    "\n",
    "# Step 2: Load PDF and Split into Chunks\n",
    "loader = PyPDFLoader(\"../../00-example_data/layout-parser-paper.pdf\")\n",
    "pdf_docs = loader.load()\n",
    "\n",
    "print(f\"Loaded {len(pdf_docs)} documents from the file.\")\n",
    "\n",
    "text_splitter = RecursiveCharacterTextSplitter(\n",
    "    chunk_size=1000,\n",
    "    chunk_overlap=20,\n",
    "    length_function=len,\n",
    "    is_separator_regex=False,\n",
    ")\n",
    "documents = text_splitter.split_documents(pdf_docs)\n",
    "\n"
   ]
  },
  {
   "cell_type": "code",
   "execution_count": 7,
   "metadata": {},
   "outputs": [],
   "source": [
    "weaviate_client = weaviate.connect_to_local()\n",
    "\n",
    "weaviate_store = WeaviateVectorStore.from_documents(documents, embedding_model, client=weaviate_client)\n",
    "\n"
   ]
  },
  {
   "cell_type": "code",
   "execution_count": 8,
   "metadata": {},
   "outputs": [
    {
     "name": "stdout",
     "output_type": "stream",
     "text": [
      "\n",
      "Most Similar Documents:\n",
      "1. In: International conference on machine learning. pp. 1180–1189. PMLR (2015)\n",
      "2. A combination of character recognition methods is developed to tackle the\n",
      "unique challenges in this document. In our experiments, we found that irregular\n",
      "spacing between the tokens led to a low character recognition recall rate, whereas\n",
      "existing OCR models tend to perform better on densely-arranged texts. To\n",
      "overcome this challenge, we create a document reorganization algorithm that\n",
      "rearranges the text based on the token bounding boxes detected in the layout\n",
      "analysis step. Figure 4 (b) illustrates the generated image of dense text, which is\n",
      "sent to the OCR APIs as a whole to reduce the transaction costs. The ﬂexible\n",
      "coordinate system in LayoutParser is used to transform the OCR results relative\n",
      "to their original positions on the page.\n",
      "Additionally, it is common for historical documents to use unique fonts\n",
      "with diﬀerent glyphs, which signiﬁcantly degrades the accuracy of OCR models\n",
      "trained on modern texts. In this document, a special ﬂat font is used for printing\n",
      "3. 16 Z. Shen et al.\n",
      "[23] Paszke, A., Gross, S., Chintala, S., Chanan, G., Yang, E., DeVito, Z., Lin, Z.,\n",
      "Desmaison, A., Antiga, L., Lerer, A.: Automatic diﬀerentiation in pytorch (2017)\n",
      "[24] Paszke, A., Gross, S., Massa, F., Lerer, A., Bradbury, J., Chanan, G., Killeen,\n",
      "T., Lin, Z., Gimelshein, N., Antiga, L., et al.: Pytorch: An imperative style,\n",
      "high-performance deep learning library. arXiv preprint arXiv:1912.01703 (2019)\n",
      "[25] Pletschacher, S., Antonacopoulos, A.: The page (page analysis and ground-truth\n",
      "elements) format framework. In: 2010 20th International Conference on Pattern\n",
      "Recognition. pp. 257–260. IEEE (2010)\n",
      "[26] Prasad, D., Gadpal, A., Kapadni, K., Visave, M., Sultanpure, K.: Cascadetabnet:\n",
      "An approach for end to end table detection and structure recognition from image-\n",
      "based documents. In: Proceedings of the IEEE/CVF Conference on Computer\n",
      "Vision and Pattern Recognition Workshops. pp. 572–573 (2020)\n"
     ]
    }
   ],
   "source": [
    "\n",
    "# Step 5: Perform a Query\n",
    "query = \"What algorithm is discussed in the document?\"\n",
    "results = weaviate_store.similarity_search(query, k=3)\n",
    "\n",
    "print(\"\\nMost Similar Documents:\")\n",
    "for idx, result in enumerate(results, start=1):\n",
    "    print(f\"{idx}. {result.page_content}\")\n"
   ]
  }
 ],
 "metadata": {
  "kernelspec": {
   "display_name": "langchain",
   "language": "python",
   "name": "python3"
  },
  "language_info": {
   "codemirror_mode": {
    "name": "ipython",
    "version": 3
   },
   "file_extension": ".py",
   "mimetype": "text/x-python",
   "name": "python",
   "nbconvert_exporter": "python",
   "pygments_lexer": "ipython3",
   "version": "3.12.8"
  }
 },
 "nbformat": 4,
 "nbformat_minor": 2
}
