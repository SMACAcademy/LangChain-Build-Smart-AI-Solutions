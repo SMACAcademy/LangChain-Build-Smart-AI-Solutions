{
 "cells": [
  {
   "cell_type": "code",
   "execution_count": null,
   "metadata": {},
   "outputs": [],
   "source": [
    "%pip install langchain langchain-huggingface langchain-pinecone pinecone-notebooks"
   ]
  },
  {
   "cell_type": "code",
   "execution_count": null,
   "metadata": {},
   "outputs": [],
   "source": [
    "%pip install pinecone"
   ]
  },
  {
   "cell_type": "code",
   "execution_count": 1,
   "metadata": {},
   "outputs": [],
   "source": [
    "from pinecone import Pinecone, ServerlessSpec\n",
    "import getpass\n",
    "import os\n",
    "import time\n",
    "\n",
    "if not os.getenv(\"PINECONE_API_KEY\"):\n",
    "    os.environ[\"PINECONE_API_KEY\"] = getpass.getpass(\"Enter your Pinecone API key: \")\n",
    "\n",
    "pinecone_api_key = os.environ.get(\"PINECONE_API_KEY\")\n",
    "\n",
    "pc = Pinecone(api_key=pinecone_api_key)"
   ]
  },
  {
   "cell_type": "code",
   "execution_count": 2,
   "metadata": {},
   "outputs": [],
   "source": [
    "from langchain.vectorstores import Pinecone\n",
    "from langchain_huggingface import HuggingFaceEmbeddings\n",
    "from langchain_community.document_loaders import PyPDFLoader\n",
    "from langchain_text_splitters import RecursiveCharacterTextSplitter"
   ]
  },
  {
   "cell_type": "code",
   "execution_count": 3,
   "metadata": {},
   "outputs": [],
   "source": [
    "# Step 1: Initialize Hugging Face Embedding Model\n",
    "embedding_model = HuggingFaceEmbeddings(model_name=\"all-MiniLM-L6-v2\")  # Replace with your desired model\n",
    "# embedding_model = HuggingFaceEmbeddings(model_name=\"sentence-transformers/all-mpnet-base-v2\")\n"
   ]
  },
  {
   "cell_type": "code",
   "execution_count": 4,
   "metadata": {},
   "outputs": [
    {
     "name": "stdout",
     "output_type": "stream",
     "text": [
      "Loaded 16 documents from the file.\n"
     ]
    }
   ],
   "source": [
    "# Step 2: Load PDF and Split into Chunks\n",
    "loader = PyPDFLoader(\"../../00-example_data/layout-parser-paper.pdf\")\n",
    "pdf_docs = loader.load()\n",
    "\n",
    "print(f\"Loaded {len(pdf_docs)} documents from the file.\")\n",
    "\n",
    "text_splitter = RecursiveCharacterTextSplitter(\n",
    "    chunk_size=1000,\n",
    "    chunk_overlap=20,\n",
    "    length_function=len,\n",
    "    is_separator_regex=False,\n",
    ")\n",
    "documents = text_splitter.split_documents(pdf_docs)"
   ]
  },
  {
   "cell_type": "code",
   "execution_count": 5,
   "metadata": {},
   "outputs": [],
   "source": [
    "import time\n",
    "\n",
    "index_name = \"langchain-test-index\"  # change if desired\n",
    "\n",
    "existing_indexes = [index_info[\"name\"] for index_info in pc.list_indexes()]\n",
    "\n",
    "if index_name not in existing_indexes:\n",
    "    pc.create_index(\n",
    "        name=index_name,\n",
    "        dimension=384,\n",
    "        metric=\"cosine\",\n",
    "        spec=ServerlessSpec(cloud=\"aws\", region=\"us-east-1\"),\n",
    "    )\n",
    "    while not pc.describe_index(index_name).status[\"ready\"]:\n",
    "        time.sleep(1)\n",
    "\n",
    "index = pc.Index(index_name)"
   ]
  },
  {
   "cell_type": "code",
   "execution_count": 6,
   "metadata": {},
   "outputs": [
    {
     "data": {
      "text/plain": [
       "{\n",
       "    \"name\": \"langchain-test-index\",\n",
       "    \"dimension\": 384,\n",
       "    \"metric\": \"cosine\",\n",
       "    \"host\": \"langchain-test-index-zhmtpmp.svc.aped-4627-b74a.pinecone.io\",\n",
       "    \"spec\": {\n",
       "        \"serverless\": {\n",
       "            \"cloud\": \"aws\",\n",
       "            \"region\": \"us-east-1\"\n",
       "        }\n",
       "    },\n",
       "    \"status\": {\n",
       "        \"ready\": true,\n",
       "        \"state\": \"Ready\"\n",
       "    },\n",
       "    \"deletion_protection\": \"disabled\"\n",
       "}"
      ]
     },
     "execution_count": 6,
     "metadata": {},
     "output_type": "execute_result"
    }
   ],
   "source": [
    "pc.describe_index(index_name)"
   ]
  },
  {
   "cell_type": "code",
   "execution_count": 7,
   "metadata": {},
   "outputs": [],
   "source": [
    "from langchain_pinecone import PineconeVectorStore\n",
    "\n",
    "vector_store = PineconeVectorStore(index=index, embedding=embedding_model)"
   ]
  },
  {
   "cell_type": "code",
   "execution_count": 8,
   "metadata": {},
   "outputs": [
    {
     "data": {
      "text/plain": [
       "['537a6b50-527a-4251-937e-38ede08efd54',\n",
       " '3300b4e3-45c9-4660-9e7e-44eb1666c151',\n",
       " '0ea4c68e-9b9c-4283-aa42-1dbb4765d5cd',\n",
       " '409b8897-1098-4bd5-a878-4d1a83f1cae5',\n",
       " '2a39b667-b429-45aa-829f-e9228db72cff',\n",
       " '4cfd5d54-366b-4a4b-a079-6ae2bcead69b',\n",
       " 'e2a0958d-5018-4c4f-9bc1-851e52708236',\n",
       " '52e67832-28d9-4e00-80af-5cb8730a482e',\n",
       " 'cde158e5-84a3-4960-976e-fe60bfd2b5d9',\n",
       " '8d4ff1d8-ed7e-4627-ae2f-bc1613b10642',\n",
       " 'ee9441a8-0bc2-4edd-845e-831a69680652',\n",
       " 'bda58013-052e-44b7-90ff-f2edb9c39edb',\n",
       " 'dbe3271b-9e81-4a73-9673-f494039c9fb4',\n",
       " '1ef6ee6b-017d-442b-af54-541b9506f071',\n",
       " '7332bda0-9639-4a4d-8e2b-ce87942ca576',\n",
       " 'a31e1b23-8924-4cbd-8db1-b70788eae783',\n",
       " 'b64d5d06-ab18-4264-9fdc-f07371f1b2fe',\n",
       " 'bb9d0555-7341-4126-b393-b4880f49c413',\n",
       " 'd25ef104-c677-4434-8ce6-38b8a58f1242',\n",
       " 'efc6d6a2-7c5a-4dd2-b6a0-48c6c8ffd961',\n",
       " 'c53a2753-3375-4536-b98a-66d9815a12cd',\n",
       " 'b20cce72-0689-4841-8596-fcfec5f7b942',\n",
       " '1b319213-fa84-40ee-89b2-864faf5d109b',\n",
       " 'a56441af-b863-4069-9df1-88d7f66d9ae7',\n",
       " '45a8b349-ccef-46f5-9a27-7c4f7f43ff75',\n",
       " '83354b87-4497-4094-8b40-4ca6b0931f72',\n",
       " 'e0b3d6a9-4628-4692-aca1-cd082b6ff3ef',\n",
       " '95cad835-5dc3-45ec-b88b-f1c051a10213',\n",
       " '1a84f97b-f505-48de-8d52-30cb1b42b936',\n",
       " '6998c707-4dbe-4cef-8910-44aec3222890',\n",
       " '64c9ad35-3121-43f1-890d-10b4904295a8',\n",
       " '0736d0ae-d648-4254-bd0b-d58a1daf3f38',\n",
       " 'afa25420-e086-42bc-8f9b-b6ea26bf556e',\n",
       " '4b574995-e0f4-4db4-9961-7968feeee9f4',\n",
       " 'f4bbd528-3cbf-4e52-b6d9-ee863350e4d0',\n",
       " '77ba43b0-d269-4afe-b178-8bc175a35583',\n",
       " 'bad41695-aea0-4ee1-b69f-a842e8be847b',\n",
       " '433727a7-1c57-4373-9620-a589d299510c',\n",
       " '90e1f3bd-a24a-4082-9e0c-fe09d048889f',\n",
       " '0b7708b6-5723-49fa-927e-b2e2b254c15d',\n",
       " '52b7e382-81de-4fa0-87e8-bfed193cb7d9',\n",
       " 'dad3f848-1116-4687-9fd7-214e979aceda',\n",
       " '3e08c15f-f91b-4c43-ac27-3c363913bd6a',\n",
       " '21d4a653-a9eb-488f-b061-7354488830df',\n",
       " '5f8dedf2-deeb-4f79-9b75-0157b61ecb54',\n",
       " '7da4e95c-3982-4d9a-8f2c-476db963ba3b',\n",
       " 'f643c50c-7d4a-4f60-961a-613e86407f30',\n",
       " '4b595e8b-b826-4ee7-ad00-e0c8466f7b59',\n",
       " '1ff1e7be-60fa-4178-b653-dc7509bfaf03',\n",
       " 'f8d82653-b24a-4703-aa92-2113cf2556ac',\n",
       " '45e530e2-1c91-4734-885a-76cc1ccf5b9d',\n",
       " '8c0ae950-dd6f-4c2a-b1f0-c5b53df9b40f',\n",
       " '02bca9b8-6661-4368-b316-7dabe8f538de']"
      ]
     },
     "execution_count": 8,
     "metadata": {},
     "output_type": "execute_result"
    }
   ],
   "source": [
    "vector_store.add_documents(documents=documents)"
   ]
  },
  {
   "cell_type": "code",
   "execution_count": 9,
   "metadata": {},
   "outputs": [
    {
     "data": {
      "text/plain": [
       "[\n",
       "    {\n",
       "        \"name\": \"langchain-test-index\",\n",
       "        \"dimension\": 384,\n",
       "        \"metric\": \"cosine\",\n",
       "        \"host\": \"langchain-test-index-zhmtpmp.svc.aped-4627-b74a.pinecone.io\",\n",
       "        \"spec\": {\n",
       "            \"serverless\": {\n",
       "                \"cloud\": \"aws\",\n",
       "                \"region\": \"us-east-1\"\n",
       "            }\n",
       "        },\n",
       "        \"status\": {\n",
       "            \"ready\": true,\n",
       "            \"state\": \"Ready\"\n",
       "        },\n",
       "        \"deletion_protection\": \"disabled\"\n",
       "    },\n",
       "    {\n",
       "        \"name\": \"quickstart\",\n",
       "        \"dimension\": 2,\n",
       "        \"metric\": \"cosine\",\n",
       "        \"host\": \"quickstart-zhmtpmp.svc.aped-4627-b74a.pinecone.io\",\n",
       "        \"spec\": {\n",
       "            \"serverless\": {\n",
       "                \"cloud\": \"aws\",\n",
       "                \"region\": \"us-east-1\"\n",
       "            }\n",
       "        },\n",
       "        \"status\": {\n",
       "            \"ready\": true,\n",
       "            \"state\": \"Ready\"\n",
       "        },\n",
       "        \"deletion_protection\": \"disabled\"\n",
       "    }\n",
       "]"
      ]
     },
     "execution_count": 9,
     "metadata": {},
     "output_type": "execute_result"
    }
   ],
   "source": [
    "pc.list_indexes()"
   ]
  },
  {
   "cell_type": "code",
   "execution_count": 16,
   "metadata": {},
   "outputs": [
    {
     "name": "stdout",
     "output_type": "stream",
     "text": [
      "\n",
      "Most Similar Documents:\n",
      "1. ument digitization pipelines. For example, sometimes the pipeline requires the\n",
      "combination of multiple DL models to achieve better accuracy. Currently, pipelines\n",
      "are mainly described in academic papers and implementations are often not pub-\n",
      "licly available. To this end, the LayoutParser community platform also enables\n",
      "the sharing of layout pipelines to promote the discussion and reuse of techniques.\n",
      "For each shared pipeline, it has a dedicated project page, with links to the source\n",
      "code, documentation, and an outline of the approaches. A discussion panel is\n",
      "provided for exchanging ideas. Combined with the core LayoutParser library,\n",
      "users can easily build reusable components based on the shared pipelines and\n",
      "apply them to solve their unique problems.\n",
      "5 Use Cases\n",
      "The core objective of LayoutParser is to make it easier to create both large-scale\n",
      "and light-weight document digitization pipelines. Large-scale document processing\n",
      "2. AllenNLP [8] and transformers [ 34] have provided the community with complete\n",
      "DL-based support for developing and deploying models for general computer\n",
      "vision and natural language processing problems. LayoutParser, on the other\n",
      "hand, specializes speciﬁcally in DIA tasks. LayoutParser is also equipped with a\n",
      "community platform inspired by established model hubs such as Torch Hub [23]\n",
      "and TensorFlow Hub [1]. It enables the sharing of pretrained models as well as\n",
      "full document processing pipelines that are unique to DIA tasks.\n",
      "There have been a variety of document data collections to facilitate the\n",
      "development of DL models. Some examples include PRImA [3](magazine layouts),\n",
      "PubLayNet [38](academic paper layouts), Table Bank [ 18](tables in academic\n",
      "papers), Newspaper Navigator Dataset [ 16, 17](newspaper ﬁgure layouts) and\n",
      "HJDataset [31](historical Japanese document layouts). A spectrum of models\n",
      "trained on these datasets are currently available in the LayoutParser model zoo\n",
      "3. The DocumentLayoutAnalysis project8 focuses on processing born-digital PDF\n",
      "documents via analyzing the stored PDF data. Repositories like DeepLayout9\n",
      "and Detectron2-PubLayNet10 are individual deep learning models trained on\n",
      "layout analysis datasets without support for the full DIA pipeline. The Document\n",
      "Analysis and Exploitation (DAE) platform [ 15] and the DeepDIVA project [ 2]\n",
      "aim to improve the reproducibility of DIA methods (or DL models), yet they\n",
      "are not actively maintained. OCR engines like Tesseract [14], easyOCR11 and\n",
      "paddleOCR12 usually do not come with comprehensive functionalities for other\n",
      "DIA tasks like layout analysis.\n",
      "Recent years have also seen numerous eﬀorts to create libraries for promoting\n",
      "reproducibility and reusability in the ﬁeld of DL. Libraries like Dectectron2 [ 35],\n",
      "6 The number shown is obtained by specifying the search type as ‘code’.\n",
      "7 https://ocr-d.de/en/about\n",
      "8 https://github.com/BobLd/DocumentLayoutAnalysis\n",
      "9 https://github.com/leonlulu/DeepLayout\n"
     ]
    }
   ],
   "source": [
    "\n",
    "# Step 5: Perform a Query\n",
    "query = \"what is use case being discussed in the documents?\"\n",
    "results = vector_store.similarity_search(query, k=3)\n",
    "\n",
    "print(\"\\nMost Similar Documents:\")\n",
    "for idx, result in enumerate(results, start=1):\n",
    "    print(f\"{idx}. {result.page_content}\")\n"
   ]
  },
  {
   "cell_type": "code",
   "execution_count": 17,
   "metadata": {},
   "outputs": [
    {
     "name": "stdout",
     "output_type": "stream",
     "text": [
      "* [SIM=0.289667] ument digitization pipelines. For example, sometimes the pipeline requires the\n",
      "combination of multiple DL models to achieve better accuracy. Currently, pipelines\n",
      "are mainly described in academic papers and implementations are often not pub-\n",
      "licly available. To this end, the LayoutParser community platform also enables\n",
      "the sharing of layout pipelines to promote the discussion and reuse of techniques.\n",
      "For each shared pipeline, it has a dedicated project page, with links to the source\n",
      "code, documentation, and an outline of the approaches. A discussion panel is\n",
      "provided for exchanging ideas. Combined with the core LayoutParser library,\n",
      "users can easily build reusable components based on the shared pipelines and\n",
      "apply them to solve their unique problems.\n",
      "5 Use Cases\n",
      "The core objective of LayoutParser is to make it easier to create both large-scale\n",
      "and light-weight document digitization pipelines. Large-scale document processing [{'page': 9.0, 'source': '../../00-example_data/layout-parser-paper.pdf'}]\n",
      "* [SIM=0.274021] AllenNLP [8] and transformers [ 34] have provided the community with complete\n",
      "DL-based support for developing and deploying models for general computer\n",
      "vision and natural language processing problems. LayoutParser, on the other\n",
      "hand, specializes speciﬁcally in DIA tasks. LayoutParser is also equipped with a\n",
      "community platform inspired by established model hubs such as Torch Hub [23]\n",
      "and TensorFlow Hub [1]. It enables the sharing of pretrained models as well as\n",
      "full document processing pipelines that are unique to DIA tasks.\n",
      "There have been a variety of document data collections to facilitate the\n",
      "development of DL models. Some examples include PRImA [3](magazine layouts),\n",
      "PubLayNet [38](academic paper layouts), Table Bank [ 18](tables in academic\n",
      "papers), Newspaper Navigator Dataset [ 16, 17](newspaper ﬁgure layouts) and\n",
      "HJDataset [31](historical Japanese document layouts). A spectrum of models\n",
      "trained on these datasets are currently available in the LayoutParser model zoo [{'page': 3.0, 'source': '../../00-example_data/layout-parser-paper.pdf'}]\n",
      "* [SIM=0.266053] The DocumentLayoutAnalysis project8 focuses on processing born-digital PDF\n",
      "documents via analyzing the stored PDF data. Repositories like DeepLayout9\n",
      "and Detectron2-PubLayNet10 are individual deep learning models trained on\n",
      "layout analysis datasets without support for the full DIA pipeline. The Document\n",
      "Analysis and Exploitation (DAE) platform [ 15] and the DeepDIVA project [ 2]\n",
      "aim to improve the reproducibility of DIA methods (or DL models), yet they\n",
      "are not actively maintained. OCR engines like Tesseract [14], easyOCR11 and\n",
      "paddleOCR12 usually do not come with comprehensive functionalities for other\n",
      "DIA tasks like layout analysis.\n",
      "Recent years have also seen numerous eﬀorts to create libraries for promoting\n",
      "reproducibility and reusability in the ﬁeld of DL. Libraries like Dectectron2 [ 35],\n",
      "6 The number shown is obtained by specifying the search type as ‘code’.\n",
      "7 https://ocr-d.de/en/about\n",
      "8 https://github.com/BobLd/DocumentLayoutAnalysis\n",
      "9 https://github.com/leonlulu/DeepLayout [{'page': 2.0, 'source': '../../00-example_data/layout-parser-paper.pdf'}]\n"
     ]
    }
   ],
   "source": [
    "results = vector_store.similarity_search_with_score(\n",
    "    \"what is use case being discussed in the documents?\", k=3\n",
    ")\n",
    "for res, score in results:\n",
    "    print(f\"* [SIM={score:3f}] {res.page_content} [{res.metadata}]\")"
   ]
  }
 ],
 "metadata": {
  "kernelspec": {
   "display_name": "langchain",
   "language": "python",
   "name": "python3"
  },
  "language_info": {
   "codemirror_mode": {
    "name": "ipython",
    "version": 3
   },
   "file_extension": ".py",
   "mimetype": "text/x-python",
   "name": "python",
   "nbconvert_exporter": "python",
   "pygments_lexer": "ipython3",
   "version": "3.12.8"
  }
 },
 "nbformat": 4,
 "nbformat_minor": 2
}
