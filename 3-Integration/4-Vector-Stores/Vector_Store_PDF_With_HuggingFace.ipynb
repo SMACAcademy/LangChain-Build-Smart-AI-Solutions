{
 "cells": [
  {
   "cell_type": "code",
   "execution_count": 2,
   "metadata": {},
   "outputs": [],
   "source": [
    "from langchain.vectorstores import FAISS\n",
    "from langchain_huggingface import HuggingFaceEmbeddings\n",
    "from langchain_community.document_loaders import PyPDFLoader\n",
    "from langchain_text_splitters import RecursiveCharacterTextSplitter\n",
    "\n"
   ]
  },
  {
   "cell_type": "code",
   "execution_count": 3,
   "metadata": {},
   "outputs": [],
   "source": [
    "# Step 1: Initialize Hugging Face Embedding Model\n",
    "embedding_model = HuggingFaceEmbeddings(model_name=\"all-MiniLM-L6-v2\")  # Replace with your desired model\n"
   ]
  },
  {
   "cell_type": "code",
   "execution_count": null,
   "metadata": {},
   "outputs": [],
   "source": [
    "\n",
    "\n",
    "loader = PyPDFLoader(\n",
    "    \"../../00-example_data/layout-parser-paper.pdf\",\n",
    ")\n",
    "\n",
    "pdf_docs = loader.load()\n",
    "\n",
    "print(f\"Loaded {len(pdf_docs)} documents from the file.\")\n",
    "\n",
    "\n",
    "\n",
    "text_splitter = RecursiveCharacterTextSplitter(\n",
    "    # Set a really small chunk size, just to show.\n",
    "    chunk_size=1000,\n",
    "    chunk_overlap=20,\n",
    "    length_function=len,\n",
    "    is_separator_regex=False,\n",
    ")\n",
    "documents = text_splitter.split_documents(pdf_docs)\n",
    "\n",
    "print(len(documents))\n"
   ]
  },
  {
   "cell_type": "code",
   "execution_count": 15,
   "metadata": {},
   "outputs": [],
   "source": [
    "texts = [doc.page_content for doc in documents]\n"
   ]
  },
  {
   "cell_type": "code",
   "execution_count": null,
   "metadata": {},
   "outputs": [],
   "source": [
    "texts"
   ]
  },
  {
   "cell_type": "code",
   "execution_count": null,
   "metadata": {},
   "outputs": [],
   "source": [
    "\n",
    "# Step 3: Create FAISS Vector Store\n",
    "faiss_store = FAISS.from_texts(texts, embedding_model)\n",
    "\n",
    "# Step 4: Save the Vector Store to Disk\n",
    "faiss_store.save_local(\"faiss_pdf_index\")\n",
    "print(\"FAISS vector store saved to 'faiss_pdf_index'.\")\n"
   ]
  },
  {
   "cell_type": "code",
   "execution_count": null,
   "metadata": {},
   "outputs": [],
   "source": [
    "\n",
    "\n",
    "# Step 5: Reload the Vector Store\n",
    "loaded_faiss_store = FAISS.load_local(\n",
    "    \"faiss_pdf_index\",\n",
    "    embedding_model,\n",
    "    allow_dangerous_deserialization=True  # Enable deserialization\n",
    ")\n",
    "print(\"FAISS vector store reloaded.\")\n"
   ]
  },
  {
   "cell_type": "code",
   "execution_count": null,
   "metadata": {},
   "outputs": [],
   "source": [
    "\n",
    "# Step 6: Perform a Query\n",
    "query = \"What algorithm discussed in the document?\"  # Replace with your query\n",
    "results = loaded_faiss_store.similarity_search(query, k=3)  # Get top 3 results\n",
    "\n",
    "print(\"\\nMost Similar Documents:\")\n",
    "for idx, result in enumerate(results, start=1):\n",
    "    print(f\"{idx}. {result.page_content}\")\n"
   ]
  }
 ],
 "metadata": {
  "kernelspec": {
   "display_name": "langchain",
   "language": "python",
   "name": "python3"
  },
  "language_info": {
   "codemirror_mode": {
    "name": "ipython",
    "version": 3
   },
   "file_extension": ".py",
   "mimetype": "text/x-python",
   "name": "python",
   "nbconvert_exporter": "python",
   "pygments_lexer": "ipython3",
   "version": "3.12.8"
  }
 },
 "nbformat": 4,
 "nbformat_minor": 2
}
