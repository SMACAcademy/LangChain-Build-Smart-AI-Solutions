{
 "cells": [
  {
   "cell_type": "code",
   "execution_count": 4,
   "id": "23e9d24b",
   "metadata": {},
   "outputs": [
    {
     "name": "stdout",
     "output_type": "stream",
     "text": [
      "Requirement already satisfied: langchain in c:\\users\\muthu\\.conda\\envs\\langchain_py311\\lib\\site-packages (0.3.13)\n",
      "Requirement already satisfied: langchain-community in c:\\users\\muthu\\.conda\\envs\\langchain_py311\\lib\\site-packages (0.3.13)\n",
      "Requirement already satisfied: langchain_ollama in c:\\users\\muthu\\.conda\\envs\\langchain_py311\\lib\\site-packages (0.2.2)\n",
      "Collecting langchain_pinecone\n",
      "  Using cached langchain_pinecone-0.2.2-py3-none-any.whl.metadata (1.6 kB)\n",
      "Requirement already satisfied: PyYAML>=5.3 in c:\\users\\muthu\\.conda\\envs\\langchain_py311\\lib\\site-packages (from langchain) (6.0.2)\n",
      "Requirement already satisfied: SQLAlchemy<3,>=1.4 in c:\\users\\muthu\\.conda\\envs\\langchain_py311\\lib\\site-packages (from langchain) (2.0.32)\n",
      "Requirement already satisfied: aiohttp<4.0.0,>=3.8.3 in c:\\users\\muthu\\.conda\\envs\\langchain_py311\\lib\\site-packages (from langchain) (3.11.11)\n",
      "Requirement already satisfied: langchain-core<0.4.0,>=0.3.26 in c:\\users\\muthu\\.conda\\envs\\langchain_py311\\lib\\site-packages (from langchain) (0.3.29)\n",
      "Requirement already satisfied: langchain-text-splitters<0.4.0,>=0.3.3 in c:\\users\\muthu\\.conda\\envs\\langchain_py311\\lib\\site-packages (from langchain) (0.3.4)\n",
      "Requirement already satisfied: langsmith<0.3,>=0.1.17 in c:\\users\\muthu\\.conda\\envs\\langchain_py311\\lib\\site-packages (from langchain) (0.1.142)\n",
      "Requirement already satisfied: numpy<2,>=1.22.4 in c:\\users\\muthu\\.conda\\envs\\langchain_py311\\lib\\site-packages (from langchain) (1.26.4)\n",
      "Requirement already satisfied: pydantic<3.0.0,>=2.7.4 in c:\\users\\muthu\\.conda\\envs\\langchain_py311\\lib\\site-packages (from langchain) (2.9.2)\n",
      "Requirement already satisfied: requests<3,>=2 in c:\\users\\muthu\\.conda\\envs\\langchain_py311\\lib\\site-packages (from langchain) (2.32.3)\n",
      "Requirement already satisfied: tenacity!=8.4.0,<10,>=8.1.0 in c:\\users\\muthu\\.conda\\envs\\langchain_py311\\lib\\site-packages (from langchain) (8.5.0)\n",
      "Requirement already satisfied: dataclasses-json<0.7,>=0.5.7 in c:\\users\\muthu\\.conda\\envs\\langchain_py311\\lib\\site-packages (from langchain-community) (0.6.7)\n",
      "Requirement already satisfied: httpx-sse<0.5.0,>=0.4.0 in c:\\users\\muthu\\.conda\\envs\\langchain_py311\\lib\\site-packages (from langchain-community) (0.4.0)\n",
      "Requirement already satisfied: pydantic-settings<3.0.0,>=2.4.0 in c:\\users\\muthu\\.conda\\envs\\langchain_py311\\lib\\site-packages (from langchain-community) (2.7.1)\n",
      "Requirement already satisfied: ollama<1,>=0.4.4 in c:\\users\\muthu\\.conda\\envs\\langchain_py311\\lib\\site-packages (from langchain_ollama) (0.4.5)\n",
      "Collecting aiohttp<4.0.0,>=3.8.3 (from langchain)\n",
      "  Downloading aiohttp-3.10.11-cp311-cp311-win_amd64.whl.metadata (8.0 kB)\n",
      "Collecting langchain-tests<0.4.0,>=0.3.7 (from langchain_pinecone)\n",
      "  Downloading langchain_tests-0.3.9-py3-none-any.whl.metadata (3.6 kB)\n",
      "Collecting pinecone<6.0.0,>=5.4.0 (from langchain_pinecone)\n",
      "  Using cached pinecone-5.4.2-py3-none-any.whl.metadata (19 kB)\n",
      "Requirement already satisfied: aiohappyeyeballs>=2.3.0 in c:\\users\\muthu\\.conda\\envs\\langchain_py311\\lib\\site-packages (from aiohttp<4.0.0,>=3.8.3->langchain) (2.4.3)\n",
      "Requirement already satisfied: aiosignal>=1.1.2 in c:\\users\\muthu\\.conda\\envs\\langchain_py311\\lib\\site-packages (from aiohttp<4.0.0,>=3.8.3->langchain) (1.3.1)\n",
      "Requirement already satisfied: attrs>=17.3.0 in c:\\users\\muthu\\.conda\\envs\\langchain_py311\\lib\\site-packages (from aiohttp<4.0.0,>=3.8.3->langchain) (24.2.0)\n",
      "Requirement already satisfied: frozenlist>=1.1.1 in c:\\users\\muthu\\.conda\\envs\\langchain_py311\\lib\\site-packages (from aiohttp<4.0.0,>=3.8.3->langchain) (1.5.0)\n",
      "Requirement already satisfied: multidict<7.0,>=4.5 in c:\\users\\muthu\\.conda\\envs\\langchain_py311\\lib\\site-packages (from aiohttp<4.0.0,>=3.8.3->langchain) (6.1.0)\n",
      "Requirement already satisfied: yarl<2.0,>=1.12.0 in c:\\users\\muthu\\.conda\\envs\\langchain_py311\\lib\\site-packages (from aiohttp<4.0.0,>=3.8.3->langchain) (1.17.1)\n",
      "Requirement already satisfied: marshmallow<4.0.0,>=3.18.0 in c:\\users\\muthu\\.conda\\envs\\langchain_py311\\lib\\site-packages (from dataclasses-json<0.7,>=0.5.7->langchain-community) (3.23.1)\n",
      "Requirement already satisfied: typing-inspect<1,>=0.4.0 in c:\\users\\muthu\\.conda\\envs\\langchain_py311\\lib\\site-packages (from dataclasses-json<0.7,>=0.5.7->langchain-community) (0.9.0)\n",
      "Requirement already satisfied: jsonpatch<2.0,>=1.33 in c:\\users\\muthu\\.conda\\envs\\langchain_py311\\lib\\site-packages (from langchain-core<0.4.0,>=0.3.26->langchain) (1.33)\n",
      "Requirement already satisfied: packaging<25,>=23.2 in c:\\users\\muthu\\.conda\\envs\\langchain_py311\\lib\\site-packages (from langchain-core<0.4.0,>=0.3.26->langchain) (23.2)\n",
      "Requirement already satisfied: typing-extensions>=4.7 in c:\\users\\muthu\\.conda\\envs\\langchain_py311\\lib\\site-packages (from langchain-core<0.4.0,>=0.3.26->langchain) (4.11.0)\n",
      "Requirement already satisfied: httpx<1,>=0.25.0 in c:\\users\\muthu\\.conda\\envs\\langchain_py311\\lib\\site-packages (from langchain-tests<0.4.0,>=0.3.7->langchain_pinecone) (0.27.2)\n",
      "Collecting langchain-core<0.4.0,>=0.3.26 (from langchain)\n",
      "  Downloading langchain_core-0.3.31-py3-none-any.whl.metadata (6.3 kB)\n",
      "Requirement already satisfied: pytest<9,>=7 in c:\\users\\muthu\\.conda\\envs\\langchain_py311\\lib\\site-packages (from langchain-tests<0.4.0,>=0.3.7->langchain_pinecone) (8.3.3)\n",
      "Collecting pytest-asyncio<1,>=0.20 (from langchain-tests<0.4.0,>=0.3.7->langchain_pinecone)\n",
      "  Using cached pytest_asyncio-0.25.2-py3-none-any.whl.metadata (3.9 kB)\n",
      "Collecting pytest-socket<1,>=0.6.0 (from langchain-tests<0.4.0,>=0.3.7->langchain_pinecone)\n",
      "  Using cached pytest_socket-0.7.0-py3-none-any.whl.metadata (6.7 kB)\n",
      "Collecting syrupy<5,>=4 (from langchain-tests<0.4.0,>=0.3.7->langchain_pinecone)\n",
      "  Using cached syrupy-4.8.1-py3-none-any.whl.metadata (36 kB)\n",
      "Requirement already satisfied: orjson<4.0.0,>=3.9.14 in c:\\users\\muthu\\.conda\\envs\\langchain_py311\\lib\\site-packages (from langsmith<0.3,>=0.1.17->langchain) (3.10.11)\n",
      "Requirement already satisfied: requests-toolbelt<2.0.0,>=1.0.0 in c:\\users\\muthu\\.conda\\envs\\langchain_py311\\lib\\site-packages (from langsmith<0.3,>=0.1.17->langchain) (1.0.0)\n",
      "Requirement already satisfied: certifi>=2019.11.17 in c:\\users\\muthu\\.conda\\envs\\langchain_py311\\lib\\site-packages (from pinecone<6.0.0,>=5.4.0->langchain_pinecone) (2024.8.30)\n",
      "Collecting pinecone-plugin-inference<4.0.0,>=2.0.0 (from pinecone<6.0.0,>=5.4.0->langchain_pinecone)\n",
      "  Using cached pinecone_plugin_inference-3.1.0-py3-none-any.whl.metadata (2.2 kB)\n",
      "Collecting pinecone-plugin-interface<0.0.8,>=0.0.7 (from pinecone<6.0.0,>=5.4.0->langchain_pinecone)\n",
      "  Using cached pinecone_plugin_interface-0.0.7-py3-none-any.whl.metadata (1.2 kB)\n",
      "Requirement already satisfied: python-dateutil>=2.5.3 in c:\\users\\muthu\\.conda\\envs\\langchain_py311\\lib\\site-packages (from pinecone<6.0.0,>=5.4.0->langchain_pinecone) (2.8.2)\n",
      "Requirement already satisfied: tqdm>=4.64.1 in c:\\users\\muthu\\.conda\\envs\\langchain_py311\\lib\\site-packages (from pinecone<6.0.0,>=5.4.0->langchain_pinecone) (4.67.0)\n",
      "Requirement already satisfied: urllib3>=1.26.0 in c:\\users\\muthu\\.conda\\envs\\langchain_py311\\lib\\site-packages (from pinecone<6.0.0,>=5.4.0->langchain_pinecone) (2.2.3)\n",
      "Requirement already satisfied: annotated-types>=0.6.0 in c:\\users\\muthu\\.conda\\envs\\langchain_py311\\lib\\site-packages (from pydantic<3.0.0,>=2.7.4->langchain) (0.7.0)\n",
      "Requirement already satisfied: pydantic-core==2.23.4 in c:\\users\\muthu\\.conda\\envs\\langchain_py311\\lib\\site-packages (from pydantic<3.0.0,>=2.7.4->langchain) (2.23.4)\n",
      "Requirement already satisfied: python-dotenv>=0.21.0 in c:\\users\\muthu\\.conda\\envs\\langchain_py311\\lib\\site-packages (from pydantic-settings<3.0.0,>=2.4.0->langchain-community) (1.0.1)\n",
      "Requirement already satisfied: charset-normalizer<4,>=2 in c:\\users\\muthu\\.conda\\envs\\langchain_py311\\lib\\site-packages (from requests<3,>=2->langchain) (3.4.0)\n",
      "Requirement already satisfied: idna<4,>=2.5 in c:\\users\\muthu\\.conda\\envs\\langchain_py311\\lib\\site-packages (from requests<3,>=2->langchain) (3.10)\n",
      "Requirement already satisfied: greenlet!=0.4.17 in c:\\users\\muthu\\.conda\\envs\\langchain_py311\\lib\\site-packages (from SQLAlchemy<3,>=1.4->langchain) (3.1.1)\n",
      "Requirement already satisfied: anyio in c:\\users\\muthu\\.conda\\envs\\langchain_py311\\lib\\site-packages (from httpx<1,>=0.25.0->langchain-tests<0.4.0,>=0.3.7->langchain_pinecone) (4.6.2.post1)\n",
      "Requirement already satisfied: httpcore==1.* in c:\\users\\muthu\\.conda\\envs\\langchain_py311\\lib\\site-packages (from httpx<1,>=0.25.0->langchain-tests<0.4.0,>=0.3.7->langchain_pinecone) (1.0.6)\n",
      "Requirement already satisfied: sniffio in c:\\users\\muthu\\.conda\\envs\\langchain_py311\\lib\\site-packages (from httpx<1,>=0.25.0->langchain-tests<0.4.0,>=0.3.7->langchain_pinecone) (1.3.1)\n",
      "Requirement already satisfied: h11<0.15,>=0.13 in c:\\users\\muthu\\.conda\\envs\\langchain_py311\\lib\\site-packages (from httpcore==1.*->httpx<1,>=0.25.0->langchain-tests<0.4.0,>=0.3.7->langchain_pinecone) (0.14.0)\n",
      "Requirement already satisfied: jsonpointer>=1.9 in c:\\users\\muthu\\.conda\\envs\\langchain_py311\\lib\\site-packages (from jsonpatch<2.0,>=1.33->langchain-core<0.4.0,>=0.3.26->langchain) (3.0.0)\n",
      "Requirement already satisfied: iniconfig in c:\\users\\muthu\\.conda\\envs\\langchain_py311\\lib\\site-packages (from pytest<9,>=7->langchain-tests<0.4.0,>=0.3.7->langchain_pinecone) (2.0.0)\n",
      "Requirement already satisfied: pluggy<2,>=1.5 in c:\\users\\muthu\\.conda\\envs\\langchain_py311\\lib\\site-packages (from pytest<9,>=7->langchain-tests<0.4.0,>=0.3.7->langchain_pinecone) (1.5.0)\n",
      "Requirement already satisfied: colorama in c:\\users\\muthu\\.conda\\envs\\langchain_py311\\lib\\site-packages (from pytest<9,>=7->langchain-tests<0.4.0,>=0.3.7->langchain_pinecone) (0.4.6)\n",
      "Requirement already satisfied: six>=1.5 in c:\\users\\muthu\\.conda\\envs\\langchain_py311\\lib\\site-packages (from python-dateutil>=2.5.3->pinecone<6.0.0,>=5.4.0->langchain_pinecone) (1.16.0)\n",
      "Requirement already satisfied: mypy-extensions>=0.3.0 in c:\\users\\muthu\\.conda\\envs\\langchain_py311\\lib\\site-packages (from typing-inspect<1,>=0.4.0->dataclasses-json<0.7,>=0.5.7->langchain-community) (1.0.0)\n",
      "Requirement already satisfied: propcache>=0.2.0 in c:\\users\\muthu\\.conda\\envs\\langchain_py311\\lib\\site-packages (from yarl<2.0,>=1.12.0->aiohttp<4.0.0,>=3.8.3->langchain) (0.2.0)\n",
      "Using cached langchain_pinecone-0.2.2-py3-none-any.whl (11 kB)\n",
      "Downloading aiohttp-3.10.11-cp311-cp311-win_amd64.whl (382 kB)\n",
      "Downloading langchain_tests-0.3.9-py3-none-any.whl (36 kB)\n",
      "Downloading langchain_core-0.3.31-py3-none-any.whl (412 kB)\n",
      "Using cached pinecone-5.4.2-py3-none-any.whl (427 kB)\n",
      "Using cached pinecone_plugin_inference-3.1.0-py3-none-any.whl (87 kB)\n",
      "Using cached pinecone_plugin_interface-0.0.7-py3-none-any.whl (6.2 kB)\n",
      "Using cached pytest_asyncio-0.25.2-py3-none-any.whl (19 kB)\n",
      "Using cached pytest_socket-0.7.0-py3-none-any.whl (6.8 kB)\n",
      "Using cached syrupy-4.8.1-py3-none-any.whl (50 kB)\n",
      "Installing collected packages: pinecone-plugin-interface, syrupy, pytest-socket, pytest-asyncio, pinecone-plugin-inference, aiohttp, pinecone, langchain-core, langchain-tests, langchain_pinecone\n",
      "  Attempting uninstall: aiohttp\n",
      "    Found existing installation: aiohttp 3.11.11\n",
      "    Uninstalling aiohttp-3.11.11:\n",
      "      Successfully uninstalled aiohttp-3.11.11\n",
      "  Attempting uninstall: langchain-core\n",
      "    Found existing installation: langchain-core 0.3.29\n",
      "    Uninstalling langchain-core-0.3.29:\n",
      "      Successfully uninstalled langchain-core-0.3.29\n",
      "Successfully installed aiohttp-3.10.11 langchain-core-0.3.31 langchain-tests-0.3.9 langchain_pinecone-0.2.2 pinecone-5.4.2 pinecone-plugin-inference-3.1.0 pinecone-plugin-interface-0.0.7 pytest-asyncio-0.25.2 pytest-socket-0.7.0 syrupy-4.8.1\n",
      "Note: you may need to restart the kernel to use updated packages.\n"
     ]
    },
    {
     "name": "stderr",
     "output_type": "stream",
     "text": [
      "ERROR: pip's dependency resolver does not currently take into account all the packages that are installed. This behaviour is the source of the following dependency conflicts.\n",
      "llama-index-embeddings-ollama 0.3.1 requires llama-index-core<0.12.0,>=0.11.0, but you have llama-index-core 0.12.6 which is incompatible.\n",
      "llama-index-embeddings-ollama 0.3.1 requires ollama<0.4.0,>=0.3.1, but you have ollama 0.4.5 which is incompatible.\n",
      "llama-index-llms-ollama 0.3.6 requires llama-index-core<0.12.0,>=0.11.0, but you have llama-index-core 0.12.6 which is incompatible.\n",
      "llama-index-readers-google 0.4.3 requires llama-index-core<0.12.0,>=0.11.0, but you have llama-index-core 0.12.6 which is incompatible.\n",
      "llama-index-vector-stores-chroma 0.3.0 requires llama-index-core<0.12.0,>=0.11.0, but you have llama-index-core 0.12.6 which is incompatible.\n",
      "open-webui 0.3.35 requires aiohttp==3.10.8, but you have aiohttp 3.10.11 which is incompatible.\n",
      "open-webui 0.3.35 requires boto3==1.35.0, but you have boto3 1.34.69 which is incompatible.\n",
      "open-webui 0.3.35 requires chromadb==0.5.9, but you have chromadb 0.5.23 which is incompatible.\n",
      "open-webui 0.3.35 requires google-generativeai==0.7.2, but you have google-generativeai 0.5.4 which is incompatible.\n",
      "open-webui 0.3.35 requires langchain==0.2.15, but you have langchain 0.3.13 which is incompatible.\n",
      "open-webui 0.3.35 requires langchain-community==0.2.12, but you have langchain-community 0.3.13 which is incompatible.\n",
      "open-webui 0.3.35 requires pymilvus==2.4.7, but you have pymilvus 2.5.3 which is incompatible.\n",
      "open-webui 0.3.35 requires pypdf==4.3.1, but you have pypdf 5.1.0 which is incompatible.\n",
      "s3fs 2024.10.0 requires fsspec==2024.10.0.*, but you have fsspec 2024.9.0 which is incompatible.\n"
     ]
    }
   ],
   "source": [
    "%pip install langchain langchain-community langchain_ollama langchain_pinecone"
   ]
  },
  {
   "cell_type": "code",
   "execution_count": 5,
   "id": "e44f7afe",
   "metadata": {},
   "outputs": [],
   "source": [
    "from langchain_ollama import OllamaEmbeddings\n",
    "from langchain_ollama import OllamaLLM\n",
    "\n",
    "# Configure Ollama LLM\n",
    "ollama_llm = OllamaLLM(\n",
    "    model=\"llama3.2:latest\",\n",
    "    base_url=\"http://localhost:11434\",\n",
    "    temperature=0.1\n",
    ")\n",
    "\n",
    "# Configure embedding model\n",
    "ollama_embedding = OllamaEmbeddings(\n",
    "    model=\"nomic-embed-text:latest\",  # Correct parameter name is `model`\n",
    "    base_url=\"http://localhost:11434\",  # Base URL for the Ollama service\n",
    ")\n",
    "\n",
    "\n"
   ]
  },
  {
   "cell_type": "code",
   "execution_count": 7,
   "id": "899fa8fd",
   "metadata": {},
   "outputs": [],
   "source": [
    "from pinecone import Pinecone, ServerlessSpec\n",
    "import getpass\n",
    "import os\n",
    "import time\n",
    "\n",
    "if not os.getenv(\"PINECONE_API_KEY\"):\n",
    "    os.environ[\"PINECONE_API_KEY\"] = getpass.getpass(\"Enter your Pinecone API key: \")\n",
    "\n",
    "pinecone_api_key = os.environ.get(\"PINECONE_API_KEY\")\n",
    "\n",
    "pc = Pinecone(api_key=pinecone_api_key)"
   ]
  },
  {
   "cell_type": "code",
   "execution_count": 16,
   "id": "c4f00ffb",
   "metadata": {},
   "outputs": [],
   "source": [
    "import time\n",
    "\n",
    "index_name = \"sample\"  # change if desired\n",
    "\n",
    "existing_indexes = [index_info[\"name\"] for index_info in pc.list_indexes()]\n",
    "\n",
    "if index_name not in existing_indexes:\n",
    "    pc.create_index(\n",
    "        name=index_name,\n",
    "        dimension=768,\n",
    "        metric=\"cosine\",\n",
    "        spec=ServerlessSpec(cloud=\"aws\", region=\"us-east-1\"),\n",
    "    )\n",
    "    while not pc.describe_index(index_name).status[\"ready\"]:\n",
    "        time.sleep(1)\n",
    "\n",
    "index = pc.Index(index_name)"
   ]
  },
  {
   "cell_type": "code",
   "execution_count": 11,
   "id": "18d7222a",
   "metadata": {},
   "outputs": [
    {
     "data": {
      "text/plain": [
       "{\n",
       "    \"name\": \"sample\",\n",
       "    \"dimension\": 384,\n",
       "    \"metric\": \"cosine\",\n",
       "    \"host\": \"sample-zhmtpmp.svc.aped-4627-b74a.pinecone.io\",\n",
       "    \"spec\": {\n",
       "        \"serverless\": {\n",
       "            \"cloud\": \"aws\",\n",
       "            \"region\": \"us-east-1\"\n",
       "        }\n",
       "    },\n",
       "    \"status\": {\n",
       "        \"ready\": true,\n",
       "        \"state\": \"Ready\"\n",
       "    },\n",
       "    \"deletion_protection\": \"disabled\"\n",
       "}"
      ]
     },
     "execution_count": 11,
     "metadata": {},
     "output_type": "execute_result"
    }
   ],
   "source": [
    "pc.describe_index(index_name)"
   ]
  },
  {
   "cell_type": "code",
   "execution_count": 12,
   "id": "b8cfcb1b-64ee-4b91-8d82-ce7803834985",
   "metadata": {},
   "outputs": [],
   "source": [
    "from langchain_core.documents import Document\n",
    "from langchain_pinecone import PineconeVectorStore\n",
    "\n",
    "docs = [\n",
    "    Document(\n",
    "        page_content=\"A bunch of scientists bring back dinosaurs and mayhem breaks loose\",\n",
    "        metadata={\"year\": 1993, \"rating\": 7.7, \"genre\": \"science fiction\"},\n",
    "    ),\n",
    "    Document(\n",
    "        page_content=\"Leo DiCaprio gets lost in a dream within a dream within a dream within a ...\",\n",
    "        metadata={\"year\": 2010, \"director\": \"Christopher Nolan\", \"rating\": 8.2},\n",
    "    ),\n",
    "    Document(\n",
    "        page_content=\"A psychologist / detective gets lost in a series of dreams within dreams within dreams and Inception reused the idea\",\n",
    "        metadata={\"year\": 2006, \"director\": \"Satoshi Kon\", \"rating\": 8.6},\n",
    "    ),\n",
    "    Document(\n",
    "        page_content=\"A bunch of normal-sized women are supremely wholesome and some men pine after them\",\n",
    "        metadata={\"year\": 2019, \"director\": \"Greta Gerwig\", \"rating\": 8.3},\n",
    "    ),\n",
    "    Document(\n",
    "        page_content=\"Toys come alive and have a blast doing so\",\n",
    "        metadata={\"year\": 1995, \"genre\": \"animated\"},\n",
    "    ),\n",
    "    Document(\n",
    "        page_content=\"Three men walk into the Zone, three men walk out of the Zone\",\n",
    "        metadata={\n",
    "            \"year\": 1979,\n",
    "            \"director\": \"Andrei Tarkovsky\",\n",
    "            \"genre\": \"thriller\",\n",
    "            \"rating\": 9.9,\n",
    "        },\n",
    "    ),\n",
    "]\n",
    "\n"
   ]
  },
  {
   "cell_type": "code",
   "execution_count": 17,
   "id": "c48a7c90",
   "metadata": {},
   "outputs": [],
   "source": [
    "vectorstore = PineconeVectorStore.from_documents(\n",
    "    docs, index_name=index_name, embedding=ollama_embedding\n",
    ")"
   ]
  },
  {
   "cell_type": "code",
   "execution_count": 18,
   "id": "7e5677c3-f6ee-4974-ab5f-a0f50c199d45",
   "metadata": {},
   "outputs": [],
   "source": [
    "from typing import List\n",
    "\n",
    "from langchain_core.documents import Document\n",
    "from langchain_core.runnables import chain\n",
    "\n",
    "\n",
    "@chain\n",
    "def retriever(query: str) -> List[Document]:\n",
    "    docs, scores = zip(*vectorstore.similarity_search_with_score(query))\n",
    "    for doc, score in zip(docs, scores):\n",
    "        doc.metadata[\"score\"] = score\n",
    "\n",
    "    return docs"
   ]
  },
  {
   "cell_type": "code",
   "execution_count": 19,
   "id": "c9cad75e-b955-4012-989c-3c1820b49ba9",
   "metadata": {},
   "outputs": [
    {
     "data": {
      "text/plain": [
       "(Document(id='b8b86bd1-df85-4efa-ab88-cf228170dee7', metadata={'genre': 'science fiction', 'rating': 7.7, 'year': 1993.0, 'score': 0.701512575}, page_content='A bunch of scientists bring back dinosaurs and mayhem breaks loose'),\n",
       " Document(id='5e6563b0-3bfa-402b-8ba7-d4e5dd7cd073', metadata={'genre': 'animated', 'year': 1995.0, 'score': 0.541614771}, page_content='Toys come alive and have a blast doing so'),\n",
       " Document(id='287dc636-1fbd-4f9d-8b24-6f1ce0224301', metadata={'director': 'Andrei Tarkovsky', 'genre': 'thriller', 'rating': 9.9, 'year': 1979.0, 'score': 0.420702457}, page_content='Three men walk into the Zone, three men walk out of the Zone'),\n",
       " Document(id='ec329a73-1770-4bd3-9e8d-41b4ce196b3b', metadata={'director': 'Christopher Nolan', 'rating': 8.2, 'year': 2010.0, 'score': 0.417136729}, page_content='Leo DiCaprio gets lost in a dream within a dream within a dream within a ...'))"
      ]
     },
     "execution_count": 19,
     "metadata": {},
     "output_type": "execute_result"
    }
   ],
   "source": [
    "result = retriever.invoke(\"dinosaur\")\n",
    "result"
   ]
  }
 ],
 "metadata": {
  "kernelspec": {
   "display_name": "langchain_py311",
   "language": "python",
   "name": "python3"
  },
  "language_info": {
   "codemirror_mode": {
    "name": "ipython",
    "version": 3
   },
   "file_extension": ".py",
   "mimetype": "text/x-python",
   "name": "python",
   "nbconvert_exporter": "python",
   "pygments_lexer": "ipython3",
   "version": "3.11.10"
  }
 },
 "nbformat": 4,
 "nbformat_minor": 5
}
