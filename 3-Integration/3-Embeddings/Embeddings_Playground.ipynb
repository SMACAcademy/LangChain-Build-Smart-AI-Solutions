{
 "cells": [
  {
   "cell_type": "code",
   "execution_count": null,
   "metadata": {},
   "outputs": [],
   "source": [
    "%pip install scikit-learn\n",
    "%pip install -U langchain-huggingface\n"
   ]
  },
  {
   "cell_type": "code",
   "execution_count": 14,
   "metadata": {},
   "outputs": [],
   "source": [
    "import numpy as np\n",
    "import matplotlib.pyplot as plt\n",
    "from sklearn.metrics.pairwise import cosine_similarity\n",
    "from sklearn.decomposition import PCA\n",
    "from langchain_huggingface import HuggingFaceEmbeddings\n"
   ]
  },
  {
   "cell_type": "code",
   "execution_count": 15,
   "metadata": {},
   "outputs": [],
   "source": [
    "# Step 1: Define the embedding model\n",
    "# Using a HuggingFace model for embeddings in LangChain\n",
    "embed_model = HuggingFaceEmbeddings(model_name=\"sentence-transformers/all-MiniLM-L6-v2\")\n"
   ]
  },
  {
   "cell_type": "code",
   "execution_count": null,
   "metadata": {},
   "outputs": [],
   "source": [
    "# Generate an embedding for a single sentence\n",
    "single_embedding = embed_model.embed_query(\"Embeddings represent text as numerical vectors in AI systems.\")\n",
    "print(single_embedding)\n",
    "print(f\"Single embedding length: {len(single_embedding)}\")"
   ]
  },
  {
   "cell_type": "code",
   "execution_count": null,
   "metadata": {},
   "outputs": [],
   "source": [
    "print(embed_model.embed_query(\"Embeddings represent text as numerical vectors in AI systems.\"))\n"
   ]
  },
  {
   "cell_type": "code",
   "execution_count": 18,
   "metadata": {},
   "outputs": [],
   "source": [
    "# Step 2: Define the statements\n",
    "statements = [\n",
    "    \"The cat is on the mat.\",                     # Set 1 - Stmt 1\n",
    "    \"The sun rises in the east.\",                 # Unrelated - Stmt 2\n",
    "    \"The feline rests on the carpet.\",            # Set 1 - Stmt 3\n",
    "    \"Artificial Intelligence is fascinating.\",    # Set 2 - Stmt 4\n",
    "    \"Machine learning drives AI advancements.\",   # Set 2 - Stmt 5\n",
    "    \"Birds fly in the sky.\",                      # Unrelated - Stmt 6\n",
    "    \"Deep learning is a subset of AI.\",           # Set 2 - Stmt 7\n",
    "    \"Cat and Cow are domestic animals\",           # Set 1 - Stmt 8\n",
    "    \"Equity, mutual funds and stocks are various options to invest\", # Set 3 - Stmt 9\n",
    "    \"Gold can be used as hedge towards the investement\", # Set 3 - Stmt 10\n",
    "    \"Nifty and Sensex are major index in India\", # Set 3 - Stmt 11\n",
    "    \"Nasdaq, Dow and S&P 100 are major index in India\", # Set 3 - Stmt 12\n",
    "]"
   ]
  },
  {
   "cell_type": "code",
   "execution_count": null,
   "metadata": {},
   "outputs": [],
   "source": [
    "# Step 3: Generate embeddings\n",
    "embeddings = [embed_model.embed_query(statement) for statement in statements]\n",
    "print(f\"Number of embeddings generated: {len(embeddings)}\")"
   ]
  },
  {
   "cell_type": "code",
   "execution_count": 20,
   "metadata": {},
   "outputs": [],
   "source": [
    "\n",
    "# Step 4: Calculate cosine similarity\n",
    "similarity_matrix = cosine_similarity(embeddings)"
   ]
  },
  {
   "cell_type": "code",
   "execution_count": null,
   "metadata": {},
   "outputs": [],
   "source": [
    "# Step 5: Visualize the similarity matrix\n",
    "plt.figure(figsize=(10, 8))\n",
    "# plt.imshow(similarity_matrix, cmap='coolwarm', interpolation='nearest')\n",
    "plt.imshow(similarity_matrix, cmap='RdYlGn', interpolation='nearest')\n",
    "plt.colorbar(label='Cosine Similarity')\n",
    "plt.xticks(range(len(statements)), [f\"Stmt {i+1}\" for i in range(len(statements))], rotation=45)\n",
    "plt.yticks(range(len(statements)), [f\"Stmt {i+1}\" for i in range(len(statements))])\n",
    "\n",
    "# Add the similarity values as text in each box\n",
    "for i in range(similarity_matrix.shape[0]):\n",
    "    for j in range(similarity_matrix.shape[1]):\n",
    "        plt.text(j, i, f\"{similarity_matrix[i, j]:.1f}\", \n",
    "                 ha='center', va='center', color='black')\n",
    "\n",
    "\n",
    "\n",
    "plt.title(\"Cosine Similarity Between Statements\")\n",
    "plt.show()"
   ]
  },
  {
   "cell_type": "code",
   "execution_count": 10,
   "metadata": {},
   "outputs": [],
   "source": [
    "# Step 6: Analyze relationships in 2D using PCA\n",
    "pca = PCA(n_components=2)\n",
    "reduced_embeddings = pca.fit_transform(embeddings)"
   ]
  },
  {
   "cell_type": "code",
   "execution_count": null,
   "metadata": {},
   "outputs": [],
   "source": [
    "# Scatter plot to visualize relationships\n",
    "plt.figure(figsize=(8, 6))\n",
    "for i, (x, y) in enumerate(reduced_embeddings):\n",
    "    plt.scatter(x, y, label=f\"Stmt {i+1}\")\n",
    "    plt.text(x + 0.02, y, f\"Stmt {i+1}\", fontsize=9)\n",
    "\n",
    "plt.title(\"Statement Relationships (PCA Reduced)\")\n",
    "plt.xlabel(\"PCA Dimension 1\")\n",
    "plt.ylabel(\"PCA Dimension 2\")\n",
    "plt.legend()\n",
    "plt.grid()\n",
    "plt.show()"
   ]
  },
  {
   "cell_type": "code",
   "execution_count": null,
   "metadata": {},
   "outputs": [],
   "source": [
    "import numpy as np\n",
    "import matplotlib.pyplot as plt\n",
    "from mpl_toolkits.mplot3d import Axes3D\n",
    "from matplotlib.animation import FuncAnimation\n",
    "\n",
    "# Example similarity matrix (replace with your actual data)\n",
    "similarity_matrix = np.random.rand(12, 12)  # Replace this with your actual similarity matrix\n",
    "\n",
    "# Statements (x and y labels)\n",
    "statements = [f\"Stmt {i+1}\" for i in range(similarity_matrix.shape[0])]\n",
    "\n",
    "# Create a meshgrid for plotting\n",
    "x, y = np.meshgrid(range(similarity_matrix.shape[0]), range(similarity_matrix.shape[1]))\n",
    "z = similarity_matrix\n",
    "\n",
    "# Set up the figure and 3D axis\n",
    "fig = plt.figure(figsize=(10, 8))\n",
    "ax = fig.add_subplot(111, projection='3d')\n",
    "\n",
    "# Plot the surface\n",
    "surf = ax.plot_surface(x, y, z, cmap='RdYlGn', edgecolor='k', alpha=0.8)\n",
    "\n",
    "# Add colorbar\n",
    "cbar = fig.colorbar(surf, ax=ax, shrink=0.5, aspect=10)\n",
    "cbar.set_label(\"Cosine Similarity\")\n",
    "\n",
    "# Add axis labels\n",
    "ax.set_xticks(range(len(statements)))\n",
    "ax.set_xticklabels(statements, rotation=45, ha='right')\n",
    "ax.set_yticks(range(len(statements)))\n",
    "ax.set_yticklabels(statements)\n",
    "ax.set_xlabel(\"Statement\")\n",
    "ax.set_ylabel(\"Statement\")\n",
    "ax.set_zlabel(\"Cosine Similarity\")\n",
    "ax.set_title(\"3D Cosine Similarity Heatmap\")\n",
    "\n",
    "# Animate the 3D rotation\n",
    "def update(frame):\n",
    "    ax.view_init(30, frame)  # Rotate elevation to 30 degrees, azimuth dynamically changes\n",
    "\n",
    "ani = FuncAnimation(fig, update, frames=np.arange(0, 360, 2), interval=50)  # 360-degree rotation\n",
    "\n",
    "# Show the plot (dynamic rotation)\n",
    "plt.show()\n"
   ]
  }
 ],
 "metadata": {
  "kernelspec": {
   "display_name": "llamaindex",
   "language": "python",
   "name": "python3"
  },
  "language_info": {
   "codemirror_mode": {
    "name": "ipython",
    "version": 3
   },
   "file_extension": ".py",
   "mimetype": "text/x-python",
   "name": "python",
   "nbconvert_exporter": "python",
   "pygments_lexer": "ipython3",
   "version": "3.11.10"
  }
 },
 "nbformat": 4,
 "nbformat_minor": 2
}
