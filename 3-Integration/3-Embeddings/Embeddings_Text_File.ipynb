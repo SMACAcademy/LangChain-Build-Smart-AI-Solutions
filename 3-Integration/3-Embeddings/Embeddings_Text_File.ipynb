{
 "cells": [
  {
   "cell_type": "code",
   "execution_count": null,
   "metadata": {},
   "outputs": [],
   "source": [
    "%pip install langchain langchain_community langchain_ollama langchain_text_splitters"
   ]
  },
  {
   "cell_type": "code",
   "execution_count": 7,
   "metadata": {},
   "outputs": [],
   "source": [
    "from langchain_ollama import OllamaEmbeddings\n",
    "\n",
    "embedding_model = OllamaEmbeddings(\n",
    "    # model=\"llama3.2:latest\",\n",
    "    model=\"nomic-embed-text:latest\",\n",
    "    base_url=\"http://localhost:11434\"  # Ensure Ollama is running locally\n",
    ")"
   ]
  },
  {
   "cell_type": "code",
   "execution_count": null,
   "metadata": {},
   "outputs": [],
   "source": [
    "from langchain_community.document_loaders import TextLoader\n",
    "\n",
    "# Load a text document\n",
    "file_path = \"../../00-example_data/state_of_the_union.txt\"\n",
    "document_loader = TextLoader(file_path)\n",
    "raw_documents = document_loader.load()\n",
    "\n",
    "print(\"Number of documents loaded:\", len(raw_documents))\n",
    "print(\"Sample Document:\", raw_documents[0].page_content[:200])"
   ]
  },
  {
   "cell_type": "code",
   "execution_count": null,
   "metadata": {},
   "outputs": [],
   "source": [
    "from langchain_text_splitters import CharacterTextSplitter\n",
    "\n",
    "# Split text into manageable chunks\n",
    "text_splitter = CharacterTextSplitter(chunk_size=1000, chunk_overlap=200)\n",
    "chunks = text_splitter.split_documents(raw_documents)\n",
    "\n",
    "print(\"Number of chunks created:\", len(chunks))\n",
    "print(\"Sample Chunk:\", chunks[0].page_content[:200])"
   ]
  },
  {
   "cell_type": "code",
   "execution_count": null,
   "metadata": {},
   "outputs": [],
   "source": [
    "# Generate embeddings for each chunk\n",
    "chunk_embeddings = [embedding_model.embed_query(chunk.page_content) for chunk in chunks]\n",
    "\n",
    "print(\"Number of embeddings generated:\", len(chunk_embeddings))\n",
    "print(\"First Chunk Embedding (first 5 values):\", chunk_embeddings[0][:5])"
   ]
  },
  {
   "cell_type": "code",
   "execution_count": null,
   "metadata": {},
   "outputs": [],
   "source": [
    "from langchain_core.vectorstores import InMemoryVectorStore\n",
    "from langchain.schema import Document\n",
    "\n",
    "# Convert chunks to LangChain Documents\n",
    "documents = [Document(page_content=chunk.page_content) for chunk in chunks]\n",
    "\n",
    "# Create an in-memory vector store\n",
    "vector_store = InMemoryVectorStore.from_documents(documents, embedding_model)\n",
    "\n",
    "print(\"Number of documents in vector store:\", len(vector_store.store))"
   ]
  },
  {
   "cell_type": "code",
   "execution_count": null,
   "metadata": {},
   "outputs": [],
   "source": [
    "# Define a query\n",
    "query = \"What is the state of the union?\"\n",
    "\n",
    "# Search for similar chunks\n",
    "similar_docs = vector_store.similarity_search(query, k=3)\n",
    "\n",
    "print(\"Most similar documents:\")\n",
    "for i, doc in enumerate(similar_docs, start=1):\n",
    "    print(f\"Result {i}:\")\n",
    "    print(doc.page_content[:200])  # Print first 200 characters\n",
    "    print(\"-\" * 50)"
   ]
  }
 ],
 "metadata": {
  "kernelspec": {
   "display_name": "langchain",
   "language": "python",
   "name": "python3"
  },
  "language_info": {
   "codemirror_mode": {
    "name": "ipython",
    "version": 3
   },
   "file_extension": ".py",
   "mimetype": "text/x-python",
   "name": "python",
   "nbconvert_exporter": "python",
   "pygments_lexer": "ipython3",
   "version": "3.12.8"
  }
 },
 "nbformat": 4,
 "nbformat_minor": 2
}
