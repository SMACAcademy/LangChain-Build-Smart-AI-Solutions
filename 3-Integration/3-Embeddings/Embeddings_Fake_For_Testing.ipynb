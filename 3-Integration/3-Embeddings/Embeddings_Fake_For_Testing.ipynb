{
 "cells": [
  {
   "cell_type": "code",
   "execution_count": 1,
   "metadata": {},
   "outputs": [],
   "source": [
    "from langchain_community.embeddings import FakeEmbeddings"
   ]
  },
  {
   "cell_type": "code",
   "execution_count": 2,
   "metadata": {},
   "outputs": [],
   "source": [
    "embeddings = FakeEmbeddings(size=1352)"
   ]
  },
  {
   "cell_type": "code",
   "execution_count": 3,
   "metadata": {},
   "outputs": [
    {
     "name": "stdout",
     "output_type": "stream",
     "text": [
      "Query Embedding (length): 1352\n",
      "Query Embedding (example): [0.04562094905955295, -1.006406873422064, 0.6412067035591751, 0.9310935586033252, -1.1063645135551115, -0.5652112419939923, -0.0018224418800480847, -2.119424772459504, 0.2852725672489026, 2.348092408925824]\n"
     ]
    }
   ],
   "source": [
    "query_result = embeddings.embed_query(\"foo\")\n",
    "print(\"Query Embedding (length):\", len(query_result))\n",
    "print(\"Query Embedding (example):\", query_result[:10])  # Display first 10 dimensions for brevity\n"
   ]
  },
  {
   "cell_type": "code",
   "execution_count": 8,
   "metadata": {},
   "outputs": [],
   "source": [
    "doc_results = embeddings.embed_documents([\"foo\",\"test\"])\n"
   ]
  },
  {
   "cell_type": "code",
   "execution_count": 9,
   "metadata": {},
   "outputs": [
    {
     "name": "stdout",
     "output_type": "stream",
     "text": [
      "\n",
      "Document Embeddings (length): 2\n",
      "First Document Embedding (example): [0.24314521810800463, 1.1786229034295823, -0.7627026269206062, 0.7062633885524925, 0.025481899607368255, -0.12291050980741788, 0.8497183735331456, 1.8371060999178856, -0.5915566921782872, -0.26108127007881626]\n",
      "Second Document Embedding (example): [-0.5689537872839685, -0.23795391715548184, 0.4546258597029691, -0.4320403528031031, -0.30175591788143874, 0.41460947743910737, -0.051830719380616855, 0.3242407145908441, -1.1042129994905232, 0.6132984520394599]\n"
     ]
    }
   ],
   "source": [
    "print(\"\\nDocument Embeddings (length):\", len(doc_results))\n",
    "print(\"First Document Embedding (example):\", doc_results[0][:10])  # Display first 10 dimensions of the first doc\n",
    "print(\"Second Document Embedding (example):\", doc_results[1][:10])  # Display first 10 dimensions of the second doc\n"
   ]
  },
  {
   "cell_type": "code",
   "execution_count": null,
   "metadata": {},
   "outputs": [],
   "source": [
    "print(\"\\nEach embedding size:\", len(doc_results[0]))"
   ]
  }
 ],
 "metadata": {
  "kernelspec": {
   "display_name": "llamaindex",
   "language": "python",
   "name": "python3"
  },
  "language_info": {
   "codemirror_mode": {
    "name": "ipython",
    "version": 3
   },
   "file_extension": ".py",
   "mimetype": "text/x-python",
   "name": "python",
   "nbconvert_exporter": "python",
   "pygments_lexer": "ipython3",
   "version": "3.11.10"
  }
 },
 "nbformat": 4,
 "nbformat_minor": 2
}
