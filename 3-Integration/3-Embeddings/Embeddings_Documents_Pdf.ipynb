{
 "cells": [
  {
   "cell_type": "code",
   "execution_count": null,
   "metadata": {},
   "outputs": [],
   "source": [
    "%pip install -qU pypdf"
   ]
  },
  {
   "cell_type": "code",
   "execution_count": null,
   "metadata": {},
   "outputs": [],
   "source": [
    "%pip install -qU langchain-ollama"
   ]
  },
  {
   "cell_type": "code",
   "execution_count": 14,
   "metadata": {},
   "outputs": [],
   "source": [
    "from langchain_community.document_loaders import PyPDFLoader\n",
    "\n",
    "from langchain_ollama import OllamaEmbeddings\n",
    "\n",
    "from langchain_core.vectorstores import InMemoryVectorStore\n",
    "from langchain.schema import Document"
   ]
  },
  {
   "cell_type": "code",
   "execution_count": 15,
   "metadata": {},
   "outputs": [],
   "source": [
    "\n",
    "\n",
    "loader = PyPDFLoader(\n",
    "    \"../../00-example_data/layout-parser-paper.pdf\",\n",
    ")"
   ]
  },
  {
   "cell_type": "code",
   "execution_count": null,
   "metadata": {},
   "outputs": [],
   "source": [
    "docs = loader.load()\n",
    "docs[0]"
   ]
  },
  {
   "cell_type": "code",
   "execution_count": 6,
   "metadata": {},
   "outputs": [],
   "source": [
    "from langchain_text_splitters import RecursiveCharacterTextSplitter\n",
    "\n",
    "\n",
    "text_splitter = RecursiveCharacterTextSplitter(\n",
    "    # Set a really small chunk size, just to show.\n",
    "    chunk_size=100,\n",
    "    chunk_overlap=20,\n",
    "    length_function=len,\n",
    "    is_separator_regex=False,\n",
    ")\n",
    "texts = text_splitter.split_documents(docs)"
   ]
  },
  {
   "cell_type": "code",
   "execution_count": null,
   "metadata": {},
   "outputs": [],
   "source": [
    "texts"
   ]
  },
  {
   "cell_type": "code",
   "execution_count": null,
   "metadata": {},
   "outputs": [],
   "source": [
    "len(texts)"
   ]
  },
  {
   "cell_type": "code",
   "execution_count": null,
   "metadata": {},
   "outputs": [],
   "source": [
    "# Step 3: Configure the Ollama model for embeddings\n",
    "embedding_model = OllamaEmbeddings(\n",
    "    model=\"nomic-embed-text:latest\",\n",
    "    base_url=\"http://localhost:11434\",  # Replace with your Ollama base URL\n",
    ")"
   ]
  },
  {
   "cell_type": "code",
   "execution_count": 10,
   "metadata": {},
   "outputs": [],
   "source": [
    "# Step 4: Generate embeddings and store them using FAISS\n",
    "from langchain.docstore.document import Document\n",
    "\n",
    "# Convert split texts to LangChain Document objects\n",
    "documents = [Document(page_content=text.page_content) for text in texts]\n"
   ]
  },
  {
   "cell_type": "code",
   "execution_count": null,
   "metadata": {},
   "outputs": [],
   "source": [
    "documents"
   ]
  },
  {
   "cell_type": "code",
   "execution_count": 25,
   "metadata": {},
   "outputs": [],
   "source": [
    "text_contents = [text.page_content for text in texts]\n",
    "\n",
    "vector_store = InMemoryVectorStore.from_texts(\n",
    "    texts=text_contents,\n",
    "    embedding=embedding_model,\n",
    ")"
   ]
  },
  {
   "cell_type": "code",
   "execution_count": null,
   "metadata": {},
   "outputs": [],
   "source": [
    "# Assuming vector_store is already created and populated\n",
    "print(f\"Number of documents in the vector store: {len(vector_store.store)}\")\n"
   ]
  },
  {
   "cell_type": "code",
   "execution_count": null,
   "metadata": {},
   "outputs": [],
   "source": [
    "# List all document IDs\n",
    "print(\"Document IDs in the vector store:\")\n",
    "for doc_id in vector_store.store.keys():\n",
    "    print(doc_id)"
   ]
  },
  {
   "cell_type": "code",
   "execution_count": null,
   "metadata": {},
   "outputs": [],
   "source": [
    "# Print all document contents\n",
    "print(\"Documents in the vector store:\")\n",
    "for doc_id, data in vector_store.store.items():\n",
    "    print(f\"Document ID: {doc_id}\")\n",
    "    print(f\"Content: {data['doc'].page_content[:200]}...\")  # Print first 200 characters\n",
    "    print(\"-\" * 50)"
   ]
  },
  {
   "cell_type": "code",
   "execution_count": null,
   "metadata": {},
   "outputs": [],
   "source": [
    "# Print document metadata\n",
    "print(\"Document metadata:\")\n",
    "for doc_id, data in vector_store.store.items():\n",
    "    print(f\"Document ID: {doc_id}\")\n",
    "    print(f\"Metadata: {data['doc'].metadata}\")\n",
    "    print(\"-\" * 50)"
   ]
  },
  {
   "cell_type": "code",
   "execution_count": null,
   "metadata": {},
   "outputs": [],
   "source": [
    "# Generalized exploration of vector_store\n",
    "print(f\"Number of documents in vector store: {len(vector_store.store)}\")\n",
    "\n",
    "# Inspect the structure of the first item\n",
    "first_item = list(vector_store.store.values())[0]\n",
    "print(\"First item structure:\", first_item)\n",
    "\n",
    "# Iterate and adapt based on structure\n",
    "for doc_id, data in vector_store.store.items():\n",
    "    print(f\"Document ID: {doc_id}\")\n",
    "    if isinstance(data, Document):  # Check if it's a Document object\n",
    "        print(f\"Content: {data.page_content[:200]}...\")\n",
    "        print(f\"Metadata: {data.metadata}\")\n",
    "    elif isinstance(data, dict):  # If it's a dictionary\n",
    "        print(f\"Content: {data.get('content', 'No content available')[:200]}...\")\n",
    "        print(f\"Metadata: {data.get('metadata', 'No metadata available')}\")\n",
    "    print(\"-\" * 50)\n"
   ]
  },
  {
   "cell_type": "code",
   "execution_count": null,
   "metadata": {},
   "outputs": [],
   "source": [
    "# Create an in-memory vector store\n",
    "vector_store = InMemoryVectorStore.from_documents(texts, embedding_model)"
   ]
  },
  {
   "cell_type": "code",
   "execution_count": null,
   "metadata": {},
   "outputs": [],
   "source": [
    "\n",
    "\n",
    "\n",
    "\n",
    "# Create FAISS vector store\n",
    "vector_store = FAISS.from_documents(documents, embedding_model)\n",
    "\n",
    "print(\"Generated and stored embeddings for all chunks.\")\n",
    "\n",
    "# Step 5: Explore the generated embeddings\n",
    "# Display the vector store information\n",
    "print(f\"Number of documents in vector store: {len(vector_store.index_to_docstore)}\")\n",
    "\n",
    "# Step 6: Perform a similarity search\n",
    "query = \"What is layout parsing?\"\n",
    "similar_docs = vector_store.similarity_search(query, k=3)\n",
    "\n",
    "print(\"\\nMost similar chunks to the query:\")\n",
    "for i, doc in enumerate(similar_docs, start=1):\n",
    "    print(f\"Chunk {i}:\")\n",
    "    print(doc.page_content[:200], \"...\")\n",
    "    print(\"-\" * 50)\n"
   ]
  }
 ],
 "metadata": {
  "kernelspec": {
   "display_name": "langchain",
   "language": "python",
   "name": "python3"
  },
  "language_info": {
   "codemirror_mode": {
    "name": "ipython",
    "version": 3
   },
   "file_extension": ".py",
   "mimetype": "text/x-python",
   "name": "python",
   "nbconvert_exporter": "python",
   "pygments_lexer": "ipython3",
   "version": "3.12.8"
  }
 },
 "nbformat": 4,
 "nbformat_minor": 2
}
