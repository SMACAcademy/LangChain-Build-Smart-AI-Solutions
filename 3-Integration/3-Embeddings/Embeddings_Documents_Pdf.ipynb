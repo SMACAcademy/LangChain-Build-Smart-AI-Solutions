{
 "cells": [
  {
   "cell_type": "code",
   "execution_count": null,
   "metadata": {},
   "outputs": [],
   "source": [
    "%pip install -qU pypdf"
   ]
  },
  {
   "cell_type": "code",
   "execution_count": null,
   "metadata": {},
   "outputs": [],
   "source": [
    "%pip install -qU langchain-ollama"
   ]
  },
  {
   "cell_type": "code",
   "execution_count": 30,
   "metadata": {},
   "outputs": [],
   "source": [
    "from langchain_community.document_loaders import PyPDFLoader\n",
    "\n",
    "from langchain_ollama import OllamaEmbeddings\n",
    "\n",
    "from langchain_core.vectorstores import InMemoryVectorStore\n",
    "from langchain.schema import Document"
   ]
  },
  {
   "cell_type": "code",
   "execution_count": 31,
   "metadata": {},
   "outputs": [],
   "source": [
    "\n",
    "\n",
    "loader = PyPDFLoader(\n",
    "    \"../../00-example_data/layout-parser-paper.pdf\",\n",
    ")"
   ]
  },
  {
   "cell_type": "code",
   "execution_count": null,
   "metadata": {},
   "outputs": [],
   "source": [
    "docs = loader.load()\n",
    "docs[0]"
   ]
  },
  {
   "cell_type": "code",
   "execution_count": 33,
   "metadata": {},
   "outputs": [],
   "source": [
    "from langchain_text_splitters import RecursiveCharacterTextSplitter\n",
    "\n",
    "\n",
    "text_splitter = RecursiveCharacterTextSplitter(\n",
    "    # Set a really small chunk size, just to show.\n",
    "    chunk_size=100,\n",
    "    chunk_overlap=20,\n",
    "    length_function=len,\n",
    "    is_separator_regex=False,\n",
    ")\n",
    "texts = text_splitter.split_documents(docs)"
   ]
  },
  {
   "cell_type": "code",
   "execution_count": null,
   "metadata": {},
   "outputs": [],
   "source": [
    "texts"
   ]
  },
  {
   "cell_type": "code",
   "execution_count": null,
   "metadata": {},
   "outputs": [],
   "source": [
    "len(texts)"
   ]
  },
  {
   "cell_type": "code",
   "execution_count": 36,
   "metadata": {},
   "outputs": [],
   "source": [
    "# Step 3: Configure the Ollama model for embeddings\n",
    "embedding_model = OllamaEmbeddings(\n",
    "    model=\"nomic-embed-text:latest\",\n",
    "    base_url=\"http://localhost:11434\",  # Replace with your Ollama base URL\n",
    ")"
   ]
  },
  {
   "cell_type": "code",
   "execution_count": 37,
   "metadata": {},
   "outputs": [],
   "source": [
    "# Step 4: Generate embeddings and store them using FAISS\n",
    "from langchain.docstore.document import Document\n",
    "\n",
    "# Convert split texts to LangChain Document objects\n",
    "documents = [Document(page_content=text.page_content) for text in texts]\n"
   ]
  },
  {
   "cell_type": "code",
   "execution_count": null,
   "metadata": {},
   "outputs": [],
   "source": [
    "documents"
   ]
  },
  {
   "cell_type": "code",
   "execution_count": 39,
   "metadata": {},
   "outputs": [],
   "source": [
    "text_contents = [text.page_content for text in texts]\n",
    "\n",
    "vector_store = InMemoryVectorStore.from_texts(\n",
    "    texts=text_contents,\n",
    "    embedding=embedding_model,\n",
    ")"
   ]
  },
  {
   "cell_type": "code",
   "execution_count": null,
   "metadata": {},
   "outputs": [],
   "source": [
    "# Assuming vector_store is already created and populated\n",
    "print(f\"Number of documents in the vector store: {len(vector_store.store)}\")\n"
   ]
  },
  {
   "cell_type": "code",
   "execution_count": null,
   "metadata": {},
   "outputs": [],
   "source": [
    "# List all document IDs\n",
    "print(\"Document IDs in the vector store:\")\n",
    "for doc_id in vector_store.store.keys():\n",
    "    print(doc_id)"
   ]
  },
  {
   "cell_type": "code",
   "execution_count": null,
   "metadata": {},
   "outputs": [],
   "source": [
    "# Print all document contents\n",
    "print(\"Documents in the vector store:\")\n",
    "for doc_id, data in vector_store.store.items():\n",
    "    print(f\"Document ID: {doc_id}\")\n",
    "    #print(f\"Content: {data['doc'].page_content[:200]}...\")  # Print first 200 characters\n",
    "    # Safely access 'Content' within 'data'\n",
    "    print(\"Extracting all keys and values from Content:\")\n",
    "    for key, value in data.items():\n",
    "        if isinstance(value, list) and len(value) > 10:  # Handle long lists (e.g., vector)\n",
    "            print(f\"{key}: {value[:10]}... (showing first 10 items)\")\n",
    "        else:\n",
    "            print(f\"{key}: {value}\")\n",
    "    #print(data)\n",
    "    print(\"-\" * 50)"
   ]
  }
 ],
 "metadata": {
  "kernelspec": {
   "display_name": "llamaindex",
   "language": "python",
   "name": "python3"
  },
  "language_info": {
   "codemirror_mode": {
    "name": "ipython",
    "version": 3
   },
   "file_extension": ".py",
   "mimetype": "text/x-python",
   "name": "python",
   "nbconvert_exporter": "python",
   "pygments_lexer": "ipython3",
   "version": "3.11.10"
  }
 },
 "nbformat": 4,
 "nbformat_minor": 2
}
