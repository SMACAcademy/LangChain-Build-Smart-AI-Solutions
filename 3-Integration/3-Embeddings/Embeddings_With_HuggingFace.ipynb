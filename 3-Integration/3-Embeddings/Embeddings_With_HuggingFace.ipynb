{
 "cells": [
  {
   "cell_type": "code",
   "execution_count": null,
   "metadata": {},
   "outputs": [],
   "source": [
    "%pip install -U langchain langchain-huggingface sentence-transformers\n"
   ]
  },
  {
   "cell_type": "code",
   "execution_count": null,
   "metadata": {},
   "outputs": [],
   "source": [
    "from langchain_huggingface import HuggingFaceEmbeddings\n",
    "\n",
    "# Step 1: Initialize SentenceTransformer Embeddings\n",
    "# Replace \"all-MiniLM-L6-v2\" with any other SentenceTransformer model if needed\n",
    "embedding_function = HuggingFaceEmbeddings(model_name=\"all-MiniLM-L6-v2\")\n",
    "\n",
    "# Step 2: Embed a query\n",
    "query = \"What is LangChain?\"\n",
    "query_embedding = embedding_function.embed_query(query)\n",
    "\n",
    "print(\"Query Embedding (length):\", len(query_embedding))\n",
    "print(\"Query Embedding (example):\", query_embedding[:10]) \n",
    " # Display first 10 dimensions"
   ]
  },
  {
   "cell_type": "code",
   "execution_count": null,
   "metadata": {},
   "outputs": [],
   "source": [
    "\n",
    "\n",
    "# Step 3: Embed a list of documents\n",
    "documents = [\n",
    "    \"LangChain is a framework for building applications with LLMs.\",\n",
    "    \"Embeddings are numerical representations of text.\",\n",
    "    \"The SentenceTransformer model generates embeddings efficiently.\"\n",
    "]\n",
    "document_embeddings = embedding_function.embed_documents(documents)\n",
    "\n",
    "print(\"\\nNumber of Document Embeddings:\", len(document_embeddings))\n",
    "print(\"First Document Embedding (length):\", len(document_embeddings[0]))\n",
    "print(\"First Document Embedding (example):\", document_embeddings[0][:10])  # Display first 10 dimensions\n"
   ]
  },
  {
   "cell_type": "code",
   "execution_count": null,
   "metadata": {},
   "outputs": [],
   "source": [
    "print(\"Second Document Embedding (length):\", len(document_embeddings[1]))\n",
    "print(\"Second Document Embedding (example):\", document_embeddings[1][:10])  # Display first 10 dimensions\n"
   ]
  },
  {
   "cell_type": "code",
   "execution_count": null,
   "metadata": {},
   "outputs": [],
   "source": [
    "print(\"Third Document Embedding (length):\", len(document_embeddings[2]))\n",
    "print(\"Third Document Embedding (example):\", document_embeddings[2][:10])  # Display first 10 dimensions\n"
   ]
  }
 ],
 "metadata": {
  "kernelspec": {
   "display_name": "langchain",
   "language": "python",
   "name": "python3"
  },
  "language_info": {
   "codemirror_mode": {
    "name": "ipython",
    "version": 3
   },
   "file_extension": ".py",
   "mimetype": "text/x-python",
   "name": "python",
   "nbconvert_exporter": "python",
   "pygments_lexer": "ipython3",
   "version": "3.12.8"
  }
 },
 "nbformat": 4,
 "nbformat_minor": 2
}
