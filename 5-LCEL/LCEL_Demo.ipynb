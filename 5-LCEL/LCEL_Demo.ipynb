{
 "cells": [
  {
   "cell_type": "code",
   "execution_count": null,
   "metadata": {},
   "outputs": [],
   "source": [
    "from langchain_core.runnables import RunnableSequence, RunnableLambda\n",
    "from langchain_ollama import ChatOllama\n",
    "\n",
    "# Initialize Ollama LLM\n",
    "llm = ChatOllama(model=\"llama3.2:latest\", temperature=0)\n",
    "\n",
    "# Define processing steps\n",
    "def preprocess(text):\n",
    "    return f\"Question: {text}\"\n",
    "\n",
    "def postprocess(response):\n",
    "    return response.content.upper()  # Convert output to uppercase\n",
    "\n",
    "# Wrap functions with RunnableLambda\n",
    "preprocess_runnable = RunnableLambda(preprocess)\n",
    "postprocess_runnable = RunnableLambda(postprocess)\n",
    "\n",
    "# Pass each step separately (without list)\n",
    "chain = RunnableSequence(preprocess_runnable, llm, postprocess_runnable)\n",
    "\n",
    "# Execute the chain\n",
    "result = chain.invoke(\"Tell me a fun fact about space!\")\n",
    "print(result)\n"
   ]
  },
  {
   "cell_type": "code",
   "execution_count": null,
   "metadata": {},
   "outputs": [],
   "source": [
    "from langchain_core.runnables import RunnableParallel\n",
    "\n",
    "# Define multiple LLMs\n",
    "llm1 = ChatOllama(model=\"gemma2:2b\", temperature=0)\n",
    "llm2 = ChatOllama(model=\"llama3.2:latest\", temperature=0)\n",
    "\n",
    "# Define parallel chain\n",
    "parallel_chain = RunnableParallel({\n",
    "    \"Fact 1\": llm1,\n",
    "    \"Fact 2\": llm2,\n",
    "})\n",
    "\n",
    "# Execute the chain\n",
    "result = parallel_chain.invoke(\"Tell me a science fact\")\n",
    "print(result)\n"
   ]
  },
  {
   "cell_type": "code",
   "execution_count": null,
   "metadata": {},
   "outputs": [],
   "source": [
    "chain_runnable = preprocess_runnable | llm | postprocess_runnable\n",
    "result = chain_runnable.invoke(\"Tell me a physics fact\")\n",
    "print(result)\n",
    "\n"
   ]
  },
  {
   "cell_type": "code",
   "execution_count": null,
   "metadata": {},
   "outputs": [],
   "source": [
    "chain_pipe = preprocess_runnable.pipe(llm).pipe(postprocess_runnable)\n",
    "result = chain_pipe.invoke(\"Tell me about quantum mechanics\")\n",
    "print(result)\n"
   ]
  },
  {
   "cell_type": "code",
   "execution_count": null,
   "metadata": {},
   "outputs": [],
   "source": [
    "from langchain_core.runnables import RunnableParallel\n",
    "from langchain_ollama import ChatOllama\n",
    "\n",
    "# Initialize the Ollama model\n",
    "llm = ChatOllama(model=\"llama3.2:latest\", temperature=0)\n",
    "\n",
    "# Define multiple tasks\n",
    "tasks = {\n",
    "    \"LLM Response\": llm,\n",
    "    \"Alternative Response\": llm,\n",
    "}\n",
    "\n",
    "# Explicitly convert the dictionary to a RunnableParallel\n",
    "chain_auto_type = RunnableParallel(tasks)\n",
    "\n",
    "# Invoke the chain\n",
    "result = chain_auto_type.invoke(\"Tell me about AI\")\n",
    "print(result)\n"
   ]
  },
  {
   "cell_type": "code",
   "execution_count": null,
   "metadata": {},
   "outputs": [],
   "source": [
    "chain = preprocess | llm | postprocess\n",
    "result = chain.invoke(\"Tell me a physics fact\")\n",
    "print(result)"
   ]
  },
  {
   "cell_type": "code",
   "execution_count": null,
   "metadata": {},
   "outputs": [],
   "source": [
    "for chunk in (preprocess | llm | postprocess).stream(\"Explain relativity in simple terms\"):\n",
    "    print(chunk, end=\"|\", flush=True)\n"
   ]
  }
 ],
 "metadata": {
  "kernelspec": {
   "display_name": "langchain_py311",
   "language": "python",
   "name": "python3"
  },
  "language_info": {
   "codemirror_mode": {
    "name": "ipython",
    "version": 3
   },
   "file_extension": ".py",
   "mimetype": "text/x-python",
   "name": "python",
   "nbconvert_exporter": "python",
   "pygments_lexer": "ipython3",
   "version": "3.11.10"
  }
 },
 "nbformat": 4,
 "nbformat_minor": 2
}
