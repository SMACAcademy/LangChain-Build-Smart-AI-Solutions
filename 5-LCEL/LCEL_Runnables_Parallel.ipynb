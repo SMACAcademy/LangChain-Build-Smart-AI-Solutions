{
 "cells": [
  {
   "cell_type": "code",
   "execution_count": null,
   "metadata": {},
   "outputs": [],
   "source": [
    "%pip install -qU langchain langchain-ollama pypdf"
   ]
  },
  {
   "cell_type": "code",
   "execution_count": 1,
   "metadata": {},
   "outputs": [],
   "source": [
    "import os\n",
    "from langchain_ollama import ChatOllama\n",
    "from langchain_core.runnables import RunnableParallel, RunnablePassthrough\n",
    "from langchain_core.prompts import ChatPromptTemplate\n",
    "from langchain_core.output_parsers import StrOutputParser\n",
    "from langchain_community.document_loaders import PyPDFLoader\n",
    "from langchain_text_splitters import RecursiveCharacterTextSplitter\n"
   ]
  },
  {
   "cell_type": "code",
   "execution_count": null,
   "metadata": {},
   "outputs": [],
   "source": [
    "# Load a PDF file\n",
    "pdf_loader = PyPDFLoader(\"../00-example_data/layout-parser-paper.pdf\")  # Replace with your actual file path\n",
    "pdf_docs = pdf_loader.load()\n",
    "print(f\"Loaded {len(pdf_docs)} pages from the file.\")\n",
    "\n",
    "# Split the text into chunks for better processing\n",
    "text_splitter = RecursiveCharacterTextSplitter(chunk_size=1000, chunk_overlap=20)\n",
    "documents = text_splitter.split_documents(pdf_docs)\n",
    "print(f\"Total chunks created: {len(documents)}\")\n"
   ]
  },
  {
   "cell_type": "code",
   "execution_count": null,
   "metadata": {},
   "outputs": [],
   "source": [
    "from langchain_core.runnables import RunnableLambda\n",
    "\n",
    "# Define a function to retrieve relevant chunks\n",
    "def retrieve_documents(query):\n",
    "    return \"\\n\".join([doc.page_content for doc in documents[:3]])  # Returning top 3 chunks\n",
    "\n",
    "# Convert the function into a Runnable\n",
    "retriever_runnable = RunnableLambda(retrieve_documents)\n",
    "\n",
    "# Define a prompt template\n",
    "template = \"\"\"Answer the question based only on the following context:\n",
    "{context}\n",
    "\n",
    "Question: {question}\n",
    "\"\"\"\n",
    "prompt = ChatPromptTemplate.from_template(template)\n",
    "\n",
    "# Define the Ollama model\n",
    "model = ChatOllama(model=\"llama3.2\", temperature=0.1)\n",
    "\n",
    "# Create a parallel chain that retrieves context and passes through the question\n",
    "retrieval_chain = (\n",
    "    {\"context\": retriever_runnable, \"question\": RunnablePassthrough()}\n",
    "    | prompt\n",
    "    | model\n",
    "    | StrOutputParser()\n",
    ")\n",
    "\n",
    "# Invoke the chain\n",
    "result = retrieval_chain.invoke(\"What is discussed in this document?\")\n",
    "print(result)\n"
   ]
  },
  {
   "cell_type": "code",
   "execution_count": null,
   "metadata": {},
   "outputs": [],
   "source": [
    "prompt"
   ]
  },
  {
   "cell_type": "code",
   "execution_count": null,
   "metadata": {},
   "outputs": [],
   "source": [
    "from operator import itemgetter\n",
    "\n",
    "# Update the template to support multi-language responses\n",
    "template = \"\"\"Answer the question based only on the following context:\n",
    "{context}\n",
    "\n",
    "Question: {question}\n",
    "\n",
    "Answer in the following language: {language}\n",
    "\"\"\"\n",
    "prompt = ChatPromptTemplate.from_template(template)\n",
    "\n",
    "# Create a new chain with itemgetter for structured input extraction\n",
    "chain = (\n",
    "    {\n",
    "        \"context\": itemgetter(\"question\") | retriever_runnable,\n",
    "        \"question\": itemgetter(\"question\"),\n",
    "        \"language\": itemgetter(\"language\"),\n",
    "    }\n",
    "    | prompt\n",
    "    | model\n",
    "    | StrOutputParser()\n",
    ")\n",
    "\n",
    "# Invoke the chain with a language parameter\n",
    "result = chain.invoke({\"question\": \"What is discussed in this document?\", \"language\": \"French\"})\n",
    "print(result)\n"
   ]
  },
  {
   "cell_type": "code",
   "execution_count": null,
   "metadata": {},
   "outputs": [],
   "source": [
    "template"
   ]
  },
  {
   "cell_type": "code",
   "execution_count": null,
   "metadata": {},
   "outputs": [],
   "source": [
    "prompt"
   ]
  },
  {
   "cell_type": "code",
   "execution_count": null,
   "metadata": {},
   "outputs": [],
   "source": [
    "# Define multiple prompts\n",
    "joke_prompt = ChatPromptTemplate.from_template(\"Tell me a joke about {topic}\")\n",
    "poem_prompt = ChatPromptTemplate.from_template(\"Write a short poem about {topic}\")\n",
    "\n",
    "model1 = ChatOllama(model=\"llama3.2:latest\", temperature=0.1)\n",
    "model2 = ChatOllama(model=\"gemma2:2b\", temperature=0.1)\n",
    "\n",
    "\n",
    "# Create separate chains for each prompt\n",
    "joke_chain = joke_prompt | model1\n",
    "poem_chain = poem_prompt | model2\n",
    "\n",
    "# Run them in parallel\n",
    "parallel_chain = RunnableParallel(joke=joke_chain, poem=poem_chain)\n",
    "\n",
    "# Invoke the chain\n",
    "result = parallel_chain.invoke({\"topic\": \"stars\"})\n",
    "print(result)\n"
   ]
  },
  {
   "cell_type": "code",
   "execution_count": null,
   "metadata": {},
   "outputs": [],
   "source": [
    "import time\n",
    "\n",
    "# Measure single execution\n",
    "start = time.time()\n",
    "joke_chain.invoke({\"topic\": \"stars\"})\n",
    "end = time.time()\n",
    "print(f\"Joke chain execution time: {end - start:.2f} seconds\")\n",
    "\n",
    "# Measure single execution\n",
    "start = time.time()\n",
    "poem_chain.invoke({\"topic\": \"stars\"})\n",
    "end = time.time()\n",
    "print(f\"Poem chain execution time: {end - start:.2f} seconds\")\n",
    "\n",
    "# Measure parallel execution\n",
    "start = time.time()\n",
    "parallel_chain.invoke({\"topic\": \"stars\"})\n",
    "end = time.time()\n",
    "print(f\"Parallel execution time: {end - start:.2f} seconds\")\n"
   ]
  }
 ],
 "metadata": {
  "kernelspec": {
   "display_name": "langchain_py311",
   "language": "python",
   "name": "python3"
  },
  "language_info": {
   "codemirror_mode": {
    "name": "ipython",
    "version": 3
   },
   "file_extension": ".py",
   "mimetype": "text/x-python",
   "name": "python",
   "nbconvert_exporter": "python",
   "pygments_lexer": "ipython3",
   "version": "3.11.10"
  }
 },
 "nbformat": 4,
 "nbformat_minor": 2
}
