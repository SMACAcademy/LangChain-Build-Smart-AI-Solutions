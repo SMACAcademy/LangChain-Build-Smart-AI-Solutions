{
 "cells": [
  {
   "cell_type": "code",
   "execution_count": 20,
   "metadata": {},
   "outputs": [],
   "source": [
    "from langchain_ollama import ChatOllama\n",
    "\n",
    "# Define primary and fallback LLMs\n",
    "#primary_llm = ChatOllama(model=\"llama3.2\", max_retries=0)  # No retries to force failure\n",
    "primary_llm = ChatOllama(model=\"llama\")  # No retries to force failure\n",
    "fallback_llm = ChatOllama(model=\"mistral:7b\")  # Backup model\n",
    "\n",
    "# Apply fallback mechanism\n",
    "llm_with_fallback = primary_llm.with_fallbacks([fallback_llm])\n"
   ]
  },
  {
   "cell_type": "code",
   "execution_count": 21,
   "metadata": {},
   "outputs": [
    {
     "data": {
      "text/plain": [
       "AIMessage(content=\" Hello! I'm an artificial intelligence, so I don't have feelings, but I'm here to help you. How can I assist you today?\", additional_kwargs={}, response_metadata={'model': 'mistral:7b', 'created_at': '2025-02-03T02:53:27.3392464Z', 'done': True, 'done_reason': 'stop', 'total_duration': 2003182100, 'load_duration': 1400024100, 'prompt_eval_count': 12, 'prompt_eval_duration': 146000000, 'eval_count': 34, 'eval_duration': 454000000, 'message': Message(role='assistant', content='', images=None, tool_calls=None)}, id='run-7d367ea4-4d5f-43d1-965b-daec000db13b-0', usage_metadata={'input_tokens': 12, 'output_tokens': 34, 'total_tokens': 46})"
      ]
     },
     "execution_count": 21,
     "metadata": {},
     "output_type": "execute_result"
    }
   ],
   "source": [
    "llm_with_fallback.invoke(\"Hello, how are you? \")"
   ]
  },
  {
   "cell_type": "code",
   "execution_count": 22,
   "metadata": {},
   "outputs": [],
   "source": [
    "from langchain_core.prompts import ChatPromptTemplate\n",
    "\n",
    "# Primary model prompt\n",
    "primary_prompt = ChatPromptTemplate.from_messages([\n",
    "    (\"system\", \"You're a humorous assistant.\"),\n",
    "    (\"human\", \"Why did the {animal} cross the road?\")\n",
    "])\n",
    "\n",
    "# Fallback prompt (simpler version)\n",
    "fallback_prompt = ChatPromptTemplate.from_messages([\n",
    "    (\"human\", \"Tell me a joke about a {animal} crossing the road.\")\n",
    "])\n"
   ]
  },
  {
   "cell_type": "code",
   "execution_count": 23,
   "metadata": {},
   "outputs": [],
   "source": [
    "# Define primary and fallback chains\n",
    "primary_chain = primary_prompt | primary_llm\n",
    "fallback_chain = fallback_prompt | fallback_llm\n",
    "\n",
    "# Chain with fallbacks\n",
    "chain_with_fallback = primary_chain.with_fallbacks([fallback_chain])\n"
   ]
  },
  {
   "cell_type": "code",
   "execution_count": 24,
   "metadata": {},
   "outputs": [
    {
     "data": {
      "text/plain": [
       "AIMessage(content=\" Why did the kangaroo cross the road?\\n\\nTo get to the bar-roo, of course! (Playing on 'bar' as an abbreviation for 'pub' or 'bar' in Australian English)\", additional_kwargs={}, response_metadata={'model': 'mistral:7b', 'created_at': '2025-02-03T02:54:06.0427548Z', 'done': True, 'done_reason': 'stop', 'total_duration': 880104800, 'load_duration': 8829000, 'prompt_eval_count': 19, 'prompt_eval_duration': 24000000, 'eval_count': 51, 'eval_duration': 845000000, 'message': Message(role='assistant', content='', images=None, tool_calls=None)}, id='run-75998bf5-da71-4ff9-bf69-35cb1c78d1a3-0', usage_metadata={'input_tokens': 19, 'output_tokens': 51, 'total_tokens': 70})"
      ]
     },
     "execution_count": 24,
     "metadata": {},
     "output_type": "execute_result"
    }
   ],
   "source": [
    "chain_with_fallback.invoke({\"animal\": \"kangaroo\"})"
   ]
  },
  {
   "cell_type": "code",
   "execution_count": 25,
   "metadata": {},
   "outputs": [
    {
     "data": {
      "text/plain": [
       "RunnableWithFallbacks(runnable=ChatPromptTemplate(input_variables=['animal'], input_types={}, partial_variables={}, messages=[SystemMessagePromptTemplate(prompt=PromptTemplate(input_variables=[], input_types={}, partial_variables={}, template=\"You're a humorous assistant.\"), additional_kwargs={}), HumanMessagePromptTemplate(prompt=PromptTemplate(input_variables=['animal'], input_types={}, partial_variables={}, template='Why did the {animal} cross the road?'), additional_kwargs={})])\n",
       "| ChatOllama(model='llama'), fallbacks=[ChatPromptTemplate(input_variables=['animal'], input_types={}, partial_variables={}, messages=[HumanMessagePromptTemplate(prompt=PromptTemplate(input_variables=['animal'], input_types={}, partial_variables={}, template='Tell me a joke about a {animal} crossing the road.'), additional_kwargs={})])\n",
       "| ChatOllama(model='mistral:7b')])"
      ]
     },
     "execution_count": 25,
     "metadata": {},
     "output_type": "execute_result"
    }
   ],
   "source": [
    "chain_with_fallback"
   ]
  }
 ],
 "metadata": {
  "kernelspec": {
   "display_name": "langchain_py311",
   "language": "python",
   "name": "python3"
  },
  "language_info": {
   "codemirror_mode": {
    "name": "ipython",
    "version": 3
   },
   "file_extension": ".py",
   "mimetype": "text/x-python",
   "name": "python",
   "nbconvert_exporter": "python",
   "pygments_lexer": "ipython3",
   "version": "3.11.10"
  }
 },
 "nbformat": 4,
 "nbformat_minor": 2
}
