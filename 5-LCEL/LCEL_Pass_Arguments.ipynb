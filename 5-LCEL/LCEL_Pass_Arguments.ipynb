{
 "cells": [
  {
   "cell_type": "code",
   "execution_count": null,
   "metadata": {},
   "outputs": [],
   "source": [
    "%pip install -qU langchain langchain-ollama langchain-community pypdf"
   ]
  },
  {
   "cell_type": "code",
   "execution_count": 12,
   "metadata": {},
   "outputs": [],
   "source": [
    "from langchain_ollama import ChatOllama\n",
    "from langchain_core.runnables import RunnableParallel, RunnablePassthrough\n"
   ]
  },
  {
   "cell_type": "code",
   "execution_count": 13,
   "metadata": {},
   "outputs": [
    {
     "name": "stdout",
     "output_type": "stream",
     "text": [
      "{'passed': {'num': 1}, 'modified': 2}\n"
     ]
    }
   ],
   "source": [
    "# Define a parallel execution where one key is passed through and another is modified\n",
    "runnable = RunnableParallel(\n",
    "    passed=RunnablePassthrough(),  # Passes the input unchanged\n",
    "    modified=lambda x: x[\"num\"] + 1,  # Modifies the input by adding 1\n",
    ")\n",
    "\n",
    "# Invoke with sample input\n",
    "result = runnable.invoke({\"num\": 1})\n",
    "\n",
    "# Print the result\n",
    "print(result)\n"
   ]
  },
  {
   "cell_type": "code",
   "execution_count": 14,
   "metadata": {},
   "outputs": [],
   "source": [
    "from langchain_ollama import ChatOllama\n",
    "from langchain_core.prompts import ChatPromptTemplate\n",
    "from langchain_core.output_parsers import StrOutputParser\n",
    "from langchain_core.runnables import RunnableParallel, RunnablePassthrough\n",
    "from langchain_community.document_loaders import PyPDFLoader\n",
    "from langchain_text_splitters import RecursiveCharacterTextSplitter\n"
   ]
  },
  {
   "cell_type": "code",
   "execution_count": 15,
   "metadata": {},
   "outputs": [
    {
     "name": "stdout",
     "output_type": "stream",
     "text": [
      "Loaded 16 documents from the file.\n",
      "Total split documents: 53\n"
     ]
    }
   ],
   "source": [
    "# Load the PDF file\n",
    "pdf_path = \"../00-example_data/layout-parser-paper.pdf\"  # Update with your actual file path\n",
    "loader = PyPDFLoader(pdf_path)\n",
    "\n",
    "# Extract documents from the PDF\n",
    "pdf_docs = loader.load()\n",
    "print(f\"Loaded {len(pdf_docs)} documents from the file.\")\n",
    "\n",
    "# Split the text into smaller chunks\n",
    "text_splitter = RecursiveCharacterTextSplitter(\n",
    "    chunk_size=1000,  # Each chunk contains up to 1000 characters\n",
    "    chunk_overlap=20,  # Overlapping helps retain context\n",
    ")\n",
    "\n",
    "# Apply the text splitter\n",
    "documents = text_splitter.split_documents(pdf_docs)\n",
    "print(f\"Total split documents: {len(documents)}\")\n"
   ]
  },
  {
   "cell_type": "code",
   "execution_count": 16,
   "metadata": {},
   "outputs": [],
   "source": [
    "# Define a chat prompt template\n",
    "template = \"\"\"Answer the question based only on the following context:\n",
    "{context}\n",
    "\n",
    "Question: \n",
    "\"\"\"\n",
    "\n",
    "# Create a prompt template\n",
    "prompt = ChatPromptTemplate.from_template(template)\n",
    "\n",
    "# Initialize Ollama LLM\n",
    "model = ChatOllama(model=\"llama3.2:latest\")\n"
   ]
  },
  {
   "cell_type": "code",
   "execution_count": 17,
   "metadata": {},
   "outputs": [],
   "source": [
    "from langchain_core.runnables import RunnableLambda\n",
    "\n",
    "# Define a function to retrieve relevant chunks\n",
    "def retrieve_documents(query):\n",
    "    # Here, we filter the documents to return only relevant ones\n",
    "    return \"\\n\".join([doc.page_content for doc in documents[:3]])  # Returning top 3 chunks\n",
    "\n",
    "# Convert the function into a Runnable\n",
    "retriever_runnable = RunnableLambda(retrieve_documents)\n"
   ]
  },
  {
   "cell_type": "code",
   "execution_count": 18,
   "metadata": {},
   "outputs": [
    {
     "name": "stdout",
     "output_type": "stream",
     "text": [
      "This document discusses the development and introduction of a unified toolkit called LayoutParser for Deep Learning based Document Image Analysis (DIA). It aims to simplify the reuse of innovations in DIA research and applications, filling a gap in existing toolkits. The paper presents an open-source library with simple interfaces for applying and customizing deep learning models for layout detection, character recognition, and other document processing tasks.\n"
     ]
    }
   ],
   "source": [
    "\n",
    "# Create a chain that passes the user question and retrieves relevant context\n",
    "retrieval_chain = (\n",
    "    {\"context\": retriever_runnable, \"question\": RunnablePassthrough()}\n",
    "    | prompt\n",
    "    | model\n",
    "    | StrOutputParser()\n",
    ")\n",
    "\n",
    "# Invoke the chain with a query\n",
    "result = retrieval_chain.invoke(\"What is discussed in this document?\")\n",
    "print(result)\n"
   ]
  }
 ],
 "metadata": {
  "kernelspec": {
   "display_name": "langchain_py311",
   "language": "python",
   "name": "python3"
  },
  "language_info": {
   "codemirror_mode": {
    "name": "ipython",
    "version": 3
   },
   "file_extension": ".py",
   "mimetype": "text/x-python",
   "name": "python",
   "nbconvert_exporter": "python",
   "pygments_lexer": "ipython3",
   "version": "3.11.10"
  }
 },
 "nbformat": 4,
 "nbformat_minor": 2
}
