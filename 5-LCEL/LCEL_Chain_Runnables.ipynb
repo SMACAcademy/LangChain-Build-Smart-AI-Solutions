{
 "cells": [
  {
   "cell_type": "code",
   "execution_count": null,
   "metadata": {},
   "outputs": [],
   "source": [
    "from langchain_ollama import ChatOllama\n",
    "from langchain_core.output_parsers import StrOutputParser\n",
    "from langchain_core.prompts import ChatPromptTemplate\n",
    "\n",
    "# Initialize Ollama LLM\n",
    "llm = ChatOllama(model=\"llama3.2:latest\", temperature=0)\n",
    "\n",
    "# Define a prompt template for joke generation\n",
    "prompt = ChatPromptTemplate.from_template(\"Tell me a joke about {topic}\")\n",
    "\n",
    "# Chain the steps together using the pipe operator\n",
    "chain = prompt | llm | StrOutputParser()\n",
    "\n",
    "# Invoke the chain with a topic\n",
    "result = chain.invoke({\"topic\": \"bears\"})\n",
    "print(result)\n"
   ]
  },
  {
   "cell_type": "code",
   "execution_count": null,
   "metadata": {},
   "outputs": [],
   "source": [
    "# Define a prompt to evaluate joke quality\n",
    "analysis_prompt = ChatPromptTemplate.from_template(\"Is this a funny joke? {joke}\")\n",
    "\n",
    "# Extend the chain to include joke evaluation\n",
    "composed_chain = {\"joke\": chain} | analysis_prompt | llm | StrOutputParser()\n",
    "\n",
    "# Invoke the composed chain\n",
    "result = composed_chain.invoke({\"topic\": \"bears\"})\n",
    "print(result)\n"
   ]
  },
  {
   "cell_type": "code",
   "execution_count": null,
   "metadata": {},
   "outputs": [],
   "source": [
    "# Custom function to add metadata\n",
    "def add_metadata(input_text):\n",
    "    return {\"joke\": input_text, \"source\": \"LangChain AI\"}\n",
    "\n",
    "# Extend the chain with a lambda function\n",
    "composed_chain_with_lambda = (\n",
    "    chain\n",
    "    | add_metadata\n",
    "    | analysis_prompt\n",
    "    | llm\n",
    "    | StrOutputParser()\n",
    ")\n",
    "\n",
    "# Invoke the chain\n",
    "result = composed_chain_with_lambda.invoke({\"topic\": \"beets\"})\n",
    "print(result)\n"
   ]
  },
  {
   "cell_type": "code",
   "execution_count": null,
   "metadata": {},
   "outputs": [],
   "source": [
    "from langchain_core.runnables import RunnableParallel\n",
    "\n",
    "# Build the chain using .pipe() instead of |\n",
    "composed_chain_with_pipe = (\n",
    "    RunnableParallel({\"joke\": chain})\n",
    "    .pipe(analysis_prompt)\n",
    "    .pipe(llm)\n",
    "    .pipe(StrOutputParser())\n",
    ")\n",
    "\n",
    "# Invoke the chain\n",
    "result = composed_chain_with_pipe.invoke({\"topic\": \"battlestar galactica\"})\n",
    "print(result)\n"
   ]
  }
 ],
 "metadata": {
  "kernelspec": {
   "display_name": "langchain_py311",
   "language": "python",
   "name": "python3"
  },
  "language_info": {
   "codemirror_mode": {
    "name": "ipython",
    "version": 3
   },
   "file_extension": ".py",
   "mimetype": "text/x-python",
   "name": "python",
   "nbconvert_exporter": "python",
   "pygments_lexer": "ipython3",
   "version": "3.11.10"
  }
 },
 "nbformat": 4,
 "nbformat_minor": 2
}
