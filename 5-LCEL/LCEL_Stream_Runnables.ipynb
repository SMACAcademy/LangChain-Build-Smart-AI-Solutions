{
 "cells": [
  {
   "cell_type": "code",
   "execution_count": null,
   "metadata": {},
   "outputs": [],
   "source": [
    "%pip install -qU langchain langchain-ollama pypdf"
   ]
  },
  {
   "cell_type": "code",
   "execution_count": 14,
   "metadata": {},
   "outputs": [],
   "source": [
    "import os\n",
    "from langchain_ollama import ChatOllama\n",
    "from langchain_core.runnables import RunnableParallel, RunnablePassthrough\n",
    "from langchain_core.prompts import ChatPromptTemplate\n",
    "from langchain_core.output_parsers import StrOutputParser\n",
    "from langchain_community.document_loaders import PyPDFLoader\n",
    "from langchain_text_splitters import RecursiveCharacterTextSplitter\n"
   ]
  },
  {
   "cell_type": "code",
   "execution_count": null,
   "metadata": {},
   "outputs": [],
   "source": [
    "# Load a sample PDF file\n",
    "pdf_loader = PyPDFLoader(\"../00-example_data/layout-parser-paper.pdf\")  # Replace with actual file path\n",
    "pdf_docs = pdf_loader.load()\n",
    "print(f\"Loaded {len(pdf_docs)} pages from the file.\")\n",
    "\n",
    "# Split the document into chunks\n",
    "text_splitter = RecursiveCharacterTextSplitter(chunk_size=1000, chunk_overlap=20)\n",
    "documents = text_splitter.split_documents(pdf_docs)\n",
    "print(f\"Total chunks created: {len(documents)}\")\n"
   ]
  },
  {
   "cell_type": "code",
   "execution_count": null,
   "metadata": {},
   "outputs": [],
   "source": [
    "# Define the Ollama model\n",
    "model = ChatOllama(model=\"llama3.2\", temperature=0.1)\n",
    "\n",
    "# Stream the response token by token\n",
    "chunks = []\n",
    "for chunk in model.stream(\"What color is the sky?\"):\n",
    "    chunks.append(chunk)\n",
    "    print(chunk.content, end=\"|\", flush=True)\n"
   ]
  },
  {
   "cell_type": "code",
   "execution_count": null,
   "metadata": {},
   "outputs": [],
   "source": [
    "# Stream asynchronously using async for loop\n",
    "chunks = []\n",
    "async for chunk in model.astream(\"What color is the sky?\"):\n",
    "    chunks.append(chunk)\n",
    "    print(chunk.content, end=\"|\", flush=True)\n"
   ]
  },
  {
   "cell_type": "code",
   "execution_count": null,
   "metadata": {},
   "outputs": [],
   "source": [
    "# Define a prompt template\n",
    "prompt = ChatPromptTemplate.from_template(\"Tell me a joke about {topic}\")\n",
    "\n",
    "# Define an output parser\n",
    "parser = StrOutputParser()\n",
    "\n",
    "# Create a streaming chain\n",
    "chain = prompt | model | parser\n",
    "\n",
    "# Stream the chain's response\n",
    "async for chunk in chain.astream({\"topic\": \"parrot\"}):\n",
    "    print(chunk, end=\"|\", flush=True)\n"
   ]
  },
  {
   "cell_type": "code",
   "execution_count": null,
   "metadata": {},
   "outputs": [],
   "source": [
    "from langchain_core.output_parsers import JsonOutputParser\n",
    "\n",
    "# Create a chain to stream structured JSON output\n",
    "json_chain = model | JsonOutputParser()\n",
    "\n",
    "# Stream the JSON output as it gets generated\n",
    "async for chunk in json_chain.astream(\n",
    "    \"Provide a JSON list of countries: France, Spain, Japan, with populations.\"\n",
    "):\n",
    "    print(chunk, flush=True)\n"
   ]
  },
  {
   "cell_type": "code",
   "execution_count": null,
   "metadata": {},
   "outputs": [],
   "source": [
    "# Define a prompt template with correct placeholders\n",
    "prompt = ChatPromptTemplate.from_template(\"Answer the question based only on the following context:\\n{context}\\n\\nQuestion: {question}\")\n",
    "\n",
    "# Define the retrieval chain using correct input keys\n",
    "retrieval_chain = (\n",
    "    {\n",
    "        \"context\": RunnablePassthrough(),  # Simulating retrieval\n",
    "        \"question\": RunnablePassthrough(),\n",
    "    }\n",
    "    | prompt\n",
    "    | model\n",
    "    | StrOutputParser()\n",
    ")\n",
    "\n",
    "# Stream the response\n",
    "async for chunk in retrieval_chain.astream({\"question\": \"Where did Harrison work?\", \"context\": \"Harrison worked at Kensho\"}):\n",
    "    print(chunk, end=\"|\", flush=True)\n"
   ]
  },
  {
   "cell_type": "code",
   "execution_count": null,
   "metadata": {},
   "outputs": [],
   "source": [
    "events = []\n",
    "async for event in model.astream_events(\"Hello!\", version=\"v2\"):\n",
    "    events.append(event)\n",
    "    print(event)\n"
   ]
  },
  {
   "cell_type": "code",
   "execution_count": null,
   "metadata": {},
   "outputs": [],
   "source": [
    "from langchain_core.tools import tool  # Import the tool decorator\n",
    "from langchain_core.runnables import RunnableLambda\n",
    "\n",
    "# Define a simple function that reverses a word\n",
    "def reverse_word(word: str):\n",
    "    return word[::-1]\n",
    "\n",
    "# Convert the function into a RunnableLambda\n",
    "reverse_runnable = RunnableLambda(reverse_word)\n",
    "\n",
    "# Create a tool that propagates callbacks correctly\n",
    "@tool\n",
    "def correct_tool(word: str, callbacks):\n",
    "    \"\"\"Reverse the given word and propagate callbacks correctly.\"\"\"\n",
    "    return reverse_runnable.invoke(word, {\"callbacks\": callbacks})\n",
    "\n",
    "# Stream the tool execution\n",
    "async for event in correct_tool.astream_events(\"hello\", version=\"v2\"):\n",
    "    print(event)\n"
   ]
  }
 ],
 "metadata": {
  "kernelspec": {
   "display_name": "langchain_py311",
   "language": "python",
   "name": "python3"
  },
  "language_info": {
   "codemirror_mode": {
    "name": "ipython",
    "version": 3
   },
   "file_extension": ".py",
   "mimetype": "text/x-python",
   "name": "python",
   "nbconvert_exporter": "python",
   "pygments_lexer": "ipython3",
   "version": "3.11.10"
  }
 },
 "nbformat": 4,
 "nbformat_minor": 2
}
