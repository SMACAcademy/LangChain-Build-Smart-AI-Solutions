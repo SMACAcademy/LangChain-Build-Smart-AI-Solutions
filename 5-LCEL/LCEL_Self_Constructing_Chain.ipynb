{
 "cells": [
  {
   "cell_type": "code",
   "execution_count": 1,
   "metadata": {},
   "outputs": [],
   "source": [
    "from langchain_ollama import ChatOllama\n",
    "\n",
    "# Initialize the Ollama model\n",
    "llm = ChatOllama(model=\"llama3.2\")\n"
   ]
  },
  {
   "cell_type": "code",
   "execution_count": 2,
   "metadata": {},
   "outputs": [],
   "source": [
    "from langchain_core.prompts import ChatPromptTemplate\n",
    "from langchain_core.output_parsers import StrOutputParser\n",
    "\n",
    "# Contextualization prompt - reformats user input into a standalone question\n",
    "contextualize_prompt = ChatPromptTemplate.from_messages([\n",
    "    (\"system\", \"Convert the latest user question into a standalone question given the chat history. Only return the standalone question.\"),\n",
    "    (\"placeholder\", \"{chat_history}\"),\n",
    "    (\"human\", \"{question}\")\n",
    "])\n",
    "\n",
    "# Question-Answering (QA) prompt - answers a user question using retrieved context\n",
    "qa_prompt = ChatPromptTemplate.from_messages([\n",
    "    (\"system\", \"Answer the user question given the following context:\\n\\n{context}.\"),\n",
    "    (\"human\", \"{question}\")\n",
    "])\n",
    "\n",
    "# Combine contextualization prompt with LLM and parser\n",
    "contextualize_question = contextualize_prompt | llm | StrOutputParser()\n"
   ]
  },
  {
   "cell_type": "code",
   "execution_count": 3,
   "metadata": {},
   "outputs": [],
   "source": [
    "from langchain_core.runnables import RunnableLambda, RunnablePassthrough\n",
    "\n",
    "# Function that determines whether to contextualize the question\n",
    "def contextualize_if_needed(input_: dict):\n",
    "    if input_.get(\"chat_history\"):\n",
    "        return contextualize_question  # Returns a Runnable that will be executed\n",
    "    else:\n",
    "        return RunnablePassthrough() | (lambda x: x[\"question\"])  # Passes question unchanged\n",
    "\n",
    "contextualize_if_needed_runnable = RunnableLambda(contextualize_if_needed)\n"
   ]
  },
  {
   "cell_type": "code",
   "execution_count": 4,
   "metadata": {},
   "outputs": [],
   "source": [
    "# Fake retriever that returns hardcoded data\n",
    "def fake_retriever(input_: dict) -> str:\n",
    "    return \"Egypt's population in 2024 is about 111 million.\"\n",
    "\n",
    "retriever_runnable = RunnableLambda(fake_retriever)\n"
   ]
  },
  {
   "cell_type": "code",
   "execution_count": null,
   "metadata": {},
   "outputs": [],
   "source": [
    "# Constructing the full pipeline\n",
    "full_chain = (\n",
    "    RunnablePassthrough()  # Starts with raw input\n",
    "    .assign(question=contextualize_if_needed_runnable)  # Decides whether to rephrase question\n",
    "    .assign(context=retriever_runnable)  # Retrieves relevant context\n",
    "    | qa_prompt  # Feeds everything into the QA prompt\n",
    "    | llm  # Queries the model\n",
    "    | StrOutputParser()  # Parses output\n",
    ")\n",
    "\n",
    "# Execute the chain\n",
    "response = full_chain.invoke({\n",
    "    \"question\": \"what about Egypt\",\n",
    "    \"chat_history\": [\n",
    "        (\"human\", \"what's the population of Indonesia\"),\n",
    "        (\"ai\", \"about 276 million\"),\n",
    "    ]\n",
    "})\n",
    "\n",
    "print(response)\n"
   ]
  },
  {
   "cell_type": "code",
   "execution_count": null,
   "metadata": {},
   "outputs": [],
   "source": [
    "# Stream response chunks as they are generated\n",
    "for chunk in contextualize_if_needed_runnable.stream({\n",
    "    \"question\": \"what about Egypt\",\n",
    "    \"chat_history\": [\n",
    "        (\"human\", \"what's the population of Indonesia\"),\n",
    "        (\"ai\", \"about 276 million\"),\n",
    "    ]\n",
    "}):\n",
    "    print(chunk, end=\" \")\n"
   ]
  }
 ],
 "metadata": {
  "kernelspec": {
   "display_name": "langchain_py311",
   "language": "python",
   "name": "python3"
  },
  "language_info": {
   "codemirror_mode": {
    "name": "ipython",
    "version": 3
   },
   "file_extension": ".py",
   "mimetype": "text/x-python",
   "name": "python",
   "nbconvert_exporter": "python",
   "pygments_lexer": "ipython3",
   "version": "3.11.10"
  }
 },
 "nbformat": 4,
 "nbformat_minor": 2
}
