{
 "cells": [
  {
   "cell_type": "code",
   "execution_count": 2,
   "metadata": {},
   "outputs": [],
   "source": [
    "from langchain_ollama import ChatOllama\n",
    "\n",
    "# Initialize Ollama model\n",
    "llm = ChatOllama(\n",
    "    model=\"llama3.2:latest\",\n",
    "    temperature=0  # Ensures deterministic responses\n",
    ")\n"
   ]
  },
  {
   "cell_type": "code",
   "execution_count": 3,
   "metadata": {},
   "outputs": [
    {
     "name": "stdout",
     "output_type": "stream",
     "text": [
      "I'm just a language model, so I don't have emotions or feelings like humans do. However, I'm functioning properly and ready to assist you with any questions or tasks you may have! How can I help you today?\n"
     ]
    }
   ],
   "source": [
    "response = llm.invoke(\"Hello, how are you?\")\n",
    "print(response.content)\n"
   ]
  },
  {
   "cell_type": "code",
   "execution_count": 4,
   "metadata": {},
   "outputs": [
    {
     "name": "stdout",
     "output_type": "stream",
     "text": [
      "Here's one:\n",
      "\n",
      "What do you call a fake noodle?\n",
      "\n",
      "An impasta.\n",
      "AI, or Artificial Intelligence, refers to the development of computer systems that can perform tasks that typically require human intelligence, such as:\n",
      "\n",
      "1. Learning: The ability to improve performance on a task over time, without being explicitly programmed.\n",
      "2. Problem-solving: The ability to analyze problems and find solutions.\n",
      "3. Reasoning: The ability to draw conclusions based on available information.\n",
      "4. Perception: The ability to interpret and understand data from sensors or other sources.\n",
      "\n",
      "There are several types of AI, including:\n",
      "\n",
      "1. Narrow or Weak AI: Designed to perform a specific task, such as facial recognition or language translation.\n",
      "2. General or Strong AI: A hypothetical AI system that possesses the ability to understand, learn, and apply knowledge across a wide range of tasks, similar to human intelligence.\n",
      "3. Superintelligence: An AI system that significantly surpasses human intelligence in a broad range of cognitive tasks.\n",
      "\n",
      "AI can be categorized into two main types:\n",
      "\n",
      "1. Machine Learning (ML): A type of AI that enables systems to learn from data without being explicitly programmed.\n",
      "2. Deep Learning (DL): A subset of ML that uses neural networks with multiple layers to analyze and interpret complex data.\n",
      "\n",
      "AI has many applications, including:\n",
      "\n",
      "1. Virtual assistants: Siri, Alexa, Google Assistant\n",
      "2. Image recognition: Self-driving cars, facial recognition systems\n",
      "3. Natural Language Processing (NLP): Chatbots, language translation software\n",
      "4. Predictive analytics: Forecasting sales, predicting customer behavior\n",
      "\n",
      "The benefits of AI include:\n",
      "\n",
      "1. Increased efficiency and productivity\n",
      "2. Improved accuracy and precision\n",
      "3. Enhanced decision-making capabilities\n",
      "4. Personalized experiences for customers\n",
      "\n",
      "However, AI also raises concerns about:\n",
      "\n",
      "1. Job displacement\n",
      "2. Bias and fairness in AI systems\n",
      "3. Cybersecurity risks\n",
      "4. Loss of human agency and control.\n",
      "\n",
      "Overall, AI is a rapidly evolving field that has the potential to transform many aspects of our lives, but it also requires careful consideration of its social and ethical implications.\n",
      "Machine learning (ML) is a subset of artificial intelligence (AI) that involves the use of algorithms and statistical models to enable machines to learn from data, make decisions, and improve their performance over time.\n",
      "\n",
      "In traditional programming, a computer program is written to perform a specific task. In contrast, machine learning allows computers to automatically improve their performance on a task without being explicitly programmed for it. This is achieved by feeding the computer with large amounts of data, which it uses to learn patterns, relationships, and decision-making rules.\n",
      "\n",
      "Machine learning involves several key steps:\n",
      "\n",
      "1. **Data collection**: Gathering relevant data that can be used to train the model.\n",
      "2. **Data preprocessing**: Cleaning, transforming, and preparing the data for use in the model.\n",
      "3. **Model training**: Using the preprocessed data to train a machine learning algorithm.\n",
      "4. **Model evaluation**: Testing the trained model on new, unseen data to evaluate its performance.\n",
      "5. **Model deployment**: Deploying the trained model in a production environment.\n",
      "\n",
      "Machine learning algorithms can be broadly classified into three categories:\n",
      "\n",
      "1. **Supervised learning**: The algorithm is trained on labeled data, where the correct output is already known.\n",
      "2. **Unsupervised learning**: The algorithm is trained on unlabeled data, and it must find patterns or structure in the data on its own.\n",
      "3. **Reinforcement learning**: The algorithm learns through trial and error by interacting with an environment and receiving feedback in the form of rewards or penalties.\n",
      "\n",
      "Machine learning has many applications across various industries, including:\n",
      "\n",
      "1. **Computer vision**: Image recognition, object detection, facial recognition.\n",
      "2. **Natural language processing**: Text analysis, sentiment analysis, language translation.\n",
      "3. **Speech recognition**: Voice assistants, speech-to-text systems.\n",
      "4. **Predictive maintenance**: Predicting equipment failures and scheduling maintenance.\n",
      "5. **Recommendation systems**: Personalized product recommendations.\n",
      "\n",
      "Overall, machine learning enables computers to learn from data and improve their performance over time, making it a powerful tool for solving complex problems in various fields.\n"
     ]
    }
   ],
   "source": [
    "queries = [\"Tell me a joke\", \"What is AI?\", \"Define machine learning\"]\n",
    "\n",
    "responses = llm.batch(queries)\n",
    "\n",
    "for res in responses:\n",
    "    print(res.content)\n"
   ]
  },
  {
   "cell_type": "code",
   "execution_count": 5,
   "metadata": {},
   "outputs": [
    {
     "name": "stdout",
     "output_type": "stream",
     "text": [
      "content='Quant' additional_kwargs={} response_metadata={} id='run-b6422f66-0ffe-4be2-88fe-6c8699bdc79f' | content='um' additional_kwargs={} response_metadata={} id='run-b6422f66-0ffe-4be2-88fe-6c8699bdc79f' | content=' Computing' additional_kwargs={} response_metadata={} id='run-b6422f66-0ffe-4be2-88fe-6c8699bdc79f' | content=' is' additional_kwargs={} response_metadata={} id='run-b6422f66-0ffe-4be2-88fe-6c8699bdc79f' | content=' a' additional_kwargs={} response_metadata={} id='run-b6422f66-0ffe-4be2-88fe-6c8699bdc79f' | content=' new' additional_kwargs={} response_metadata={} id='run-b6422f66-0ffe-4be2-88fe-6c8699bdc79f' | content=' way' additional_kwargs={} response_metadata={} id='run-b6422f66-0ffe-4be2-88fe-6c8699bdc79f' | content=' of' additional_kwargs={} response_metadata={} id='run-b6422f66-0ffe-4be2-88fe-6c8699bdc79f' | content=' processing' additional_kwargs={} response_metadata={} id='run-b6422f66-0ffe-4be2-88fe-6c8699bdc79f' | content=' information' additional_kwargs={} response_metadata={} id='run-b6422f66-0ffe-4be2-88fe-6c8699bdc79f' | content=' that' additional_kwargs={} response_metadata={} id='run-b6422f66-0ffe-4be2-88fe-6c8699bdc79f' | content=\"'s\" additional_kwargs={} response_metadata={} id='run-b6422f66-0ffe-4be2-88fe-6c8699bdc79f' | content=' different' additional_kwargs={} response_metadata={} id='run-b6422f66-0ffe-4be2-88fe-6c8699bdc79f' | content=' from' additional_kwargs={} response_metadata={} id='run-b6422f66-0ffe-4be2-88fe-6c8699bdc79f' | content=' the' additional_kwargs={} response_metadata={} id='run-b6422f66-0ffe-4be2-88fe-6c8699bdc79f' | content=' way' additional_kwargs={} response_metadata={} id='run-b6422f66-0ffe-4be2-88fe-6c8699bdc79f' | content=' our' additional_kwargs={} response_metadata={} id='run-b6422f66-0ffe-4be2-88fe-6c8699bdc79f' | content=' computers' additional_kwargs={} response_metadata={} id='run-b6422f66-0ffe-4be2-88fe-6c8699bdc79f' | content=' work' additional_kwargs={} response_metadata={} id='run-b6422f66-0ffe-4be2-88fe-6c8699bdc79f' | content=' today' additional_kwargs={} response_metadata={} id='run-b6422f66-0ffe-4be2-88fe-6c8699bdc79f' | content='.' additional_kwargs={} response_metadata={} id='run-b6422f66-0ffe-4be2-88fe-6c8699bdc79f' | content=' Here' additional_kwargs={} response_metadata={} id='run-b6422f66-0ffe-4be2-88fe-6c8699bdc79f' | content=\"'s\" additional_kwargs={} response_metadata={} id='run-b6422f66-0ffe-4be2-88fe-6c8699bdc79f' | content=' a' additional_kwargs={} response_metadata={} id='run-b6422f66-0ffe-4be2-88fe-6c8699bdc79f' | content=' simplified' additional_kwargs={} response_metadata={} id='run-b6422f66-0ffe-4be2-88fe-6c8699bdc79f' | content=' explanation' additional_kwargs={} response_metadata={} id='run-b6422f66-0ffe-4be2-88fe-6c8699bdc79f' | content=':\\n\\n' additional_kwargs={} response_metadata={} id='run-b6422f66-0ffe-4be2-88fe-6c8699bdc79f' | content='**' additional_kwargs={} response_metadata={} id='run-b6422f66-0ffe-4be2-88fe-6c8699bdc79f' | content='Class' additional_kwargs={} response_metadata={} id='run-b6422f66-0ffe-4be2-88fe-6c8699bdc79f' | content='ical' additional_kwargs={} response_metadata={} id='run-b6422f66-0ffe-4be2-88fe-6c8699bdc79f' | content=' Computers' additional_kwargs={} response_metadata={} id='run-b6422f66-0ffe-4be2-88fe-6c8699bdc79f' | content='**\\n\\n' additional_kwargs={} response_metadata={} id='run-b6422f66-0ffe-4be2-88fe-6c8699bdc79f' | content='Imagine' additional_kwargs={} response_metadata={} id='run-b6422f66-0ffe-4be2-88fe-6c8699bdc79f' | content=' you' additional_kwargs={} response_metadata={} id='run-b6422f66-0ffe-4be2-88fe-6c8699bdc79f' | content=' have' additional_kwargs={} response_metadata={} id='run-b6422f66-0ffe-4be2-88fe-6c8699bdc79f' | content=' a' additional_kwargs={} response_metadata={} id='run-b6422f66-0ffe-4be2-88fe-6c8699bdc79f' | content=' big' additional_kwargs={} response_metadata={} id='run-b6422f66-0ffe-4be2-88fe-6c8699bdc79f' | content=' box' additional_kwargs={} response_metadata={} id='run-b6422f66-0ffe-4be2-88fe-6c8699bdc79f' | content=' full' additional_kwargs={} response_metadata={} id='run-b6422f66-0ffe-4be2-88fe-6c8699bdc79f' | content=' of' additional_kwargs={} response_metadata={} id='run-b6422f66-0ffe-4be2-88fe-6c8699bdc79f' | content=' different' additional_kwargs={} response_metadata={} id='run-b6422f66-0ffe-4be2-88fe-6c8699bdc79f' | content=' colored' additional_kwargs={} response_metadata={} id='run-b6422f66-0ffe-4be2-88fe-6c8699bdc79f' | content=' balls' additional_kwargs={} response_metadata={} id='run-b6422f66-0ffe-4be2-88fe-6c8699bdc79f' | content=' (' additional_kwargs={} response_metadata={} id='run-b6422f66-0ffe-4be2-88fe-6c8699bdc79f' | content='0' additional_kwargs={} response_metadata={} id='run-b6422f66-0ffe-4be2-88fe-6c8699bdc79f' | content='s' additional_kwargs={} response_metadata={} id='run-b6422f66-0ffe-4be2-88fe-6c8699bdc79f' | content=' and' additional_kwargs={} response_metadata={} id='run-b6422f66-0ffe-4be2-88fe-6c8699bdc79f' | content=' ' additional_kwargs={} response_metadata={} id='run-b6422f66-0ffe-4be2-88fe-6c8699bdc79f' | content='1' additional_kwargs={} response_metadata={} id='run-b6422f66-0ffe-4be2-88fe-6c8699bdc79f' | content='s' additional_kwargs={} response_metadata={} id='run-b6422f66-0ffe-4be2-88fe-6c8699bdc79f' | content=').' additional_kwargs={} response_metadata={} id='run-b6422f66-0ffe-4be2-88fe-6c8699bdc79f' | content=' Each' additional_kwargs={} response_metadata={} id='run-b6422f66-0ffe-4be2-88fe-6c8699bdc79f' | content=' ball' additional_kwargs={} response_metadata={} id='run-b6422f66-0ffe-4be2-88fe-6c8699bdc79f' | content=' represents' additional_kwargs={} response_metadata={} id='run-b6422f66-0ffe-4be2-88fe-6c8699bdc79f' | content=' a' additional_kwargs={} response_metadata={} id='run-b6422f66-0ffe-4be2-88fe-6c8699bdc79f' | content=' piece' additional_kwargs={} response_metadata={} id='run-b6422f66-0ffe-4be2-88fe-6c8699bdc79f' | content=' of' additional_kwargs={} response_metadata={} id='run-b6422f66-0ffe-4be2-88fe-6c8699bdc79f' | content=' information' additional_kwargs={} response_metadata={} id='run-b6422f66-0ffe-4be2-88fe-6c8699bdc79f' | content=',' additional_kwargs={} response_metadata={} id='run-b6422f66-0ffe-4be2-88fe-6c8699bdc79f' | content=' like' additional_kwargs={} response_metadata={} id='run-b6422f66-0ffe-4be2-88fe-6c8699bdc79f' | content=' a' additional_kwargs={} response_metadata={} id='run-b6422f66-0ffe-4be2-88fe-6c8699bdc79f' | content=' number' additional_kwargs={} response_metadata={} id='run-b6422f66-0ffe-4be2-88fe-6c8699bdc79f' | content=' or' additional_kwargs={} response_metadata={} id='run-b6422f66-0ffe-4be2-88fe-6c8699bdc79f' | content=' a' additional_kwargs={} response_metadata={} id='run-b6422f66-0ffe-4be2-88fe-6c8699bdc79f' | content=' letter' additional_kwargs={} response_metadata={} id='run-b6422f66-0ffe-4be2-88fe-6c8699bdc79f' | content='.' additional_kwargs={} response_metadata={} id='run-b6422f66-0ffe-4be2-88fe-6c8699bdc79f' | content=' To' additional_kwargs={} response_metadata={} id='run-b6422f66-0ffe-4be2-88fe-6c8699bdc79f' | content=' process' additional_kwargs={} response_metadata={} id='run-b6422f66-0ffe-4be2-88fe-6c8699bdc79f' | content=' this' additional_kwargs={} response_metadata={} id='run-b6422f66-0ffe-4be2-88fe-6c8699bdc79f' | content=' information' additional_kwargs={} response_metadata={} id='run-b6422f66-0ffe-4be2-88fe-6c8699bdc79f' | content=',' additional_kwargs={} response_metadata={} id='run-b6422f66-0ffe-4be2-88fe-6c8699bdc79f' | content=' you' additional_kwargs={} response_metadata={} id='run-b6422f66-0ffe-4be2-88fe-6c8699bdc79f' | content=' need' additional_kwargs={} response_metadata={} id='run-b6422f66-0ffe-4be2-88fe-6c8699bdc79f' | content=' to' additional_kwargs={} response_metadata={} id='run-b6422f66-0ffe-4be2-88fe-6c8699bdc79f' | content=' look' additional_kwargs={} response_metadata={} id='run-b6422f66-0ffe-4be2-88fe-6c8699bdc79f' | content=' at' additional_kwargs={} response_metadata={} id='run-b6422f66-0ffe-4be2-88fe-6c8699bdc79f' | content=' each' additional_kwargs={} response_metadata={} id='run-b6422f66-0ffe-4be2-88fe-6c8699bdc79f' | content=' ball' additional_kwargs={} response_metadata={} id='run-b6422f66-0ffe-4be2-88fe-6c8699bdc79f' | content=' one' additional_kwargs={} response_metadata={} id='run-b6422f66-0ffe-4be2-88fe-6c8699bdc79f' | content=' by' additional_kwargs={} response_metadata={} id='run-b6422f66-0ffe-4be2-88fe-6c8699bdc79f' | content=' one' additional_kwargs={} response_metadata={} id='run-b6422f66-0ffe-4be2-88fe-6c8699bdc79f' | content=',' additional_kwargs={} response_metadata={} id='run-b6422f66-0ffe-4be2-88fe-6c8699bdc79f' | content=' do' additional_kwargs={} response_metadata={} id='run-b6422f66-0ffe-4be2-88fe-6c8699bdc79f' | content=' some' additional_kwargs={} response_metadata={} id='run-b6422f66-0ffe-4be2-88fe-6c8699bdc79f' | content=' calculations' additional_kwargs={} response_metadata={} id='run-b6422f66-0ffe-4be2-88fe-6c8699bdc79f' | content=',' additional_kwargs={} response_metadata={} id='run-b6422f66-0ffe-4be2-88fe-6c8699bdc79f' | content=' and' additional_kwargs={} response_metadata={} id='run-b6422f66-0ffe-4be2-88fe-6c8699bdc79f' | content=' then' additional_kwargs={} response_metadata={} id='run-b6422f66-0ffe-4be2-88fe-6c8699bdc79f' | content=' move' additional_kwargs={} response_metadata={} id='run-b6422f66-0ffe-4be2-88fe-6c8699bdc79f' | content=' on' additional_kwargs={} response_metadata={} id='run-b6422f66-0ffe-4be2-88fe-6c8699bdc79f' | content=' to' additional_kwargs={} response_metadata={} id='run-b6422f66-0ffe-4be2-88fe-6c8699bdc79f' | content=' the' additional_kwargs={} response_metadata={} id='run-b6422f66-0ffe-4be2-88fe-6c8699bdc79f' | content=' next' additional_kwargs={} response_metadata={} id='run-b6422f66-0ffe-4be2-88fe-6c8699bdc79f' | content=' ball' additional_kwargs={} response_metadata={} id='run-b6422f66-0ffe-4be2-88fe-6c8699bdc79f' | content='.\\n\\n' additional_kwargs={} response_metadata={} id='run-b6422f66-0ffe-4be2-88fe-6c8699bdc79f' | content='**' additional_kwargs={} response_metadata={} id='run-b6422f66-0ffe-4be2-88fe-6c8699bdc79f' | content='Quant' additional_kwargs={} response_metadata={} id='run-b6422f66-0ffe-4be2-88fe-6c8699bdc79f' | content='um' additional_kwargs={} response_metadata={} id='run-b6422f66-0ffe-4be2-88fe-6c8699bdc79f' | content=' Computers' additional_kwargs={} response_metadata={} id='run-b6422f66-0ffe-4be2-88fe-6c8699bdc79f' | content='**\\n\\n' additional_kwargs={} response_metadata={} id='run-b6422f66-0ffe-4be2-88fe-6c8699bdc79f' | content='Now' additional_kwargs={} response_metadata={} id='run-b6422f66-0ffe-4be2-88fe-6c8699bdc79f' | content=' imagine' additional_kwargs={} response_metadata={} id='run-b6422f66-0ffe-4be2-88fe-6c8699bdc79f' | content=' you' additional_kwargs={} response_metadata={} id='run-b6422f66-0ffe-4be2-88fe-6c8699bdc79f' | content=' have' additional_kwargs={} response_metadata={} id='run-b6422f66-0ffe-4be2-88fe-6c8699bdc79f' | content=' a' additional_kwargs={} response_metadata={} id='run-b6422f66-0ffe-4be2-88fe-6c8699bdc79f' | content=' special' additional_kwargs={} response_metadata={} id='run-b6422f66-0ffe-4be2-88fe-6c8699bdc79f' | content=' box' additional_kwargs={} response_metadata={} id='run-b6422f66-0ffe-4be2-88fe-6c8699bdc79f' | content=' that' additional_kwargs={} response_metadata={} id='run-b6422f66-0ffe-4be2-88fe-6c8699bdc79f' | content=' can' additional_kwargs={} response_metadata={} id='run-b6422f66-0ffe-4be2-88fe-6c8699bdc79f' | content=' hold' additional_kwargs={} response_metadata={} id='run-b6422f66-0ffe-4be2-88fe-6c8699bdc79f' | content=' all' additional_kwargs={} response_metadata={} id='run-b6422f66-0ffe-4be2-88fe-6c8699bdc79f' | content=' these' additional_kwargs={} response_metadata={} id='run-b6422f66-0ffe-4be2-88fe-6c8699bdc79f' | content=' balls' additional_kwargs={} response_metadata={} id='run-b6422f66-0ffe-4be2-88fe-6c8699bdc79f' | content=' at' additional_kwargs={} response_metadata={} id='run-b6422f66-0ffe-4be2-88fe-6c8699bdc79f' | content=' the' additional_kwargs={} response_metadata={} id='run-b6422f66-0ffe-4be2-88fe-6c8699bdc79f' | content=' same' additional_kwargs={} response_metadata={} id='run-b6422f66-0ffe-4be2-88fe-6c8699bdc79f' | content=' time' additional_kwargs={} response_metadata={} id='run-b6422f66-0ffe-4be2-88fe-6c8699bdc79f' | content='!' additional_kwargs={} response_metadata={} id='run-b6422f66-0ffe-4be2-88fe-6c8699bdc79f' | content=' This' additional_kwargs={} response_metadata={} id='run-b6422f66-0ffe-4be2-88fe-6c8699bdc79f' | content=' box' additional_kwargs={} response_metadata={} id='run-b6422f66-0ffe-4be2-88fe-6c8699bdc79f' | content=' is' additional_kwargs={} response_metadata={} id='run-b6422f66-0ffe-4be2-88fe-6c8699bdc79f' | content=' called' additional_kwargs={} response_metadata={} id='run-b6422f66-0ffe-4be2-88fe-6c8699bdc79f' | content=' a' additional_kwargs={} response_metadata={} id='run-b6422f66-0ffe-4be2-88fe-6c8699bdc79f' | content=' \"' additional_kwargs={} response_metadata={} id='run-b6422f66-0ffe-4be2-88fe-6c8699bdc79f' | content='quant' additional_kwargs={} response_metadata={} id='run-b6422f66-0ffe-4be2-88fe-6c8699bdc79f' | content='um' additional_kwargs={} response_metadata={} id='run-b6422f66-0ffe-4be2-88fe-6c8699bdc79f' | content=' register' additional_kwargs={} response_metadata={} id='run-b6422f66-0ffe-4be2-88fe-6c8699bdc79f' | content='.\"' additional_kwargs={} response_metadata={} id='run-b6422f66-0ffe-4be2-88fe-6c8699bdc79f' | content=' When' additional_kwargs={} response_metadata={} id='run-b6422f66-0ffe-4be2-88fe-6c8699bdc79f' | content=' you' additional_kwargs={} response_metadata={} id='run-b6422f66-0ffe-4be2-88fe-6c8699bdc79f' | content=' put' additional_kwargs={} response_metadata={} id='run-b6422f66-0ffe-4be2-88fe-6c8699bdc79f' | content=' a' additional_kwargs={} response_metadata={} id='run-b6422f66-0ffe-4be2-88fe-6c8699bdc79f' | content=' ball' additional_kwargs={} response_metadata={} id='run-b6422f66-0ffe-4be2-88fe-6c8699bdc79f' | content=' in' additional_kwargs={} response_metadata={} id='run-b6422f66-0ffe-4be2-88fe-6c8699bdc79f' | content=' this' additional_kwargs={} response_metadata={} id='run-b6422f66-0ffe-4be2-88fe-6c8699bdc79f' | content=' box' additional_kwargs={} response_metadata={} id='run-b6422f66-0ffe-4be2-88fe-6c8699bdc79f' | content=',' additional_kwargs={} response_metadata={} id='run-b6422f66-0ffe-4be2-88fe-6c8699bdc79f' | content=' it' additional_kwargs={} response_metadata={} id='run-b6422f66-0ffe-4be2-88fe-6c8699bdc79f' | content=' doesn' additional_kwargs={} response_metadata={} id='run-b6422f66-0ffe-4be2-88fe-6c8699bdc79f' | content=\"'t\" additional_kwargs={} response_metadata={} id='run-b6422f66-0ffe-4be2-88fe-6c8699bdc79f' | content=' just' additional_kwargs={} response_metadata={} id='run-b6422f66-0ffe-4be2-88fe-6c8699bdc79f' | content=' sit' additional_kwargs={} response_metadata={} id='run-b6422f66-0ffe-4be2-88fe-6c8699bdc79f' | content=' there' additional_kwargs={} response_metadata={} id='run-b6422f66-0ffe-4be2-88fe-6c8699bdc79f' | content=';' additional_kwargs={} response_metadata={} id='run-b6422f66-0ffe-4be2-88fe-6c8699bdc79f' | content=' it' additional_kwargs={} response_metadata={} id='run-b6422f66-0ffe-4be2-88fe-6c8699bdc79f' | content=\"'s\" additional_kwargs={} response_metadata={} id='run-b6422f66-0ffe-4be2-88fe-6c8699bdc79f' | content=' connected' additional_kwargs={} response_metadata={} id='run-b6422f66-0ffe-4be2-88fe-6c8699bdc79f' | content=' to' additional_kwargs={} response_metadata={} id='run-b6422f66-0ffe-4be2-88fe-6c8699bdc79f' | content=' all' additional_kwargs={} response_metadata={} id='run-b6422f66-0ffe-4be2-88fe-6c8699bdc79f' | content=' the' additional_kwargs={} response_metadata={} id='run-b6422f66-0ffe-4be2-88fe-6c8699bdc79f' | content=' other' additional_kwargs={} response_metadata={} id='run-b6422f66-0ffe-4be2-88fe-6c8699bdc79f' | content=' balls' additional_kwargs={} response_metadata={} id='run-b6422f66-0ffe-4be2-88fe-6c8699bdc79f' | content=' and' additional_kwargs={} response_metadata={} id='run-b6422f66-0ffe-4be2-88fe-6c8699bdc79f' | content=' can' additional_kwargs={} response_metadata={} id='run-b6422f66-0ffe-4be2-88fe-6c8699bdc79f' | content=' be' additional_kwargs={} response_metadata={} id='run-b6422f66-0ffe-4be2-88fe-6c8699bdc79f' | content=' in' additional_kwargs={} response_metadata={} id='run-b6422f66-0ffe-4be2-88fe-6c8699bdc79f' | content=' many' additional_kwargs={} response_metadata={} id='run-b6422f66-0ffe-4be2-88fe-6c8699bdc79f' | content=' states' additional_kwargs={} response_metadata={} id='run-b6422f66-0ffe-4be2-88fe-6c8699bdc79f' | content=' (' additional_kwargs={} response_metadata={} id='run-b6422f66-0ffe-4be2-88fe-6c8699bdc79f' | content='0' additional_kwargs={} response_metadata={} id='run-b6422f66-0ffe-4be2-88fe-6c8699bdc79f' | content='s' additional_kwargs={} response_metadata={} id='run-b6422f66-0ffe-4be2-88fe-6c8699bdc79f' | content=' and' additional_kwargs={} response_metadata={} id='run-b6422f66-0ffe-4be2-88fe-6c8699bdc79f' | content=' ' additional_kwargs={} response_metadata={} id='run-b6422f66-0ffe-4be2-88fe-6c8699bdc79f' | content='1' additional_kwargs={} response_metadata={} id='run-b6422f66-0ffe-4be2-88fe-6c8699bdc79f' | content='s' additional_kwargs={} response_metadata={} id='run-b6422f66-0ffe-4be2-88fe-6c8699bdc79f' | content=')' additional_kwargs={} response_metadata={} id='run-b6422f66-0ffe-4be2-88fe-6c8699bdc79f' | content=' simultaneously' additional_kwargs={} response_metadata={} id='run-b6422f66-0ffe-4be2-88fe-6c8699bdc79f' | content='.\\n\\n' additional_kwargs={} response_metadata={} id='run-b6422f66-0ffe-4be2-88fe-6c8699bdc79f' | content='Think' additional_kwargs={} response_metadata={} id='run-b6422f66-0ffe-4be2-88fe-6c8699bdc79f' | content=' of' additional_kwargs={} response_metadata={} id='run-b6422f66-0ffe-4be2-88fe-6c8699bdc79f' | content=' it' additional_kwargs={} response_metadata={} id='run-b6422f66-0ffe-4be2-88fe-6c8699bdc79f' | content=' like' additional_kwargs={} response_metadata={} id='run-b6422f66-0ffe-4be2-88fe-6c8699bdc79f' | content=' a' additional_kwargs={} response_metadata={} id='run-b6422f66-0ffe-4be2-88fe-6c8699bdc79f' | content=' coin' additional_kwargs={} response_metadata={} id='run-b6422f66-0ffe-4be2-88fe-6c8699bdc79f' | content=' that' additional_kwargs={} response_metadata={} id='run-b6422f66-0ffe-4be2-88fe-6c8699bdc79f' | content=' can' additional_kwargs={} response_metadata={} id='run-b6422f66-0ffe-4be2-88fe-6c8699bdc79f' | content=' be' additional_kwargs={} response_metadata={} id='run-b6422f66-0ffe-4be2-88fe-6c8699bdc79f' | content=' both' additional_kwargs={} response_metadata={} id='run-b6422f66-0ffe-4be2-88fe-6c8699bdc79f' | content=' heads' additional_kwargs={} response_metadata={} id='run-b6422f66-0ffe-4be2-88fe-6c8699bdc79f' | content=' AND' additional_kwargs={} response_metadata={} id='run-b6422f66-0ffe-4be2-88fe-6c8699bdc79f' | content=' tails' additional_kwargs={} response_metadata={} id='run-b6422f66-0ffe-4be2-88fe-6c8699bdc79f' | content=' at' additional_kwargs={} response_metadata={} id='run-b6422f66-0ffe-4be2-88fe-6c8699bdc79f' | content=' the' additional_kwargs={} response_metadata={} id='run-b6422f66-0ffe-4be2-88fe-6c8699bdc79f' | content=' same' additional_kwargs={} response_metadata={} id='run-b6422f66-0ffe-4be2-88fe-6c8699bdc79f' | content=' time' additional_kwargs={} response_metadata={} id='run-b6422f66-0ffe-4be2-88fe-6c8699bdc79f' | content='.' additional_kwargs={} response_metadata={} id='run-b6422f66-0ffe-4be2-88fe-6c8699bdc79f' | content=' This' additional_kwargs={} response_metadata={} id='run-b6422f66-0ffe-4be2-88fe-6c8699bdc79f' | content=' is' additional_kwargs={} response_metadata={} id='run-b6422f66-0ffe-4be2-88fe-6c8699bdc79f' | content=' called' additional_kwargs={} response_metadata={} id='run-b6422f66-0ffe-4be2-88fe-6c8699bdc79f' | content=' \"' additional_kwargs={} response_metadata={} id='run-b6422f66-0ffe-4be2-88fe-6c8699bdc79f' | content='super' additional_kwargs={} response_metadata={} id='run-b6422f66-0ffe-4be2-88fe-6c8699bdc79f' | content='position' additional_kwargs={} response_metadata={} id='run-b6422f66-0ffe-4be2-88fe-6c8699bdc79f' | content='.\"' additional_kwargs={} response_metadata={} id='run-b6422f66-0ffe-4be2-88fe-6c8699bdc79f' | content=' When' additional_kwargs={} response_metadata={} id='run-b6422f66-0ffe-4be2-88fe-6c8699bdc79f' | content=' you' additional_kwargs={} response_metadata={} id='run-b6422f66-0ffe-4be2-88fe-6c8699bdc79f' | content=' measure' additional_kwargs={} response_metadata={} id='run-b6422f66-0ffe-4be2-88fe-6c8699bdc79f' | content=' the' additional_kwargs={} response_metadata={} id='run-b6422f66-0ffe-4be2-88fe-6c8699bdc79f' | content=' ball' additional_kwargs={} response_metadata={} id='run-b6422f66-0ffe-4be2-88fe-6c8699bdc79f' | content=',' additional_kwargs={} response_metadata={} id='run-b6422f66-0ffe-4be2-88fe-6c8699bdc79f' | content=' it' additional_kwargs={} response_metadata={} id='run-b6422f66-0ffe-4be2-88fe-6c8699bdc79f' | content=' \"' additional_kwargs={} response_metadata={} id='run-b6422f66-0ffe-4be2-88fe-6c8699bdc79f' | content='coll' additional_kwargs={} response_metadata={} id='run-b6422f66-0ffe-4be2-88fe-6c8699bdc79f' | content='apses' additional_kwargs={} response_metadata={} id='run-b6422f66-0ffe-4be2-88fe-6c8699bdc79f' | content='\"' additional_kwargs={} response_metadata={} id='run-b6422f66-0ffe-4be2-88fe-6c8699bdc79f' | content=' into' additional_kwargs={} response_metadata={} id='run-b6422f66-0ffe-4be2-88fe-6c8699bdc79f' | content=' one' additional_kwargs={} response_metadata={} id='run-b6422f66-0ffe-4be2-88fe-6c8699bdc79f' | content=' state' additional_kwargs={} response_metadata={} id='run-b6422f66-0ffe-4be2-88fe-6c8699bdc79f' | content=' or' additional_kwargs={} response_metadata={} id='run-b6422f66-0ffe-4be2-88fe-6c8699bdc79f' | content=' the' additional_kwargs={} response_metadata={} id='run-b6422f66-0ffe-4be2-88fe-6c8699bdc79f' | content=' other' additional_kwargs={} response_metadata={} id='run-b6422f66-0ffe-4be2-88fe-6c8699bdc79f' | content='.\\n\\n' additional_kwargs={} response_metadata={} id='run-b6422f66-0ffe-4be2-88fe-6c8699bdc79f' | content='**' additional_kwargs={} response_metadata={} id='run-b6422f66-0ffe-4be2-88fe-6c8699bdc79f' | content='Quant' additional_kwargs={} response_metadata={} id='run-b6422f66-0ffe-4be2-88fe-6c8699bdc79f' | content='um' additional_kwargs={} response_metadata={} id='run-b6422f66-0ffe-4be2-88fe-6c8699bdc79f' | content=' Computing' additional_kwargs={} response_metadata={} id='run-b6422f66-0ffe-4be2-88fe-6c8699bdc79f' | content=' Process' additional_kwargs={} response_metadata={} id='run-b6422f66-0ffe-4be2-88fe-6c8699bdc79f' | content='**\\n\\n' additional_kwargs={} response_metadata={} id='run-b6422f66-0ffe-4be2-88fe-6c8699bdc79f' | content='Here' additional_kwargs={} response_metadata={} id='run-b6422f66-0ffe-4be2-88fe-6c8699bdc79f' | content=\"'s\" additional_kwargs={} response_metadata={} id='run-b6422f66-0ffe-4be2-88fe-6c8699bdc79f' | content=' how' additional_kwargs={} response_metadata={} id='run-b6422f66-0ffe-4be2-88fe-6c8699bdc79f' | content=' quantum' additional_kwargs={} response_metadata={} id='run-b6422f66-0ffe-4be2-88fe-6c8699bdc79f' | content=' computers' additional_kwargs={} response_metadata={} id='run-b6422f66-0ffe-4be2-88fe-6c8699bdc79f' | content=' work' additional_kwargs={} response_metadata={} id='run-b6422f66-0ffe-4be2-88fe-6c8699bdc79f' | content=':\\n\\n' additional_kwargs={} response_metadata={} id='run-b6422f66-0ffe-4be2-88fe-6c8699bdc79f' | content='1' additional_kwargs={} response_metadata={} id='run-b6422f66-0ffe-4be2-88fe-6c8699bdc79f' | content='.' additional_kwargs={} response_metadata={} id='run-b6422f66-0ffe-4be2-88fe-6c8699bdc79f' | content=' **' additional_kwargs={} response_metadata={} id='run-b6422f66-0ffe-4be2-88fe-6c8699bdc79f' | content='Initialization' additional_kwargs={} response_metadata={} id='run-b6422f66-0ffe-4be2-88fe-6c8699bdc79f' | content='**:' additional_kwargs={} response_metadata={} id='run-b6422f66-0ffe-4be2-88fe-6c8699bdc79f' | content=' You' additional_kwargs={} response_metadata={} id='run-b6422f66-0ffe-4be2-88fe-6c8699bdc79f' | content=' put' additional_kwargs={} response_metadata={} id='run-b6422f66-0ffe-4be2-88fe-6c8699bdc79f' | content=' all' additional_kwargs={} response_metadata={} id='run-b6422f66-0ffe-4be2-88fe-6c8699bdc79f' | content=' the' additional_kwargs={} response_metadata={} id='run-b6422f66-0ffe-4be2-88fe-6c8699bdc79f' | content=' balls' additional_kwargs={} response_metadata={} id='run-b6422f66-0ffe-4be2-88fe-6c8699bdc79f' | content=' (' additional_kwargs={} response_metadata={} id='run-b6422f66-0ffe-4be2-88fe-6c8699bdc79f' | content='q' additional_kwargs={} response_metadata={} id='run-b6422f66-0ffe-4be2-88fe-6c8699bdc79f' | content='ubits' additional_kwargs={} response_metadata={} id='run-b6422f66-0ffe-4be2-88fe-6c8699bdc79f' | content=')' additional_kwargs={} response_metadata={} id='run-b6422f66-0ffe-4be2-88fe-6c8699bdc79f' | content=' in' additional_kwargs={} response_metadata={} id='run-b6422f66-0ffe-4be2-88fe-6c8699bdc79f' | content=' the' additional_kwargs={} response_metadata={} id='run-b6422f66-0ffe-4be2-88fe-6c8699bdc79f' | content=' quantum' additional_kwargs={} response_metadata={} id='run-b6422f66-0ffe-4be2-88fe-6c8699bdc79f' | content=' register' additional_kwargs={} response_metadata={} id='run-b6422f66-0ffe-4be2-88fe-6c8699bdc79f' | content=' into' additional_kwargs={} response_metadata={} id='run-b6422f66-0ffe-4be2-88fe-6c8699bdc79f' | content=' a' additional_kwargs={} response_metadata={} id='run-b6422f66-0ffe-4be2-88fe-6c8699bdc79f' | content=' special' additional_kwargs={} response_metadata={} id='run-b6422f66-0ffe-4be2-88fe-6c8699bdc79f' | content=' state' additional_kwargs={} response_metadata={} id='run-b6422f66-0ffe-4be2-88fe-6c8699bdc79f' | content='.\\n' additional_kwargs={} response_metadata={} id='run-b6422f66-0ffe-4be2-88fe-6c8699bdc79f' | content='2' additional_kwargs={} response_metadata={} id='run-b6422f66-0ffe-4be2-88fe-6c8699bdc79f' | content='.' additional_kwargs={} response_metadata={} id='run-b6422f66-0ffe-4be2-88fe-6c8699bdc79f' | content=' **' additional_kwargs={} response_metadata={} id='run-b6422f66-0ffe-4be2-88fe-6c8699bdc79f' | content='Operations' additional_kwargs={} response_metadata={} id='run-b6422f66-0ffe-4be2-88fe-6c8699bdc79f' | content='**:' additional_kwargs={} response_metadata={} id='run-b6422f66-0ffe-4be2-88fe-6c8699bdc79f' | content=' You' additional_kwargs={} response_metadata={} id='run-b6422f66-0ffe-4be2-88fe-6c8699bdc79f' | content=' apply' additional_kwargs={} response_metadata={} id='run-b6422f66-0ffe-4be2-88fe-6c8699bdc79f' | content=' quantum' additional_kwargs={} response_metadata={} id='run-b6422f66-0ffe-4be2-88fe-6c8699bdc79f' | content=' gates' additional_kwargs={} response_metadata={} id='run-b6422f66-0ffe-4be2-88fe-6c8699bdc79f' | content=' to' additional_kwargs={} response_metadata={} id='run-b6422f66-0ffe-4be2-88fe-6c8699bdc79f' | content=' the' additional_kwargs={} response_metadata={} id='run-b6422f66-0ffe-4be2-88fe-6c8699bdc79f' | content=' q' additional_kwargs={} response_metadata={} id='run-b6422f66-0ffe-4be2-88fe-6c8699bdc79f' | content='ubits' additional_kwargs={} response_metadata={} id='run-b6422f66-0ffe-4be2-88fe-6c8699bdc79f' | content=',' additional_kwargs={} response_metadata={} id='run-b6422f66-0ffe-4be2-88fe-6c8699bdc79f' | content=' which' additional_kwargs={} response_metadata={} id='run-b6422f66-0ffe-4be2-88fe-6c8699bdc79f' | content=' are' additional_kwargs={} response_metadata={} id='run-b6422f66-0ffe-4be2-88fe-6c8699bdc79f' | content=' like' additional_kwargs={} response_metadata={} id='run-b6422f66-0ffe-4be2-88fe-6c8699bdc79f' | content=' mathematical' additional_kwargs={} response_metadata={} id='run-b6422f66-0ffe-4be2-88fe-6c8699bdc79f' | content=' operations' additional_kwargs={} response_metadata={} id='run-b6422f66-0ffe-4be2-88fe-6c8699bdc79f' | content=' that' additional_kwargs={} response_metadata={} id='run-b6422f66-0ffe-4be2-88fe-6c8699bdc79f' | content=' change' additional_kwargs={} response_metadata={} id='run-b6422f66-0ffe-4be2-88fe-6c8699bdc79f' | content=' their' additional_kwargs={} response_metadata={} id='run-b6422f66-0ffe-4be2-88fe-6c8699bdc79f' | content=' states' additional_kwargs={} response_metadata={} id='run-b6422f66-0ffe-4be2-88fe-6c8699bdc79f' | content='.\\n' additional_kwargs={} response_metadata={} id='run-b6422f66-0ffe-4be2-88fe-6c8699bdc79f' | content='3' additional_kwargs={} response_metadata={} id='run-b6422f66-0ffe-4be2-88fe-6c8699bdc79f' | content='.' additional_kwargs={} response_metadata={} id='run-b6422f66-0ffe-4be2-88fe-6c8699bdc79f' | content=' **' additional_kwargs={} response_metadata={} id='run-b6422f66-0ffe-4be2-88fe-6c8699bdc79f' | content='Measurement' additional_kwargs={} response_metadata={} id='run-b6422f66-0ffe-4be2-88fe-6c8699bdc79f' | content='**:' additional_kwargs={} response_metadata={} id='run-b6422f66-0ffe-4be2-88fe-6c8699bdc79f' | content=' You' additional_kwargs={} response_metadata={} id='run-b6422f66-0ffe-4be2-88fe-6c8699bdc79f' | content=' measure' additional_kwargs={} response_metadata={} id='run-b6422f66-0ffe-4be2-88fe-6c8699bdc79f' | content=' the' additional_kwargs={} response_metadata={} id='run-b6422f66-0ffe-4be2-88fe-6c8699bdc79f' | content=' q' additional_kwargs={} response_metadata={} id='run-b6422f66-0ffe-4be2-88fe-6c8699bdc79f' | content='ubits' additional_kwargs={} response_metadata={} id='run-b6422f66-0ffe-4be2-88fe-6c8699bdc79f' | content=',' additional_kwargs={} response_metadata={} id='run-b6422f66-0ffe-4be2-88fe-6c8699bdc79f' | content=' and' additional_kwargs={} response_metadata={} id='run-b6422f66-0ffe-4be2-88fe-6c8699bdc79f' | content=' they' additional_kwargs={} response_metadata={} id='run-b6422f66-0ffe-4be2-88fe-6c8699bdc79f' | content=' \"' additional_kwargs={} response_metadata={} id='run-b6422f66-0ffe-4be2-88fe-6c8699bdc79f' | content='collapse' additional_kwargs={} response_metadata={} id='run-b6422f66-0ffe-4be2-88fe-6c8699bdc79f' | content='\"' additional_kwargs={} response_metadata={} id='run-b6422f66-0ffe-4be2-88fe-6c8699bdc79f' | content=' into' additional_kwargs={} response_metadata={} id='run-b6422f66-0ffe-4be2-88fe-6c8699bdc79f' | content=' one' additional_kwargs={} response_metadata={} id='run-b6422f66-0ffe-4be2-88fe-6c8699bdc79f' | content=' state' additional_kwargs={} response_metadata={} id='run-b6422f66-0ffe-4be2-88fe-6c8699bdc79f' | content=' or' additional_kwargs={} response_metadata={} id='run-b6422f66-0ffe-4be2-88fe-6c8699bdc79f' | content=' the' additional_kwargs={} response_metadata={} id='run-b6422f66-0ffe-4be2-88fe-6c8699bdc79f' | content=' other' additional_kwargs={} response_metadata={} id='run-b6422f66-0ffe-4be2-88fe-6c8699bdc79f' | content='.\\n\\n' additional_kwargs={} response_metadata={} id='run-b6422f66-0ffe-4be2-88fe-6c8699bdc79f' | content='**' additional_kwargs={} response_metadata={} id='run-b6422f66-0ffe-4be2-88fe-6c8699bdc79f' | content='Adv' additional_kwargs={} response_metadata={} id='run-b6422f66-0ffe-4be2-88fe-6c8699bdc79f' | content='antages' additional_kwargs={} response_metadata={} id='run-b6422f66-0ffe-4be2-88fe-6c8699bdc79f' | content='**\\n\\n' additional_kwargs={} response_metadata={} id='run-b6422f66-0ffe-4be2-88fe-6c8699bdc79f' | content='Quant' additional_kwargs={} response_metadata={} id='run-b6422f66-0ffe-4be2-88fe-6c8699bdc79f' | content='um' additional_kwargs={} response_metadata={} id='run-b6422f66-0ffe-4be2-88fe-6c8699bdc79f' | content=' computers' additional_kwargs={} response_metadata={} id='run-b6422f66-0ffe-4be2-88fe-6c8699bdc79f' | content=' have' additional_kwargs={} response_metadata={} id='run-b6422f66-0ffe-4be2-88fe-6c8699bdc79f' | content=' some' additional_kwargs={} response_metadata={} id='run-b6422f66-0ffe-4be2-88fe-6c8699bdc79f' | content=' amazing' additional_kwargs={} response_metadata={} id='run-b6422f66-0ffe-4be2-88fe-6c8699bdc79f' | content=' properties' additional_kwargs={} response_metadata={} id='run-b6422f66-0ffe-4be2-88fe-6c8699bdc79f' | content=':\\n\\n' additional_kwargs={} response_metadata={} id='run-b6422f66-0ffe-4be2-88fe-6c8699bdc79f' | content='*' additional_kwargs={} response_metadata={} id='run-b6422f66-0ffe-4be2-88fe-6c8699bdc79f' | content=' **' additional_kwargs={} response_metadata={} id='run-b6422f66-0ffe-4be2-88fe-6c8699bdc79f' | content='Speed' additional_kwargs={} response_metadata={} id='run-b6422f66-0ffe-4be2-88fe-6c8699bdc79f' | content='**:' additional_kwargs={} response_metadata={} id='run-b6422f66-0ffe-4be2-88fe-6c8699bdc79f' | content=' Quantum' additional_kwargs={} response_metadata={} id='run-b6422f66-0ffe-4be2-88fe-6c8699bdc79f' | content=' computers' additional_kwargs={} response_metadata={} id='run-b6422f66-0ffe-4be2-88fe-6c8699bdc79f' | content=' can' additional_kwargs={} response_metadata={} id='run-b6422f66-0ffe-4be2-88fe-6c8699bdc79f' | content=' process' additional_kwargs={} response_metadata={} id='run-b6422f66-0ffe-4be2-88fe-6c8699bdc79f' | content=' certain' additional_kwargs={} response_metadata={} id='run-b6422f66-0ffe-4be2-88fe-6c8699bdc79f' | content=' calculations' additional_kwargs={} response_metadata={} id='run-b6422f66-0ffe-4be2-88fe-6c8699bdc79f' | content=' much' additional_kwargs={} response_metadata={} id='run-b6422f66-0ffe-4be2-88fe-6c8699bdc79f' | content=' faster' additional_kwargs={} response_metadata={} id='run-b6422f66-0ffe-4be2-88fe-6c8699bdc79f' | content=' than' additional_kwargs={} response_metadata={} id='run-b6422f66-0ffe-4be2-88fe-6c8699bdc79f' | content=' classical' additional_kwargs={} response_metadata={} id='run-b6422f66-0ffe-4be2-88fe-6c8699bdc79f' | content=' computers' additional_kwargs={} response_metadata={} id='run-b6422f66-0ffe-4be2-88fe-6c8699bdc79f' | content='.\\n' additional_kwargs={} response_metadata={} id='run-b6422f66-0ffe-4be2-88fe-6c8699bdc79f' | content='*' additional_kwargs={} response_metadata={} id='run-b6422f66-0ffe-4be2-88fe-6c8699bdc79f' | content=' **' additional_kwargs={} response_metadata={} id='run-b6422f66-0ffe-4be2-88fe-6c8699bdc79f' | content='Parallel' additional_kwargs={} response_metadata={} id='run-b6422f66-0ffe-4be2-88fe-6c8699bdc79f' | content='ism' additional_kwargs={} response_metadata={} id='run-b6422f66-0ffe-4be2-88fe-6c8699bdc79f' | content='**:' additional_kwargs={} response_metadata={} id='run-b6422f66-0ffe-4be2-88fe-6c8699bdc79f' | content=' They' additional_kwargs={} response_metadata={} id='run-b6422f66-0ffe-4be2-88fe-6c8699bdc79f' | content=' can' additional_kwargs={} response_metadata={} id='run-b6422f66-0ffe-4be2-88fe-6c8699bdc79f' | content=' perform' additional_kwargs={} response_metadata={} id='run-b6422f66-0ffe-4be2-88fe-6c8699bdc79f' | content=' many' additional_kwargs={} response_metadata={} id='run-b6422f66-0ffe-4be2-88fe-6c8699bdc79f' | content=' calculations' additional_kwargs={} response_metadata={} id='run-b6422f66-0ffe-4be2-88fe-6c8699bdc79f' | content=' simultaneously' additional_kwargs={} response_metadata={} id='run-b6422f66-0ffe-4be2-88fe-6c8699bdc79f' | content=',' additional_kwargs={} response_metadata={} id='run-b6422f66-0ffe-4be2-88fe-6c8699bdc79f' | content=' thanks' additional_kwargs={} response_metadata={} id='run-b6422f66-0ffe-4be2-88fe-6c8699bdc79f' | content=' to' additional_kwargs={} response_metadata={} id='run-b6422f66-0ffe-4be2-88fe-6c8699bdc79f' | content=' super' additional_kwargs={} response_metadata={} id='run-b6422f66-0ffe-4be2-88fe-6c8699bdc79f' | content='position' additional_kwargs={} response_metadata={} id='run-b6422f66-0ffe-4be2-88fe-6c8699bdc79f' | content='.\\n' additional_kwargs={} response_metadata={} id='run-b6422f66-0ffe-4be2-88fe-6c8699bdc79f' | content='*' additional_kwargs={} response_metadata={} id='run-b6422f66-0ffe-4be2-88fe-6c8699bdc79f' | content=' **' additional_kwargs={} response_metadata={} id='run-b6422f66-0ffe-4be2-88fe-6c8699bdc79f' | content='Security' additional_kwargs={} response_metadata={} id='run-b6422f66-0ffe-4be2-88fe-6c8699bdc79f' | content='**:' additional_kwargs={} response_metadata={} id='run-b6422f66-0ffe-4be2-88fe-6c8699bdc79f' | content=' Quantum' additional_kwargs={} response_metadata={} id='run-b6422f66-0ffe-4be2-88fe-6c8699bdc79f' | content=' computers' additional_kwargs={} response_metadata={} id='run-b6422f66-0ffe-4be2-88fe-6c8699bdc79f' | content=' are' additional_kwargs={} response_metadata={} id='run-b6422f66-0ffe-4be2-88fe-6c8699bdc79f' | content=' harder' additional_kwargs={} response_metadata={} id='run-b6422f66-0ffe-4be2-88fe-6c8699bdc79f' | content=' to' additional_kwargs={} response_metadata={} id='run-b6422f66-0ffe-4be2-88fe-6c8699bdc79f' | content=' hack' additional_kwargs={} response_metadata={} id='run-b6422f66-0ffe-4be2-88fe-6c8699bdc79f' | content=' and' additional_kwargs={} response_metadata={} id='run-b6422f66-0ffe-4be2-88fe-6c8699bdc79f' | content=' break' additional_kwargs={} response_metadata={} id='run-b6422f66-0ffe-4be2-88fe-6c8699bdc79f' | content=' encryption' additional_kwargs={} response_metadata={} id='run-b6422f66-0ffe-4be2-88fe-6c8699bdc79f' | content=' codes' additional_kwargs={} response_metadata={} id='run-b6422f66-0ffe-4be2-88fe-6c8699bdc79f' | content='.\\n\\n' additional_kwargs={} response_metadata={} id='run-b6422f66-0ffe-4be2-88fe-6c8699bdc79f' | content='**' additional_kwargs={} response_metadata={} id='run-b6422f66-0ffe-4be2-88fe-6c8699bdc79f' | content='Ch' additional_kwargs={} response_metadata={} id='run-b6422f66-0ffe-4be2-88fe-6c8699bdc79f' | content='allenges' additional_kwargs={} response_metadata={} id='run-b6422f66-0ffe-4be2-88fe-6c8699bdc79f' | content='**\\n\\n' additional_kwargs={} response_metadata={} id='run-b6422f66-0ffe-4be2-88fe-6c8699bdc79f' | content='However' additional_kwargs={} response_metadata={} id='run-b6422f66-0ffe-4be2-88fe-6c8699bdc79f' | content=',' additional_kwargs={} response_metadata={} id='run-b6422f66-0ffe-4be2-88fe-6c8699bdc79f' | content=' quantum' additional_kwargs={} response_metadata={} id='run-b6422f66-0ffe-4be2-88fe-6c8699bdc79f' | content=' computing' additional_kwargs={} response_metadata={} id='run-b6422f66-0ffe-4be2-88fe-6c8699bdc79f' | content=' is' additional_kwargs={} response_metadata={} id='run-b6422f66-0ffe-4be2-88fe-6c8699bdc79f' | content=' still' additional_kwargs={} response_metadata={} id='run-b6422f66-0ffe-4be2-88fe-6c8699bdc79f' | content=' a' additional_kwargs={} response_metadata={} id='run-b6422f66-0ffe-4be2-88fe-6c8699bdc79f' | content=' developing' additional_kwargs={} response_metadata={} id='run-b6422f66-0ffe-4be2-88fe-6c8699bdc79f' | content=' field' additional_kwargs={} response_metadata={} id='run-b6422f66-0ffe-4be2-88fe-6c8699bdc79f' | content='.' additional_kwargs={} response_metadata={} id='run-b6422f66-0ffe-4be2-88fe-6c8699bdc79f' | content=' Some' additional_kwargs={} response_metadata={} id='run-b6422f66-0ffe-4be2-88fe-6c8699bdc79f' | content=' challenges' additional_kwargs={} response_metadata={} id='run-b6422f66-0ffe-4be2-88fe-6c8699bdc79f' | content=' include' additional_kwargs={} response_metadata={} id='run-b6422f66-0ffe-4be2-88fe-6c8699bdc79f' | content=':\\n\\n' additional_kwargs={} response_metadata={} id='run-b6422f66-0ffe-4be2-88fe-6c8699bdc79f' | content='*' additional_kwargs={} response_metadata={} id='run-b6422f66-0ffe-4be2-88fe-6c8699bdc79f' | content=' **' additional_kwargs={} response_metadata={} id='run-b6422f66-0ffe-4be2-88fe-6c8699bdc79f' | content='Error' additional_kwargs={} response_metadata={} id='run-b6422f66-0ffe-4be2-88fe-6c8699bdc79f' | content=' correction' additional_kwargs={} response_metadata={} id='run-b6422f66-0ffe-4be2-88fe-6c8699bdc79f' | content='**:' additional_kwargs={} response_metadata={} id='run-b6422f66-0ffe-4be2-88fe-6c8699bdc79f' | content=' Quantum' additional_kwargs={} response_metadata={} id='run-b6422f66-0ffe-4be2-88fe-6c8699bdc79f' | content=' computers' additional_kwargs={} response_metadata={} id='run-b6422f66-0ffe-4be2-88fe-6c8699bdc79f' | content=' are' additional_kwargs={} response_metadata={} id='run-b6422f66-0ffe-4be2-88fe-6c8699bdc79f' | content=' prone' additional_kwargs={} response_metadata={} id='run-b6422f66-0ffe-4be2-88fe-6c8699bdc79f' | content=' to' additional_kwargs={} response_metadata={} id='run-b6422f66-0ffe-4be2-88fe-6c8699bdc79f' | content=' errors' additional_kwargs={} response_metadata={} id='run-b6422f66-0ffe-4be2-88fe-6c8699bdc79f' | content=' due' additional_kwargs={} response_metadata={} id='run-b6422f66-0ffe-4be2-88fe-6c8699bdc79f' | content=' to' additional_kwargs={} response_metadata={} id='run-b6422f66-0ffe-4be2-88fe-6c8699bdc79f' | content=' the' additional_kwargs={} response_metadata={} id='run-b6422f66-0ffe-4be2-88fe-6c8699bdc79f' | content=' fragile' additional_kwargs={} response_metadata={} id='run-b6422f66-0ffe-4be2-88fe-6c8699bdc79f' | content=' nature' additional_kwargs={} response_metadata={} id='run-b6422f66-0ffe-4be2-88fe-6c8699bdc79f' | content=' of' additional_kwargs={} response_metadata={} id='run-b6422f66-0ffe-4be2-88fe-6c8699bdc79f' | content=' q' additional_kwargs={} response_metadata={} id='run-b6422f66-0ffe-4be2-88fe-6c8699bdc79f' | content='ubits' additional_kwargs={} response_metadata={} id='run-b6422f66-0ffe-4be2-88fe-6c8699bdc79f' | content='.\\n' additional_kwargs={} response_metadata={} id='run-b6422f66-0ffe-4be2-88fe-6c8699bdc79f' | content='*' additional_kwargs={} response_metadata={} id='run-b6422f66-0ffe-4be2-88fe-6c8699bdc79f' | content=' **' additional_kwargs={} response_metadata={} id='run-b6422f66-0ffe-4be2-88fe-6c8699bdc79f' | content='Sc' additional_kwargs={} response_metadata={} id='run-b6422f66-0ffe-4be2-88fe-6c8699bdc79f' | content='al' additional_kwargs={} response_metadata={} id='run-b6422f66-0ffe-4be2-88fe-6c8699bdc79f' | content='ability' additional_kwargs={} response_metadata={} id='run-b6422f66-0ffe-4be2-88fe-6c8699bdc79f' | content='**:' additional_kwargs={} response_metadata={} id='run-b6422f66-0ffe-4be2-88fe-6c8699bdc79f' | content=' Currently' additional_kwargs={} response_metadata={} id='run-b6422f66-0ffe-4be2-88fe-6c8699bdc79f' | content=',' additional_kwargs={} response_metadata={} id='run-b6422f66-0ffe-4be2-88fe-6c8699bdc79f' | content=' most' additional_kwargs={} response_metadata={} id='run-b6422f66-0ffe-4be2-88fe-6c8699bdc79f' | content=' quantum' additional_kwargs={} response_metadata={} id='run-b6422f66-0ffe-4be2-88fe-6c8699bdc79f' | content=' computers' additional_kwargs={} response_metadata={} id='run-b6422f66-0ffe-4be2-88fe-6c8699bdc79f' | content=' are' additional_kwargs={} response_metadata={} id='run-b6422f66-0ffe-4be2-88fe-6c8699bdc79f' | content=' small' additional_kwargs={} response_metadata={} id='run-b6422f66-0ffe-4be2-88fe-6c8699bdc79f' | content='-scale' additional_kwargs={} response_metadata={} id='run-b6422f66-0ffe-4be2-88fe-6c8699bdc79f' | content=' and' additional_kwargs={} response_metadata={} id='run-b6422f66-0ffe-4be2-88fe-6c8699bdc79f' | content=' need' additional_kwargs={} response_metadata={} id='run-b6422f66-0ffe-4be2-88fe-6c8699bdc79f' | content=' to' additional_kwargs={} response_metadata={} id='run-b6422f66-0ffe-4be2-88fe-6c8699bdc79f' | content=' be' additional_kwargs={} response_metadata={} id='run-b6422f66-0ffe-4be2-88fe-6c8699bdc79f' | content=' scaled' additional_kwargs={} response_metadata={} id='run-b6422f66-0ffe-4be2-88fe-6c8699bdc79f' | content=' up' additional_kwargs={} response_metadata={} id='run-b6422f66-0ffe-4be2-88fe-6c8699bdc79f' | content=' for' additional_kwargs={} response_metadata={} id='run-b6422f66-0ffe-4be2-88fe-6c8699bdc79f' | content=' practical' additional_kwargs={} response_metadata={} id='run-b6422f66-0ffe-4be2-88fe-6c8699bdc79f' | content=' use' additional_kwargs={} response_metadata={} id='run-b6422f66-0ffe-4be2-88fe-6c8699bdc79f' | content='.\\n\\n' additional_kwargs={} response_metadata={} id='run-b6422f66-0ffe-4be2-88fe-6c8699bdc79f' | content='In' additional_kwargs={} response_metadata={} id='run-b6422f66-0ffe-4be2-88fe-6c8699bdc79f' | content=' summary' additional_kwargs={} response_metadata={} id='run-b6422f66-0ffe-4be2-88fe-6c8699bdc79f' | content=',' additional_kwargs={} response_metadata={} id='run-b6422f66-0ffe-4be2-88fe-6c8699bdc79f' | content=' Quantum' additional_kwargs={} response_metadata={} id='run-b6422f66-0ffe-4be2-88fe-6c8699bdc79f' | content=' Computing' additional_kwargs={} response_metadata={} id='run-b6422f66-0ffe-4be2-88fe-6c8699bdc79f' | content=' is' additional_kwargs={} response_metadata={} id='run-b6422f66-0ffe-4be2-88fe-6c8699bdc79f' | content=' a' additional_kwargs={} response_metadata={} id='run-b6422f66-0ffe-4be2-88fe-6c8699bdc79f' | content=' new' additional_kwargs={} response_metadata={} id='run-b6422f66-0ffe-4be2-88fe-6c8699bdc79f' | content=' way' additional_kwargs={} response_metadata={} id='run-b6422f66-0ffe-4be2-88fe-6c8699bdc79f' | content=' of' additional_kwargs={} response_metadata={} id='run-b6422f66-0ffe-4be2-88fe-6c8699bdc79f' | content=' processing' additional_kwargs={} response_metadata={} id='run-b6422f66-0ffe-4be2-88fe-6c8699bdc79f' | content=' information' additional_kwargs={} response_metadata={} id='run-b6422f66-0ffe-4be2-88fe-6c8699bdc79f' | content=' that' additional_kwargs={} response_metadata={} id='run-b6422f66-0ffe-4be2-88fe-6c8699bdc79f' | content=' uses' additional_kwargs={} response_metadata={} id='run-b6422f66-0ffe-4be2-88fe-6c8699bdc79f' | content=' special' additional_kwargs={} response_metadata={} id='run-b6422f66-0ffe-4be2-88fe-6c8699bdc79f' | content=' \"' additional_kwargs={} response_metadata={} id='run-b6422f66-0ffe-4be2-88fe-6c8699bdc79f' | content='q' additional_kwargs={} response_metadata={} id='run-b6422f66-0ffe-4be2-88fe-6c8699bdc79f' | content='ubits' additional_kwargs={} response_metadata={} id='run-b6422f66-0ffe-4be2-88fe-6c8699bdc79f' | content='\"' additional_kwargs={} response_metadata={} id='run-b6422f66-0ffe-4be2-88fe-6c8699bdc79f' | content=' to' additional_kwargs={} response_metadata={} id='run-b6422f66-0ffe-4be2-88fe-6c8699bdc79f' | content=' perform' additional_kwargs={} response_metadata={} id='run-b6422f66-0ffe-4be2-88fe-6c8699bdc79f' | content=' calculations' additional_kwargs={} response_metadata={} id='run-b6422f66-0ffe-4be2-88fe-6c8699bdc79f' | content=' much' additional_kwargs={} response_metadata={} id='run-b6422f66-0ffe-4be2-88fe-6c8699bdc79f' | content=' faster' additional_kwargs={} response_metadata={} id='run-b6422f66-0ffe-4be2-88fe-6c8699bdc79f' | content=' and' additional_kwargs={} response_metadata={} id='run-b6422f66-0ffe-4be2-88fe-6c8699bdc79f' | content=' more' additional_kwargs={} response_metadata={} id='run-b6422f66-0ffe-4be2-88fe-6c8699bdc79f' | content=' efficiently' additional_kwargs={} response_metadata={} id='run-b6422f66-0ffe-4be2-88fe-6c8699bdc79f' | content=' than' additional_kwargs={} response_metadata={} id='run-b6422f66-0ffe-4be2-88fe-6c8699bdc79f' | content=' classical' additional_kwargs={} response_metadata={} id='run-b6422f66-0ffe-4be2-88fe-6c8699bdc79f' | content=' computers' additional_kwargs={} response_metadata={} id='run-b6422f66-0ffe-4be2-88fe-6c8699bdc79f' | content='.' additional_kwargs={} response_metadata={} id='run-b6422f66-0ffe-4be2-88fe-6c8699bdc79f' | content='' additional_kwargs={} response_metadata={'model': 'llama3.2:latest', 'created_at': '2025-01-30T13:35:06.2381876Z', 'done': True, 'done_reason': 'stop', 'total_duration': 3178095200, 'load_duration': 18835500, 'prompt_eval_count': 32, 'prompt_eval_duration': 41000000, 'eval_count': 448, 'eval_duration': 3116000000, 'message': Message(role='assistant', content='', images=None, tool_calls=None)} id='run-b6422f66-0ffe-4be2-88fe-6c8699bdc79f' usage_metadata={'input_tokens': 32, 'output_tokens': 448, 'total_tokens': 480} | "
     ]
    }
   ],
   "source": [
    "for chunk in llm.stream(\"Explain Quantum Computing in simple terms\"):\n",
    "    print(chunk, end=\" | \", flush=True)\n"
   ]
  },
  {
   "cell_type": "code",
   "execution_count": 6,
   "metadata": {},
   "outputs": [
    {
     "name": "stdout",
     "output_type": "stream",
     "text": [
      "hELLO! iT'S NICE TO MEET YOU. iS THERE SOMETHING i CAN HELP YOU WITH OR WOULD YOU LIKE TO CHAT?\n"
     ]
    }
   ],
   "source": [
    "from langchain_core.runnables import RunnableLambda\n",
    "from langchain_core.messages import AIMessage\n",
    "\n",
    "# Define a simple case-inverting parser\n",
    "def parse(ai_message: AIMessage) -> str:\n",
    "    return ai_message.content.swapcase()\n",
    "\n",
    "# Convert into a Runnable\n",
    "parse = RunnableLambda(parse)\n",
    "\n",
    "# Chain the model with the parser\n",
    "chain = llm | parse\n",
    "\n",
    "# Invoke the model\n",
    "response = chain.invoke(\"Hello, world!\")\n",
    "print(response)\n"
   ]
  },
  {
   "cell_type": "code",
   "execution_count": 7,
   "metadata": {},
   "outputs": [
    {
     "name": "stdout",
     "output_type": "stream",
     "text": [
      "hERE | 'S |  ONE | :\n",
      "\n",
      " | dID |  YOU |  KNOW |  THAT |  HONEY |  NEVER |  SPO | ILS | ? |  aRCHAE | OLOGISTS |  HAVE |  FOUND |  POTS |  OF |  HONEY |  IN |  ANCIENT |  eGYPTIAN |  TOM | BS |  THAT |  ARE |  OVER |   | 3 | , | 000 |  YEARS |  OLD |  AND |  STILL |  PERFECTLY |  EDIBLE | ! |  hONEY | 'S |  UNIQUE |  COMPOSITION | , |  WITH |  ITS |  LOW |  MOISTURE |  CONTENT |  AND |  ACIDIC |  Ph | , |  MAKES |  IT |  AN |  IDEAL |  PRES | ERVATIVE | . |  iT | 'S |  ALSO |  A |  NATURAL |  ANTIB | ACTERIAL |  AGENT | , |  WHICH |  HELPS |  TO |  PREVENT |  THE |  GROWTH |  OF |  BACTERIA |  AND |  OTHER |  MICRO | ORGANISMS |  THAT |  CAN |  CAUSE |  SPOIL | AGE | . |  sO | , |  IF |  YOU |  EVER |  FIND |  YOURSELF |  IN |  ANCIENT |  eGYPT | , |  JUST |  GRAB |  A |  JAR |  OF |  HONEY |  FROM |  THE |  TOMB |  – |  IT | 'LL |  STILL |  BE |  SWEET | ! |  | "
     ]
    }
   ],
   "source": [
    "from typing import Iterable\n",
    "from langchain_core.messages import AIMessageChunk\n",
    "from langchain_core.runnables import RunnableGenerator\n",
    "\n",
    "# Define a streaming parser\n",
    "def streaming_parse(chunks: Iterable[AIMessageChunk]) -> Iterable[str]:\n",
    "    for chunk in chunks:\n",
    "        yield chunk.content.swapcase()\n",
    "\n",
    "# Wrap in RunnableGenerator\n",
    "streaming_parse = RunnableGenerator(streaming_parse)\n",
    "\n",
    "# Chain with Ollama\n",
    "chain = llm | streaming_parse\n",
    "\n",
    "# Stream output\n",
    "for chunk in chain.stream(\"Tell me a fun fact\"):\n",
    "    print(chunk, end=\" | \", flush=True)\n"
   ]
  },
  {
   "cell_type": "code",
   "execution_count": 9,
   "metadata": {},
   "outputs": [
    {
     "name": "stdout",
     "output_type": "stream",
     "text": [
      "The capital of France is Paris.\n"
     ]
    }
   ],
   "source": [
    "import asyncio\n",
    "\n",
    "async def async_call():\n",
    "    result = await llm.ainvoke(\"What is the capital of France?\")\n",
    "    print(result.content)\n",
    "\n",
    "# Run in Jupyter Notebook\n",
    "await async_call()\n"
   ]
  },
  {
   "cell_type": "code",
   "execution_count": 11,
   "metadata": {},
   "outputs": [
    {
     "name": "stdout",
     "output_type": "stream",
     "text": [
      "Processed Output: HELLO, WORLD!\n"
     ]
    }
   ],
   "source": [
    "from langchain_core.runnables import RunnableLambda\n",
    "from langchain_ollama import ChatOllama\n",
    "\n",
    "# Define a simple transformation function\n",
    "def process_text(input_text: str) -> str:\n",
    "    \"\"\"Converts input text to uppercase.\"\"\"\n",
    "    return input_text.upper()\n",
    "\n",
    "# Wrap it in a Runnable\n",
    "some_runnable = RunnableLambda(process_text)\n",
    "\n",
    "# Invoke the Runnable with a custom config\n",
    "response = some_runnable.invoke(\n",
    "    \"Hello, world!\", \n",
    "    config={\n",
    "        \"run_name\": \"my_run\",  # Custom run name\n",
    "        \"tags\": [\"example\", \"langchain\"],  # Tags for tracking\n",
    "        \"metadata\": {\"user\": \"admin\"}  # Additional metadata\n",
    "    }\n",
    ")\n",
    "\n",
    "# Print the output\n",
    "print(\"Processed Output:\", response)\n"
   ]
  },
  {
   "cell_type": "code",
   "execution_count": 12,
   "metadata": {},
   "outputs": [
    {
     "name": "stdout",
     "output_type": "stream",
     "text": [
      "LLM Response: Here's one:\n",
      "\n",
      "Did you know that there is a giant storm on Jupiter that has been raging for at least 187 years? The Great Red Spot, as it's called, is a massive anticyclonic storm (a high-pressure region with clockwise rotation) that is larger than Earth in diameter. It's so large that three Earths could fit inside it! Despite its size, the storm is still actively churning and has been continuously observed since 1831.\n",
      "\n",
      "Isn't that out of this world?\n"
     ]
    }
   ],
   "source": [
    "# Initialize Ollama LLM\n",
    "llm = ChatOllama(model=\"llama3.2:latest\", temperature=0)\n",
    "\n",
    "# Define a new Runnable that interacts with the LLM\n",
    "llm_runnable = RunnableLambda(lambda query: llm.invoke(query).content)\n",
    "\n",
    "# Invoke the LLM with a configuration\n",
    "response = llm_runnable.invoke(\n",
    "    \"Tell me a fun fact about space!\", \n",
    "    config={\n",
    "        \"run_name\": \"space_query\",\n",
    "        \"tags\": [\"AI\", \"Ollama\"],\n",
    "        \"metadata\": {\"user\": \"researcher\"}\n",
    "    }\n",
    ")\n",
    "\n",
    "# Print the response\n",
    "print(\"LLM Response:\", response)\n"
   ]
  }
 ],
 "metadata": {
  "kernelspec": {
   "display_name": "langchain_py311",
   "language": "python",
   "name": "python3"
  },
  "language_info": {
   "codemirror_mode": {
    "name": "ipython",
    "version": 3
   },
   "file_extension": ".py",
   "mimetype": "text/x-python",
   "name": "python",
   "nbconvert_exporter": "python",
   "pygments_lexer": "ipython3",
   "version": "3.11.10"
  }
 },
 "nbformat": 4,
 "nbformat_minor": 2
}
